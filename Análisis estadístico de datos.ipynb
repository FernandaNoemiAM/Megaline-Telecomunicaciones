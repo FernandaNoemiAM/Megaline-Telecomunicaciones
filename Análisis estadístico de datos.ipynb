{
 "cells": [
  {
   "cell_type": "markdown",
   "metadata": {
    "id": "3rYiDeEH0q0f"
   },
   "source": [
    "# ¿Cuál es la mejor tarifa?\n",
    "\n",
    "Trabajas como analista para el operador de telecomunicaciones Megaline. La empresa ofrece a sus clientes dos tarifas de prepago, Surf y Ultimate. El departamento comercial quiere saber cuál de las tarifas genera más ingresos para poder ajustar el presupuesto de publicidad.\n",
    "\n",
    "Vas a realizar un análisis preliminar de las tarifas basado en una selección de clientes relativamente pequeña. Tendrás los datos de 500 clientes de Megaline: quiénes son los clientes, de dónde son, qué tarifa usan, así como la cantidad de llamadas que hicieron y los mensajes de texto que enviaron en 2018. Tu trabajo es analizar el comportamiento de los clientes y determinar qué tarifa de prepago genera más ingresos."
   ]
  },
  {
   "cell_type": "markdown",
   "metadata": {
    "id": "VNddPNRQ0q0w"
   },
   "source": [
    "[Te proporcionamos algunos comentarios para orientarte mientras completas este proyecto. Pero debes asegurarte de eliminar todos los comentarios entre corchetes antes de entregar tu proyecto.]\n",
    "\n",
    "[Antes de sumergirte en el análisis de datos, explica por tu propia cuenta el propósito del proyecto y las acciones que planeas realizar.]\n",
    "\n",
    "[Ten en cuenta que estudiar, modificar y analizar datos es un proceso iterativo. Es normal volver a los pasos anteriores y corregirlos/ampliarlos para permitir nuevos pasos.]"
   ]
  },
  {
   "cell_type": "markdown",
   "metadata": {
    "id": "MQi4IPy70q0y"
   },
   "source": [
    "## Inicialización"
   ]
  },
  {
   "cell_type": "code",
   "execution_count": 1,
   "metadata": {
    "id": "MtYIuBxu0q0z"
   },
   "outputs": [],
   "source": [
    "# Cargar todas las librerías\n",
    "import pandas as pd\n",
    "from matplotlib import pyplot as plt\n",
    "import numpy as np \n",
    "from scipy import stats as st\n",
    "import math\n",
    "import warnings\n",
    "warnings.filterwarnings(\"ignore\")\n",
    "import seaborn as sns\n"
   ]
  },
  {
   "cell_type": "markdown",
   "metadata": {
    "id": "4ysWWC5i0q00"
   },
   "source": [
    "## Cargar datos"
   ]
  },
  {
   "cell_type": "code",
   "execution_count": 2,
   "metadata": {
    "id": "CCqPW7rS0q01"
   },
   "outputs": [],
   "source": [
    "# Carga los archivos de datos en diferentes DataFrames\n",
    "\n",
    "df_calls = pd.read_csv('./megaline_calls.csv')\n",
    "df_internet= pd.read_csv('./megaline_internet.csv')\n",
    "df_messages= pd.read_csv('./megaline_messages.csv')\n",
    "df_plans= pd.read_csv('./megaline_plans.csv')\n",
    "df_users= pd.read_csv('./megaline_users.csv')"
   ]
  },
  {
   "cell_type": "markdown",
   "metadata": {
    "id": "69qqoJ3r0q01"
   },
   "source": [
    "## Preparar los datos"
   ]
  },
  {
   "cell_type": "markdown",
   "metadata": {
    "id": "vUuZw80S0q01"
   },
   "source": [
    "[Los datos para este proyecto se dividen en varias tablas. Explora cada una para tener una comprensión inicial de los datos. Si es necesario, haz las correcciones requeridas en cada tabla.]"
   ]
  },
  {
   "cell_type": "markdown",
   "metadata": {
    "id": "ohBhimvH0q01"
   },
   "source": [
    "## Tarifas"
   ]
  },
  {
   "cell_type": "code",
   "execution_count": 3,
   "metadata": {
    "id": "GptqP3Q40q02"
   },
   "outputs": [
    {
     "name": "stdout",
     "output_type": "stream",
     "text": [
      "<class 'pandas.core.frame.DataFrame'>\n",
      "RangeIndex: 2 entries, 0 to 1\n",
      "Data columns (total 8 columns):\n",
      " #   Column                 Non-Null Count  Dtype  \n",
      "---  ------                 --------------  -----  \n",
      " 0   messages_included      2 non-null      int64  \n",
      " 1   mb_per_month_included  2 non-null      int64  \n",
      " 2   minutes_included       2 non-null      int64  \n",
      " 3   usd_monthly_pay        2 non-null      int64  \n",
      " 4   usd_per_gb             2 non-null      int64  \n",
      " 5   usd_per_message        2 non-null      float64\n",
      " 6   usd_per_minute         2 non-null      float64\n",
      " 7   plan_name              2 non-null      object \n",
      "dtypes: float64(2), int64(5), object(1)\n",
      "memory usage: 260.0+ bytes\n"
     ]
    },
    {
     "data": {
      "text/html": [
       "<div>\n",
       "<style scoped>\n",
       "    .dataframe tbody tr th:only-of-type {\n",
       "        vertical-align: middle;\n",
       "    }\n",
       "\n",
       "    .dataframe tbody tr th {\n",
       "        vertical-align: top;\n",
       "    }\n",
       "\n",
       "    .dataframe thead th {\n",
       "        text-align: right;\n",
       "    }\n",
       "</style>\n",
       "<table border=\"1\" class=\"dataframe\">\n",
       "  <thead>\n",
       "    <tr style=\"text-align: right;\">\n",
       "      <th></th>\n",
       "      <th>messages_included</th>\n",
       "      <th>mb_per_month_included</th>\n",
       "      <th>minutes_included</th>\n",
       "      <th>usd_monthly_pay</th>\n",
       "      <th>usd_per_gb</th>\n",
       "      <th>usd_per_message</th>\n",
       "      <th>usd_per_minute</th>\n",
       "    </tr>\n",
       "  </thead>\n",
       "  <tbody>\n",
       "    <tr>\n",
       "      <th>count</th>\n",
       "      <td>2.000000</td>\n",
       "      <td>2.000000</td>\n",
       "      <td>2.000000</td>\n",
       "      <td>2.000000</td>\n",
       "      <td>2.00000</td>\n",
       "      <td>2.000000</td>\n",
       "      <td>2.000000</td>\n",
       "    </tr>\n",
       "    <tr>\n",
       "      <th>mean</th>\n",
       "      <td>525.000000</td>\n",
       "      <td>23040.000000</td>\n",
       "      <td>1750.000000</td>\n",
       "      <td>45.000000</td>\n",
       "      <td>8.50000</td>\n",
       "      <td>0.020000</td>\n",
       "      <td>0.020000</td>\n",
       "    </tr>\n",
       "    <tr>\n",
       "      <th>std</th>\n",
       "      <td>671.751442</td>\n",
       "      <td>10861.160159</td>\n",
       "      <td>1767.766953</td>\n",
       "      <td>35.355339</td>\n",
       "      <td>2.12132</td>\n",
       "      <td>0.014142</td>\n",
       "      <td>0.014142</td>\n",
       "    </tr>\n",
       "    <tr>\n",
       "      <th>min</th>\n",
       "      <td>50.000000</td>\n",
       "      <td>15360.000000</td>\n",
       "      <td>500.000000</td>\n",
       "      <td>20.000000</td>\n",
       "      <td>7.00000</td>\n",
       "      <td>0.010000</td>\n",
       "      <td>0.010000</td>\n",
       "    </tr>\n",
       "    <tr>\n",
       "      <th>25%</th>\n",
       "      <td>287.500000</td>\n",
       "      <td>19200.000000</td>\n",
       "      <td>1125.000000</td>\n",
       "      <td>32.500000</td>\n",
       "      <td>7.75000</td>\n",
       "      <td>0.015000</td>\n",
       "      <td>0.015000</td>\n",
       "    </tr>\n",
       "    <tr>\n",
       "      <th>50%</th>\n",
       "      <td>525.000000</td>\n",
       "      <td>23040.000000</td>\n",
       "      <td>1750.000000</td>\n",
       "      <td>45.000000</td>\n",
       "      <td>8.50000</td>\n",
       "      <td>0.020000</td>\n",
       "      <td>0.020000</td>\n",
       "    </tr>\n",
       "    <tr>\n",
       "      <th>75%</th>\n",
       "      <td>762.500000</td>\n",
       "      <td>26880.000000</td>\n",
       "      <td>2375.000000</td>\n",
       "      <td>57.500000</td>\n",
       "      <td>9.25000</td>\n",
       "      <td>0.025000</td>\n",
       "      <td>0.025000</td>\n",
       "    </tr>\n",
       "    <tr>\n",
       "      <th>max</th>\n",
       "      <td>1000.000000</td>\n",
       "      <td>30720.000000</td>\n",
       "      <td>3000.000000</td>\n",
       "      <td>70.000000</td>\n",
       "      <td>10.00000</td>\n",
       "      <td>0.030000</td>\n",
       "      <td>0.030000</td>\n",
       "    </tr>\n",
       "  </tbody>\n",
       "</table>\n",
       "</div>"
      ],
      "text/plain": [
       "       messages_included  mb_per_month_included  minutes_included  \\\n",
       "count           2.000000               2.000000          2.000000   \n",
       "mean          525.000000           23040.000000       1750.000000   \n",
       "std           671.751442           10861.160159       1767.766953   \n",
       "min            50.000000           15360.000000        500.000000   \n",
       "25%           287.500000           19200.000000       1125.000000   \n",
       "50%           525.000000           23040.000000       1750.000000   \n",
       "75%           762.500000           26880.000000       2375.000000   \n",
       "max          1000.000000           30720.000000       3000.000000   \n",
       "\n",
       "       usd_monthly_pay  usd_per_gb  usd_per_message  usd_per_minute  \n",
       "count         2.000000     2.00000         2.000000        2.000000  \n",
       "mean         45.000000     8.50000         0.020000        0.020000  \n",
       "std          35.355339     2.12132         0.014142        0.014142  \n",
       "min          20.000000     7.00000         0.010000        0.010000  \n",
       "25%          32.500000     7.75000         0.015000        0.015000  \n",
       "50%          45.000000     8.50000         0.020000        0.020000  \n",
       "75%          57.500000     9.25000         0.025000        0.025000  \n",
       "max          70.000000    10.00000         0.030000        0.030000  "
      ]
     },
     "execution_count": 3,
     "metadata": {},
     "output_type": "execute_result"
    }
   ],
   "source": [
    "# Imprime la información general/resumida sobre el DataFrame de las tarifas\n",
    "df_plans.info()\n",
    "df_plans.describe()"
   ]
  },
  {
   "cell_type": "code",
   "execution_count": 4,
   "metadata": {
    "id": "64xzjwL70q02"
   },
   "outputs": [
    {
     "data": {
      "text/html": [
       "<div>\n",
       "<style scoped>\n",
       "    .dataframe tbody tr th:only-of-type {\n",
       "        vertical-align: middle;\n",
       "    }\n",
       "\n",
       "    .dataframe tbody tr th {\n",
       "        vertical-align: top;\n",
       "    }\n",
       "\n",
       "    .dataframe thead th {\n",
       "        text-align: right;\n",
       "    }\n",
       "</style>\n",
       "<table border=\"1\" class=\"dataframe\">\n",
       "  <thead>\n",
       "    <tr style=\"text-align: right;\">\n",
       "      <th></th>\n",
       "      <th>messages_included</th>\n",
       "      <th>mb_per_month_included</th>\n",
       "      <th>minutes_included</th>\n",
       "      <th>usd_monthly_pay</th>\n",
       "      <th>usd_per_gb</th>\n",
       "      <th>usd_per_message</th>\n",
       "      <th>usd_per_minute</th>\n",
       "      <th>plan_name</th>\n",
       "    </tr>\n",
       "  </thead>\n",
       "  <tbody>\n",
       "    <tr>\n",
       "      <th>0</th>\n",
       "      <td>50</td>\n",
       "      <td>15360</td>\n",
       "      <td>500</td>\n",
       "      <td>20</td>\n",
       "      <td>10</td>\n",
       "      <td>0.03</td>\n",
       "      <td>0.03</td>\n",
       "      <td>surf</td>\n",
       "    </tr>\n",
       "    <tr>\n",
       "      <th>1</th>\n",
       "      <td>1000</td>\n",
       "      <td>30720</td>\n",
       "      <td>3000</td>\n",
       "      <td>70</td>\n",
       "      <td>7</td>\n",
       "      <td>0.01</td>\n",
       "      <td>0.01</td>\n",
       "      <td>ultimate</td>\n",
       "    </tr>\n",
       "  </tbody>\n",
       "</table>\n",
       "</div>"
      ],
      "text/plain": [
       "   messages_included  mb_per_month_included  minutes_included  \\\n",
       "0                 50                  15360               500   \n",
       "1               1000                  30720              3000   \n",
       "\n",
       "   usd_monthly_pay  usd_per_gb  usd_per_message  usd_per_minute plan_name  \n",
       "0               20          10             0.03            0.03      surf  \n",
       "1               70           7             0.01            0.01  ultimate  "
      ]
     },
     "execution_count": 4,
     "metadata": {},
     "output_type": "execute_result"
    }
   ],
   "source": [
    "# Imprime una muestra de los datos para las tarifas\n",
    "df_plans"
   ]
  },
  {
   "cell_type": "markdown",
   "metadata": {
    "id": "mEc_3_hs0q02"
   },
   "source": [
    "[Describe lo que ves y observas en la información general y en la muestra de datos impresa para el precio de datos anterior. ¿Hay algún problema (tipos de datos no adecuados, datos ausentes, etc.) que pudieran necesitar investigación y cambios adicionales? ¿Cómo se puede arreglar?]\n",
    "\n",
    "Se observan que no hay datos nulos y que el tipo de datos es int 64 a excepción de usd_per_message y usd_per_minute, en este caso es porque es el costo definido del plan y no puede ser un entero. "
   ]
  },
  {
   "cell_type": "markdown",
   "metadata": {
    "id": "R3C05i1l0q03"
   },
   "source": [
    "## Corregir datos"
   ]
  },
  {
   "cell_type": "markdown",
   "metadata": {
    "id": "bIi8StZI0q03"
   },
   "source": [
    "[Corrige los problemas obvios con los datos basándote en las observaciones iniciales.]"
   ]
  },
  {
   "cell_type": "code",
   "execution_count": 5,
   "metadata": {
    "id": "Y7SVmjGn0q03"
   },
   "outputs": [
    {
     "data": {
      "text/plain": [
       "np.int64(0)"
      ]
     },
     "execution_count": 5,
     "metadata": {},
     "output_type": "execute_result"
    }
   ],
   "source": [
    "duplicated=df_plans.duplicated().sum()\n",
    "duplicated\n",
    "#No hay valores duplicados ni ausentes "
   ]
  },
  {
   "cell_type": "markdown",
   "metadata": {
    "id": "LJir7bml0q03"
   },
   "source": [
    "## Enriquecer los datos"
   ]
  },
  {
   "cell_type": "markdown",
   "metadata": {
    "id": "eqADpCfg0q04"
   },
   "source": [
    "[Agrega factores adicionales a los datos si crees que pudieran ser útiles.]"
   ]
  },
  {
   "cell_type": "code",
   "execution_count": 6,
   "metadata": {
    "id": "gfcIEuXV0q04"
   },
   "outputs": [],
   "source": [
    "#No hay valores que considere útiles en este caso que se puedan agregar. "
   ]
  },
  {
   "cell_type": "markdown",
   "metadata": {
    "id": "1n2X6WXf0q04"
   },
   "source": [
    "## Usuarios/as"
   ]
  },
  {
   "cell_type": "code",
   "execution_count": 7,
   "metadata": {
    "id": "2NgjWFqx0q05",
    "scrolled": true
   },
   "outputs": [
    {
     "name": "stdout",
     "output_type": "stream",
     "text": [
      "<class 'pandas.core.frame.DataFrame'>\n",
      "RangeIndex: 500 entries, 0 to 499\n",
      "Data columns (total 8 columns):\n",
      " #   Column      Non-Null Count  Dtype \n",
      "---  ------      --------------  ----- \n",
      " 0   user_id     500 non-null    int64 \n",
      " 1   first_name  500 non-null    object\n",
      " 2   last_name   500 non-null    object\n",
      " 3   age         500 non-null    int64 \n",
      " 4   city        500 non-null    object\n",
      " 5   reg_date    500 non-null    object\n",
      " 6   plan        500 non-null    object\n",
      " 7   churn_date  34 non-null     object\n",
      "dtypes: int64(2), object(6)\n",
      "memory usage: 31.4+ KB\n"
     ]
    },
    {
     "data": {
      "text/html": [
       "<div>\n",
       "<style scoped>\n",
       "    .dataframe tbody tr th:only-of-type {\n",
       "        vertical-align: middle;\n",
       "    }\n",
       "\n",
       "    .dataframe tbody tr th {\n",
       "        vertical-align: top;\n",
       "    }\n",
       "\n",
       "    .dataframe thead th {\n",
       "        text-align: right;\n",
       "    }\n",
       "</style>\n",
       "<table border=\"1\" class=\"dataframe\">\n",
       "  <thead>\n",
       "    <tr style=\"text-align: right;\">\n",
       "      <th></th>\n",
       "      <th>user_id</th>\n",
       "      <th>age</th>\n",
       "    </tr>\n",
       "  </thead>\n",
       "  <tbody>\n",
       "    <tr>\n",
       "      <th>count</th>\n",
       "      <td>500.000000</td>\n",
       "      <td>500.000000</td>\n",
       "    </tr>\n",
       "    <tr>\n",
       "      <th>mean</th>\n",
       "      <td>1249.500000</td>\n",
       "      <td>45.486000</td>\n",
       "    </tr>\n",
       "    <tr>\n",
       "      <th>std</th>\n",
       "      <td>144.481833</td>\n",
       "      <td>16.972269</td>\n",
       "    </tr>\n",
       "    <tr>\n",
       "      <th>min</th>\n",
       "      <td>1000.000000</td>\n",
       "      <td>18.000000</td>\n",
       "    </tr>\n",
       "    <tr>\n",
       "      <th>25%</th>\n",
       "      <td>1124.750000</td>\n",
       "      <td>30.000000</td>\n",
       "    </tr>\n",
       "    <tr>\n",
       "      <th>50%</th>\n",
       "      <td>1249.500000</td>\n",
       "      <td>46.000000</td>\n",
       "    </tr>\n",
       "    <tr>\n",
       "      <th>75%</th>\n",
       "      <td>1374.250000</td>\n",
       "      <td>61.000000</td>\n",
       "    </tr>\n",
       "    <tr>\n",
       "      <th>max</th>\n",
       "      <td>1499.000000</td>\n",
       "      <td>75.000000</td>\n",
       "    </tr>\n",
       "  </tbody>\n",
       "</table>\n",
       "</div>"
      ],
      "text/plain": [
       "           user_id         age\n",
       "count   500.000000  500.000000\n",
       "mean   1249.500000   45.486000\n",
       "std     144.481833   16.972269\n",
       "min    1000.000000   18.000000\n",
       "25%    1124.750000   30.000000\n",
       "50%    1249.500000   46.000000\n",
       "75%    1374.250000   61.000000\n",
       "max    1499.000000   75.000000"
      ]
     },
     "execution_count": 7,
     "metadata": {},
     "output_type": "execute_result"
    }
   ],
   "source": [
    "# Imprime la información general/resumida sobre el DataFrame de usuarios\n",
    "df_users.info()\n",
    "df_users.describe()"
   ]
  },
  {
   "cell_type": "code",
   "execution_count": 8,
   "metadata": {
    "id": "1IN1L9uh0q05"
   },
   "outputs": [
    {
     "data": {
      "text/html": [
       "<div>\n",
       "<style scoped>\n",
       "    .dataframe tbody tr th:only-of-type {\n",
       "        vertical-align: middle;\n",
       "    }\n",
       "\n",
       "    .dataframe tbody tr th {\n",
       "        vertical-align: top;\n",
       "    }\n",
       "\n",
       "    .dataframe thead th {\n",
       "        text-align: right;\n",
       "    }\n",
       "</style>\n",
       "<table border=\"1\" class=\"dataframe\">\n",
       "  <thead>\n",
       "    <tr style=\"text-align: right;\">\n",
       "      <th></th>\n",
       "      <th>user_id</th>\n",
       "      <th>first_name</th>\n",
       "      <th>last_name</th>\n",
       "      <th>age</th>\n",
       "      <th>city</th>\n",
       "      <th>reg_date</th>\n",
       "      <th>plan</th>\n",
       "      <th>churn_date</th>\n",
       "    </tr>\n",
       "  </thead>\n",
       "  <tbody>\n",
       "    <tr>\n",
       "      <th>0</th>\n",
       "      <td>1000</td>\n",
       "      <td>Anamaria</td>\n",
       "      <td>Bauer</td>\n",
       "      <td>45</td>\n",
       "      <td>Atlanta-Sandy Springs-Roswell, GA MSA</td>\n",
       "      <td>2018-12-24</td>\n",
       "      <td>ultimate</td>\n",
       "      <td>NaN</td>\n",
       "    </tr>\n",
       "    <tr>\n",
       "      <th>1</th>\n",
       "      <td>1001</td>\n",
       "      <td>Mickey</td>\n",
       "      <td>Wilkerson</td>\n",
       "      <td>28</td>\n",
       "      <td>Seattle-Tacoma-Bellevue, WA MSA</td>\n",
       "      <td>2018-08-13</td>\n",
       "      <td>surf</td>\n",
       "      <td>NaN</td>\n",
       "    </tr>\n",
       "    <tr>\n",
       "      <th>2</th>\n",
       "      <td>1002</td>\n",
       "      <td>Carlee</td>\n",
       "      <td>Hoffman</td>\n",
       "      <td>36</td>\n",
       "      <td>Las Vegas-Henderson-Paradise, NV MSA</td>\n",
       "      <td>2018-10-21</td>\n",
       "      <td>surf</td>\n",
       "      <td>NaN</td>\n",
       "    </tr>\n",
       "    <tr>\n",
       "      <th>3</th>\n",
       "      <td>1003</td>\n",
       "      <td>Reynaldo</td>\n",
       "      <td>Jenkins</td>\n",
       "      <td>52</td>\n",
       "      <td>Tulsa, OK MSA</td>\n",
       "      <td>2018-01-28</td>\n",
       "      <td>surf</td>\n",
       "      <td>NaN</td>\n",
       "    </tr>\n",
       "    <tr>\n",
       "      <th>4</th>\n",
       "      <td>1004</td>\n",
       "      <td>Leonila</td>\n",
       "      <td>Thompson</td>\n",
       "      <td>40</td>\n",
       "      <td>Seattle-Tacoma-Bellevue, WA MSA</td>\n",
       "      <td>2018-05-23</td>\n",
       "      <td>surf</td>\n",
       "      <td>NaN</td>\n",
       "    </tr>\n",
       "  </tbody>\n",
       "</table>\n",
       "</div>"
      ],
      "text/plain": [
       "   user_id first_name  last_name  age                                   city  \\\n",
       "0     1000   Anamaria      Bauer   45  Atlanta-Sandy Springs-Roswell, GA MSA   \n",
       "1     1001     Mickey  Wilkerson   28        Seattle-Tacoma-Bellevue, WA MSA   \n",
       "2     1002     Carlee    Hoffman   36   Las Vegas-Henderson-Paradise, NV MSA   \n",
       "3     1003   Reynaldo    Jenkins   52                          Tulsa, OK MSA   \n",
       "4     1004    Leonila   Thompson   40        Seattle-Tacoma-Bellevue, WA MSA   \n",
       "\n",
       "     reg_date      plan churn_date  \n",
       "0  2018-12-24  ultimate        NaN  \n",
       "1  2018-08-13      surf        NaN  \n",
       "2  2018-10-21      surf        NaN  \n",
       "3  2018-01-28      surf        NaN  \n",
       "4  2018-05-23      surf        NaN  "
      ]
     },
     "execution_count": 8,
     "metadata": {},
     "output_type": "execute_result"
    }
   ],
   "source": [
    "# Imprime una muestra de datos para usuarios\n",
    "df_users.head()"
   ]
  },
  {
   "cell_type": "markdown",
   "metadata": {
    "id": "dCZoUq4f0q06"
   },
   "source": [
    "[Describe lo que ves y observas en la información general y en la muestra de datos impresa para el precio de datos anterior. ¿Hay algún problema (tipos de datos no adecuados, datos ausentes, etc.) que pudieran necesitar investigación y cambios adicionales? ¿Cómo se puede arreglar?]\n",
    "\n",
    "Se observa que churn_date es la única columna que tiene valores nulos y que son 466, esto da a entender que muy pocos usuarios se han dado de baja hasta el momento. Por el momendo decido no rellenar estos valores porque si están vacíos es porque siguen activos hasta el momento."
   ]
  },
  {
   "cell_type": "markdown",
   "metadata": {
    "id": "BX5FQh_I0q06"
   },
   "source": [
    "### Corregir los datos"
   ]
  },
  {
   "cell_type": "markdown",
   "metadata": {
    "id": "8OdKMwJv0q06"
   },
   "source": [
    "[Corrige los problemas obvios con los datos basándote en las observaciones iniciales.]"
   ]
  },
  {
   "cell_type": "code",
   "execution_count": 9,
   "metadata": {
    "id": "yUqX-K0C0q07"
   },
   "outputs": [
    {
     "data": {
      "text/html": [
       "<div>\n",
       "<style scoped>\n",
       "    .dataframe tbody tr th:only-of-type {\n",
       "        vertical-align: middle;\n",
       "    }\n",
       "\n",
       "    .dataframe tbody tr th {\n",
       "        vertical-align: top;\n",
       "    }\n",
       "\n",
       "    .dataframe thead th {\n",
       "        text-align: right;\n",
       "    }\n",
       "</style>\n",
       "<table border=\"1\" class=\"dataframe\">\n",
       "  <thead>\n",
       "    <tr style=\"text-align: right;\">\n",
       "      <th></th>\n",
       "      <th>user_id</th>\n",
       "      <th>first_name</th>\n",
       "      <th>last_name</th>\n",
       "      <th>age</th>\n",
       "      <th>city</th>\n",
       "      <th>reg_date</th>\n",
       "      <th>plan</th>\n",
       "      <th>churn_date</th>\n",
       "    </tr>\n",
       "  </thead>\n",
       "  <tbody>\n",
       "    <tr>\n",
       "      <th>0</th>\n",
       "      <td>1000</td>\n",
       "      <td>Anamaria</td>\n",
       "      <td>Bauer</td>\n",
       "      <td>45</td>\n",
       "      <td>Atlanta-Sandy Springs-Roswell, GA MSA</td>\n",
       "      <td>2018-12-24</td>\n",
       "      <td>ultimate</td>\n",
       "      <td>NaT</td>\n",
       "    </tr>\n",
       "    <tr>\n",
       "      <th>1</th>\n",
       "      <td>1001</td>\n",
       "      <td>Mickey</td>\n",
       "      <td>Wilkerson</td>\n",
       "      <td>28</td>\n",
       "      <td>Seattle-Tacoma-Bellevue, WA MSA</td>\n",
       "      <td>2018-08-13</td>\n",
       "      <td>surf</td>\n",
       "      <td>NaT</td>\n",
       "    </tr>\n",
       "    <tr>\n",
       "      <th>2</th>\n",
       "      <td>1002</td>\n",
       "      <td>Carlee</td>\n",
       "      <td>Hoffman</td>\n",
       "      <td>36</td>\n",
       "      <td>Las Vegas-Henderson-Paradise, NV MSA</td>\n",
       "      <td>2018-10-21</td>\n",
       "      <td>surf</td>\n",
       "      <td>NaT</td>\n",
       "    </tr>\n",
       "    <tr>\n",
       "      <th>3</th>\n",
       "      <td>1003</td>\n",
       "      <td>Reynaldo</td>\n",
       "      <td>Jenkins</td>\n",
       "      <td>52</td>\n",
       "      <td>Tulsa, OK MSA</td>\n",
       "      <td>2018-01-28</td>\n",
       "      <td>surf</td>\n",
       "      <td>NaT</td>\n",
       "    </tr>\n",
       "    <tr>\n",
       "      <th>4</th>\n",
       "      <td>1004</td>\n",
       "      <td>Leonila</td>\n",
       "      <td>Thompson</td>\n",
       "      <td>40</td>\n",
       "      <td>Seattle-Tacoma-Bellevue, WA MSA</td>\n",
       "      <td>2018-05-23</td>\n",
       "      <td>surf</td>\n",
       "      <td>NaT</td>\n",
       "    </tr>\n",
       "    <tr>\n",
       "      <th>...</th>\n",
       "      <td>...</td>\n",
       "      <td>...</td>\n",
       "      <td>...</td>\n",
       "      <td>...</td>\n",
       "      <td>...</td>\n",
       "      <td>...</td>\n",
       "      <td>...</td>\n",
       "      <td>...</td>\n",
       "    </tr>\n",
       "    <tr>\n",
       "      <th>495</th>\n",
       "      <td>1495</td>\n",
       "      <td>Fidel</td>\n",
       "      <td>Sharpe</td>\n",
       "      <td>67</td>\n",
       "      <td>New York-Newark-Jersey City, NY-NJ-PA MSA</td>\n",
       "      <td>2018-09-04</td>\n",
       "      <td>surf</td>\n",
       "      <td>NaT</td>\n",
       "    </tr>\n",
       "    <tr>\n",
       "      <th>496</th>\n",
       "      <td>1496</td>\n",
       "      <td>Ariel</td>\n",
       "      <td>Shepherd</td>\n",
       "      <td>49</td>\n",
       "      <td>New Orleans-Metairie, LA MSA</td>\n",
       "      <td>2018-02-20</td>\n",
       "      <td>surf</td>\n",
       "      <td>NaT</td>\n",
       "    </tr>\n",
       "    <tr>\n",
       "      <th>497</th>\n",
       "      <td>1497</td>\n",
       "      <td>Donte</td>\n",
       "      <td>Barrera</td>\n",
       "      <td>49</td>\n",
       "      <td>Los Angeles-Long Beach-Anaheim, CA MSA</td>\n",
       "      <td>2018-12-10</td>\n",
       "      <td>ultimate</td>\n",
       "      <td>NaT</td>\n",
       "    </tr>\n",
       "    <tr>\n",
       "      <th>498</th>\n",
       "      <td>1498</td>\n",
       "      <td>Scot</td>\n",
       "      <td>Williamson</td>\n",
       "      <td>51</td>\n",
       "      <td>New York-Newark-Jersey City, NY-NJ-PA MSA</td>\n",
       "      <td>2018-02-04</td>\n",
       "      <td>surf</td>\n",
       "      <td>NaT</td>\n",
       "    </tr>\n",
       "    <tr>\n",
       "      <th>499</th>\n",
       "      <td>1499</td>\n",
       "      <td>Shena</td>\n",
       "      <td>Dickson</td>\n",
       "      <td>37</td>\n",
       "      <td>Orlando-Kissimmee-Sanford, FL MSA</td>\n",
       "      <td>2018-05-06</td>\n",
       "      <td>surf</td>\n",
       "      <td>NaT</td>\n",
       "    </tr>\n",
       "  </tbody>\n",
       "</table>\n",
       "<p>500 rows × 8 columns</p>\n",
       "</div>"
      ],
      "text/plain": [
       "     user_id first_name   last_name  age  \\\n",
       "0       1000   Anamaria       Bauer   45   \n",
       "1       1001     Mickey   Wilkerson   28   \n",
       "2       1002     Carlee     Hoffman   36   \n",
       "3       1003   Reynaldo     Jenkins   52   \n",
       "4       1004    Leonila    Thompson   40   \n",
       "..       ...        ...         ...  ...   \n",
       "495     1495      Fidel      Sharpe   67   \n",
       "496     1496      Ariel    Shepherd   49   \n",
       "497     1497      Donte     Barrera   49   \n",
       "498     1498       Scot  Williamson   51   \n",
       "499     1499      Shena     Dickson   37   \n",
       "\n",
       "                                          city   reg_date      plan churn_date  \n",
       "0        Atlanta-Sandy Springs-Roswell, GA MSA 2018-12-24  ultimate        NaT  \n",
       "1              Seattle-Tacoma-Bellevue, WA MSA 2018-08-13      surf        NaT  \n",
       "2         Las Vegas-Henderson-Paradise, NV MSA 2018-10-21      surf        NaT  \n",
       "3                                Tulsa, OK MSA 2018-01-28      surf        NaT  \n",
       "4              Seattle-Tacoma-Bellevue, WA MSA 2018-05-23      surf        NaT  \n",
       "..                                         ...        ...       ...        ...  \n",
       "495  New York-Newark-Jersey City, NY-NJ-PA MSA 2018-09-04      surf        NaT  \n",
       "496               New Orleans-Metairie, LA MSA 2018-02-20      surf        NaT  \n",
       "497     Los Angeles-Long Beach-Anaheim, CA MSA 2018-12-10  ultimate        NaT  \n",
       "498  New York-Newark-Jersey City, NY-NJ-PA MSA 2018-02-04      surf        NaT  \n",
       "499          Orlando-Kissimmee-Sanford, FL MSA 2018-05-06      surf        NaT  \n",
       "\n",
       "[500 rows x 8 columns]"
      ]
     },
     "execution_count": 9,
     "metadata": {},
     "output_type": "execute_result"
    }
   ],
   "source": [
    "df_users.duplicated().sum()\n",
    "df_users['plan'].unique()\n",
    "df_users['reg_date']=pd.to_datetime(df_users['reg_date'])\n",
    "df_users['churn_date']=pd.to_datetime(df_users['churn_date'])\n",
    "df_users"
   ]
  },
  {
   "cell_type": "markdown",
   "metadata": {
    "id": "ycwuARJp0q07"
   },
   "source": [
    "### Enriquecer los datos"
   ]
  },
  {
   "cell_type": "markdown",
   "metadata": {
    "id": "96NIh4CJ0q08"
   },
   "source": [
    "[Agrega factores adicionales a los datos si crees que pudieran ser útiles.]"
   ]
  },
  {
   "cell_type": "code",
   "execution_count": 10,
   "metadata": {
    "id": "iq0AaBS90q08"
   },
   "outputs": [
    {
     "data": {
      "text/html": [
       "<div>\n",
       "<style scoped>\n",
       "    .dataframe tbody tr th:only-of-type {\n",
       "        vertical-align: middle;\n",
       "    }\n",
       "\n",
       "    .dataframe tbody tr th {\n",
       "        vertical-align: top;\n",
       "    }\n",
       "\n",
       "    .dataframe thead th {\n",
       "        text-align: right;\n",
       "    }\n",
       "</style>\n",
       "<table border=\"1\" class=\"dataframe\">\n",
       "  <thead>\n",
       "    <tr style=\"text-align: right;\">\n",
       "      <th></th>\n",
       "      <th>user_id</th>\n",
       "      <th>first_name</th>\n",
       "      <th>last_name</th>\n",
       "      <th>age</th>\n",
       "      <th>city</th>\n",
       "      <th>reg_date</th>\n",
       "      <th>plan</th>\n",
       "      <th>churn_date</th>\n",
       "      <th>region</th>\n",
       "    </tr>\n",
       "  </thead>\n",
       "  <tbody>\n",
       "    <tr>\n",
       "      <th>0</th>\n",
       "      <td>1000</td>\n",
       "      <td>Anamaria</td>\n",
       "      <td>Bauer</td>\n",
       "      <td>45</td>\n",
       "      <td>Atlanta-Sandy Springs-Roswell, GA MSA</td>\n",
       "      <td>2018-12-24</td>\n",
       "      <td>ultimate</td>\n",
       "      <td>NaT</td>\n",
       "      <td>NaN</td>\n",
       "    </tr>\n",
       "    <tr>\n",
       "      <th>1</th>\n",
       "      <td>1001</td>\n",
       "      <td>Mickey</td>\n",
       "      <td>Wilkerson</td>\n",
       "      <td>28</td>\n",
       "      <td>Seattle-Tacoma-Bellevue, WA MSA</td>\n",
       "      <td>2018-08-13</td>\n",
       "      <td>surf</td>\n",
       "      <td>NaT</td>\n",
       "      <td>NaN</td>\n",
       "    </tr>\n",
       "    <tr>\n",
       "      <th>2</th>\n",
       "      <td>1002</td>\n",
       "      <td>Carlee</td>\n",
       "      <td>Hoffman</td>\n",
       "      <td>36</td>\n",
       "      <td>Las Vegas-Henderson-Paradise, NV MSA</td>\n",
       "      <td>2018-10-21</td>\n",
       "      <td>surf</td>\n",
       "      <td>NaT</td>\n",
       "      <td>NaN</td>\n",
       "    </tr>\n",
       "    <tr>\n",
       "      <th>3</th>\n",
       "      <td>1003</td>\n",
       "      <td>Reynaldo</td>\n",
       "      <td>Jenkins</td>\n",
       "      <td>52</td>\n",
       "      <td>Tulsa, OK MSA</td>\n",
       "      <td>2018-01-28</td>\n",
       "      <td>surf</td>\n",
       "      <td>NaT</td>\n",
       "      <td>NaN</td>\n",
       "    </tr>\n",
       "    <tr>\n",
       "      <th>4</th>\n",
       "      <td>1004</td>\n",
       "      <td>Leonila</td>\n",
       "      <td>Thompson</td>\n",
       "      <td>40</td>\n",
       "      <td>Seattle-Tacoma-Bellevue, WA MSA</td>\n",
       "      <td>2018-05-23</td>\n",
       "      <td>surf</td>\n",
       "      <td>NaT</td>\n",
       "      <td>NaN</td>\n",
       "    </tr>\n",
       "    <tr>\n",
       "      <th>...</th>\n",
       "      <td>...</td>\n",
       "      <td>...</td>\n",
       "      <td>...</td>\n",
       "      <td>...</td>\n",
       "      <td>...</td>\n",
       "      <td>...</td>\n",
       "      <td>...</td>\n",
       "      <td>...</td>\n",
       "      <td>...</td>\n",
       "    </tr>\n",
       "    <tr>\n",
       "      <th>495</th>\n",
       "      <td>1495</td>\n",
       "      <td>Fidel</td>\n",
       "      <td>Sharpe</td>\n",
       "      <td>67</td>\n",
       "      <td>New York-Newark-Jersey City, NY-NJ-PA MSA</td>\n",
       "      <td>2018-09-04</td>\n",
       "      <td>surf</td>\n",
       "      <td>NaT</td>\n",
       "      <td>NY-NJ</td>\n",
       "    </tr>\n",
       "    <tr>\n",
       "      <th>496</th>\n",
       "      <td>1496</td>\n",
       "      <td>Ariel</td>\n",
       "      <td>Shepherd</td>\n",
       "      <td>49</td>\n",
       "      <td>New Orleans-Metairie, LA MSA</td>\n",
       "      <td>2018-02-20</td>\n",
       "      <td>surf</td>\n",
       "      <td>NaT</td>\n",
       "      <td>NaN</td>\n",
       "    </tr>\n",
       "    <tr>\n",
       "      <th>497</th>\n",
       "      <td>1497</td>\n",
       "      <td>Donte</td>\n",
       "      <td>Barrera</td>\n",
       "      <td>49</td>\n",
       "      <td>Los Angeles-Long Beach-Anaheim, CA MSA</td>\n",
       "      <td>2018-12-10</td>\n",
       "      <td>ultimate</td>\n",
       "      <td>NaT</td>\n",
       "      <td>NaN</td>\n",
       "    </tr>\n",
       "    <tr>\n",
       "      <th>498</th>\n",
       "      <td>1498</td>\n",
       "      <td>Scot</td>\n",
       "      <td>Williamson</td>\n",
       "      <td>51</td>\n",
       "      <td>New York-Newark-Jersey City, NY-NJ-PA MSA</td>\n",
       "      <td>2018-02-04</td>\n",
       "      <td>surf</td>\n",
       "      <td>NaT</td>\n",
       "      <td>NY-NJ</td>\n",
       "    </tr>\n",
       "    <tr>\n",
       "      <th>499</th>\n",
       "      <td>1499</td>\n",
       "      <td>Shena</td>\n",
       "      <td>Dickson</td>\n",
       "      <td>37</td>\n",
       "      <td>Orlando-Kissimmee-Sanford, FL MSA</td>\n",
       "      <td>2018-05-06</td>\n",
       "      <td>surf</td>\n",
       "      <td>NaT</td>\n",
       "      <td>NaN</td>\n",
       "    </tr>\n",
       "  </tbody>\n",
       "</table>\n",
       "<p>500 rows × 9 columns</p>\n",
       "</div>"
      ],
      "text/plain": [
       "     user_id first_name   last_name  age  \\\n",
       "0       1000   Anamaria       Bauer   45   \n",
       "1       1001     Mickey   Wilkerson   28   \n",
       "2       1002     Carlee     Hoffman   36   \n",
       "3       1003   Reynaldo     Jenkins   52   \n",
       "4       1004    Leonila    Thompson   40   \n",
       "..       ...        ...         ...  ...   \n",
       "495     1495      Fidel      Sharpe   67   \n",
       "496     1496      Ariel    Shepherd   49   \n",
       "497     1497      Donte     Barrera   49   \n",
       "498     1498       Scot  Williamson   51   \n",
       "499     1499      Shena     Dickson   37   \n",
       "\n",
       "                                          city   reg_date      plan  \\\n",
       "0        Atlanta-Sandy Springs-Roswell, GA MSA 2018-12-24  ultimate   \n",
       "1              Seattle-Tacoma-Bellevue, WA MSA 2018-08-13      surf   \n",
       "2         Las Vegas-Henderson-Paradise, NV MSA 2018-10-21      surf   \n",
       "3                                Tulsa, OK MSA 2018-01-28      surf   \n",
       "4              Seattle-Tacoma-Bellevue, WA MSA 2018-05-23      surf   \n",
       "..                                         ...        ...       ...   \n",
       "495  New York-Newark-Jersey City, NY-NJ-PA MSA 2018-09-04      surf   \n",
       "496               New Orleans-Metairie, LA MSA 2018-02-20      surf   \n",
       "497     Los Angeles-Long Beach-Anaheim, CA MSA 2018-12-10  ultimate   \n",
       "498  New York-Newark-Jersey City, NY-NJ-PA MSA 2018-02-04      surf   \n",
       "499          Orlando-Kissimmee-Sanford, FL MSA 2018-05-06      surf   \n",
       "\n",
       "    churn_date region  \n",
       "0          NaT    NaN  \n",
       "1          NaT    NaN  \n",
       "2          NaT    NaN  \n",
       "3          NaT    NaN  \n",
       "4          NaT    NaN  \n",
       "..         ...    ...  \n",
       "495        NaT  NY-NJ  \n",
       "496        NaT    NaN  \n",
       "497        NaT    NaN  \n",
       "498        NaT  NY-NJ  \n",
       "499        NaT    NaN  \n",
       "\n",
       "[500 rows x 9 columns]"
      ]
     },
     "execution_count": 10,
     "metadata": {},
     "output_type": "execute_result"
    }
   ],
   "source": [
    "#Se agrega la columna region con las siglas correspondientes a cada cuidad.\n",
    "df_users['region'] = df_users['city'].str.extract(r',\\s*([A-Z]{2}-[A-Z]{2})')\n",
    "df_users"
   ]
  },
  {
   "cell_type": "markdown",
   "metadata": {
    "id": "o7MeKCid0q08"
   },
   "source": [
    "## Llamadas"
   ]
  },
  {
   "cell_type": "code",
   "execution_count": 11,
   "metadata": {
    "id": "6dDlnoDm0q08"
   },
   "outputs": [
    {
     "name": "stdout",
     "output_type": "stream",
     "text": [
      "<class 'pandas.core.frame.DataFrame'>\n",
      "RangeIndex: 137735 entries, 0 to 137734\n",
      "Data columns (total 4 columns):\n",
      " #   Column     Non-Null Count   Dtype  \n",
      "---  ------     --------------   -----  \n",
      " 0   id         137735 non-null  object \n",
      " 1   user_id    137735 non-null  int64  \n",
      " 2   call_date  137735 non-null  object \n",
      " 3   duration   137735 non-null  float64\n",
      "dtypes: float64(1), int64(1), object(2)\n",
      "memory usage: 4.2+ MB\n"
     ]
    },
    {
     "data": {
      "text/html": [
       "<div>\n",
       "<style scoped>\n",
       "    .dataframe tbody tr th:only-of-type {\n",
       "        vertical-align: middle;\n",
       "    }\n",
       "\n",
       "    .dataframe tbody tr th {\n",
       "        vertical-align: top;\n",
       "    }\n",
       "\n",
       "    .dataframe thead th {\n",
       "        text-align: right;\n",
       "    }\n",
       "</style>\n",
       "<table border=\"1\" class=\"dataframe\">\n",
       "  <thead>\n",
       "    <tr style=\"text-align: right;\">\n",
       "      <th></th>\n",
       "      <th>user_id</th>\n",
       "      <th>duration</th>\n",
       "    </tr>\n",
       "  </thead>\n",
       "  <tbody>\n",
       "    <tr>\n",
       "      <th>count</th>\n",
       "      <td>137735.000000</td>\n",
       "      <td>137735.000000</td>\n",
       "    </tr>\n",
       "    <tr>\n",
       "      <th>mean</th>\n",
       "      <td>1247.658046</td>\n",
       "      <td>6.745927</td>\n",
       "    </tr>\n",
       "    <tr>\n",
       "      <th>std</th>\n",
       "      <td>139.416268</td>\n",
       "      <td>5.839241</td>\n",
       "    </tr>\n",
       "    <tr>\n",
       "      <th>min</th>\n",
       "      <td>1000.000000</td>\n",
       "      <td>0.000000</td>\n",
       "    </tr>\n",
       "    <tr>\n",
       "      <th>25%</th>\n",
       "      <td>1128.000000</td>\n",
       "      <td>1.290000</td>\n",
       "    </tr>\n",
       "    <tr>\n",
       "      <th>50%</th>\n",
       "      <td>1247.000000</td>\n",
       "      <td>5.980000</td>\n",
       "    </tr>\n",
       "    <tr>\n",
       "      <th>75%</th>\n",
       "      <td>1365.000000</td>\n",
       "      <td>10.690000</td>\n",
       "    </tr>\n",
       "    <tr>\n",
       "      <th>max</th>\n",
       "      <td>1499.000000</td>\n",
       "      <td>37.600000</td>\n",
       "    </tr>\n",
       "  </tbody>\n",
       "</table>\n",
       "</div>"
      ],
      "text/plain": [
       "             user_id       duration\n",
       "count  137735.000000  137735.000000\n",
       "mean     1247.658046       6.745927\n",
       "std       139.416268       5.839241\n",
       "min      1000.000000       0.000000\n",
       "25%      1128.000000       1.290000\n",
       "50%      1247.000000       5.980000\n",
       "75%      1365.000000      10.690000\n",
       "max      1499.000000      37.600000"
      ]
     },
     "execution_count": 11,
     "metadata": {},
     "output_type": "execute_result"
    }
   ],
   "source": [
    "# Imprime la información general/resumida sobre el DataFrame de las llamadas\n",
    "df_calls.info()\n",
    "df_calls.describe()"
   ]
  },
  {
   "cell_type": "code",
   "execution_count": 12,
   "metadata": {
    "id": "kuh1vlNB0q09"
   },
   "outputs": [
    {
     "data": {
      "text/html": [
       "<div>\n",
       "<style scoped>\n",
       "    .dataframe tbody tr th:only-of-type {\n",
       "        vertical-align: middle;\n",
       "    }\n",
       "\n",
       "    .dataframe tbody tr th {\n",
       "        vertical-align: top;\n",
       "    }\n",
       "\n",
       "    .dataframe thead th {\n",
       "        text-align: right;\n",
       "    }\n",
       "</style>\n",
       "<table border=\"1\" class=\"dataframe\">\n",
       "  <thead>\n",
       "    <tr style=\"text-align: right;\">\n",
       "      <th></th>\n",
       "      <th>id</th>\n",
       "      <th>user_id</th>\n",
       "      <th>call_date</th>\n",
       "      <th>duration</th>\n",
       "    </tr>\n",
       "  </thead>\n",
       "  <tbody>\n",
       "    <tr>\n",
       "      <th>0</th>\n",
       "      <td>1000_93</td>\n",
       "      <td>1000</td>\n",
       "      <td>2018-12-27</td>\n",
       "      <td>8.52</td>\n",
       "    </tr>\n",
       "    <tr>\n",
       "      <th>1</th>\n",
       "      <td>1000_145</td>\n",
       "      <td>1000</td>\n",
       "      <td>2018-12-27</td>\n",
       "      <td>13.66</td>\n",
       "    </tr>\n",
       "    <tr>\n",
       "      <th>2</th>\n",
       "      <td>1000_247</td>\n",
       "      <td>1000</td>\n",
       "      <td>2018-12-27</td>\n",
       "      <td>14.48</td>\n",
       "    </tr>\n",
       "    <tr>\n",
       "      <th>3</th>\n",
       "      <td>1000_309</td>\n",
       "      <td>1000</td>\n",
       "      <td>2018-12-28</td>\n",
       "      <td>5.76</td>\n",
       "    </tr>\n",
       "    <tr>\n",
       "      <th>4</th>\n",
       "      <td>1000_380</td>\n",
       "      <td>1000</td>\n",
       "      <td>2018-12-30</td>\n",
       "      <td>4.22</td>\n",
       "    </tr>\n",
       "  </tbody>\n",
       "</table>\n",
       "</div>"
      ],
      "text/plain": [
       "         id  user_id   call_date  duration\n",
       "0   1000_93     1000  2018-12-27      8.52\n",
       "1  1000_145     1000  2018-12-27     13.66\n",
       "2  1000_247     1000  2018-12-27     14.48\n",
       "3  1000_309     1000  2018-12-28      5.76\n",
       "4  1000_380     1000  2018-12-30      4.22"
      ]
     },
     "execution_count": 12,
     "metadata": {},
     "output_type": "execute_result"
    }
   ],
   "source": [
    "# Imprime una muestra de datos para las llamadas\n",
    "df_calls.head()"
   ]
  },
  {
   "cell_type": "markdown",
   "metadata": {
    "id": "DOAxYJSx0q09"
   },
   "source": [
    "[Describe lo que ves y observas en la información general y en la muestra de datos impresa para el precio de datos anterior. ¿Hay algún problema (tipos de datos no adecuados, datos ausentes, etc.) que pudieran necesitar investigación y cambios adicionales? ¿Cómo se puede arreglar?]\n",
    "\n",
    "No hay valores nulos en el dataframe y en este caso sólo hay que cambiar el tipo de datos de la fecha a to_datetime. De igual forma al ser la duración fraccionaria, se va a agregar una columna en la que se redondeen a un número entero que se pueda cobrar en la tarifa. "
   ]
  },
  {
   "cell_type": "markdown",
   "metadata": {
    "id": "S7hzxmbX0q0-"
   },
   "source": [
    "### Corregir los datos"
   ]
  },
  {
   "cell_type": "markdown",
   "metadata": {
    "id": "YxWyAjD20q0-"
   },
   "source": [
    "[Corrige los problemas obvios con los datos basándote en las observaciones iniciales.]"
   ]
  },
  {
   "cell_type": "code",
   "execution_count": 13,
   "metadata": {
    "id": "S2r8xA4f0q0-"
   },
   "outputs": [
    {
     "name": "stdout",
     "output_type": "stream",
     "text": [
      "<class 'pandas.core.frame.DataFrame'>\n",
      "RangeIndex: 137735 entries, 0 to 137734\n",
      "Data columns (total 4 columns):\n",
      " #   Column     Non-Null Count   Dtype         \n",
      "---  ------     --------------   -----         \n",
      " 0   id         137735 non-null  object        \n",
      " 1   user_id    137735 non-null  int64         \n",
      " 2   call_date  137735 non-null  datetime64[ns]\n",
      " 3   duration   137735 non-null  float64       \n",
      "dtypes: datetime64[ns](1), float64(1), int64(1), object(1)\n",
      "memory usage: 4.2+ MB\n"
     ]
    }
   ],
   "source": [
    "df_calls.duplicated().sum()\n",
    "df_calls['call_date']=pd.to_datetime(df_calls['call_date'])\n",
    "df_calls.info()"
   ]
  },
  {
   "cell_type": "markdown",
   "metadata": {
    "id": "KrMgTrlG0q0_"
   },
   "source": [
    "### Enriquecer los datos"
   ]
  },
  {
   "cell_type": "markdown",
   "metadata": {
    "id": "a9MbmEvE0q0_"
   },
   "source": [
    "[Agrega factores adicionales a los datos si crees que pudieran ser útiles.]"
   ]
  },
  {
   "cell_type": "code",
   "execution_count": 14,
   "metadata": {
    "id": "iZ1avpA_0q0_"
   },
   "outputs": [
    {
     "data": {
      "text/html": [
       "<div>\n",
       "<style scoped>\n",
       "    .dataframe tbody tr th:only-of-type {\n",
       "        vertical-align: middle;\n",
       "    }\n",
       "\n",
       "    .dataframe tbody tr th {\n",
       "        vertical-align: top;\n",
       "    }\n",
       "\n",
       "    .dataframe thead th {\n",
       "        text-align: right;\n",
       "    }\n",
       "</style>\n",
       "<table border=\"1\" class=\"dataframe\">\n",
       "  <thead>\n",
       "    <tr style=\"text-align: right;\">\n",
       "      <th></th>\n",
       "      <th>id</th>\n",
       "      <th>user_id</th>\n",
       "      <th>call_date</th>\n",
       "      <th>duration</th>\n",
       "      <th>duration_to_pay</th>\n",
       "    </tr>\n",
       "  </thead>\n",
       "  <tbody>\n",
       "    <tr>\n",
       "      <th>0</th>\n",
       "      <td>1000_93</td>\n",
       "      <td>1000</td>\n",
       "      <td>2018-12-27</td>\n",
       "      <td>8.52</td>\n",
       "      <td>9</td>\n",
       "    </tr>\n",
       "    <tr>\n",
       "      <th>1</th>\n",
       "      <td>1000_145</td>\n",
       "      <td>1000</td>\n",
       "      <td>2018-12-27</td>\n",
       "      <td>13.66</td>\n",
       "      <td>14</td>\n",
       "    </tr>\n",
       "    <tr>\n",
       "      <th>2</th>\n",
       "      <td>1000_247</td>\n",
       "      <td>1000</td>\n",
       "      <td>2018-12-27</td>\n",
       "      <td>14.48</td>\n",
       "      <td>15</td>\n",
       "    </tr>\n",
       "    <tr>\n",
       "      <th>3</th>\n",
       "      <td>1000_309</td>\n",
       "      <td>1000</td>\n",
       "      <td>2018-12-28</td>\n",
       "      <td>5.76</td>\n",
       "      <td>6</td>\n",
       "    </tr>\n",
       "    <tr>\n",
       "      <th>4</th>\n",
       "      <td>1000_380</td>\n",
       "      <td>1000</td>\n",
       "      <td>2018-12-30</td>\n",
       "      <td>4.22</td>\n",
       "      <td>5</td>\n",
       "    </tr>\n",
       "  </tbody>\n",
       "</table>\n",
       "</div>"
      ],
      "text/plain": [
       "         id  user_id  call_date  duration  duration_to_pay\n",
       "0   1000_93     1000 2018-12-27      8.52                9\n",
       "1  1000_145     1000 2018-12-27     13.66               14\n",
       "2  1000_247     1000 2018-12-27     14.48               15\n",
       "3  1000_309     1000 2018-12-28      5.76                6\n",
       "4  1000_380     1000 2018-12-30      4.22                5"
      ]
     },
     "execution_count": 14,
     "metadata": {},
     "output_type": "execute_result"
    }
   ],
   "source": [
    "#creación de una columna con la duración cobrable.\n",
    "df_calls['duration_to_pay'] = df_calls['duration'].apply(math.ceil)\n",
    "df_calls.head()"
   ]
  },
  {
   "cell_type": "markdown",
   "metadata": {
    "id": "mOUZSi180q0_"
   },
   "source": [
    "## Mensajes"
   ]
  },
  {
   "cell_type": "code",
   "execution_count": 15,
   "metadata": {
    "id": "R-bYJpdV0q1A"
   },
   "outputs": [
    {
     "name": "stdout",
     "output_type": "stream",
     "text": [
      "<class 'pandas.core.frame.DataFrame'>\n",
      "RangeIndex: 76051 entries, 0 to 76050\n",
      "Data columns (total 3 columns):\n",
      " #   Column        Non-Null Count  Dtype \n",
      "---  ------        --------------  ----- \n",
      " 0   id            76051 non-null  object\n",
      " 1   user_id       76051 non-null  int64 \n",
      " 2   message_date  76051 non-null  object\n",
      "dtypes: int64(1), object(2)\n",
      "memory usage: 1.7+ MB\n"
     ]
    },
    {
     "data": {
      "text/html": [
       "<div>\n",
       "<style scoped>\n",
       "    .dataframe tbody tr th:only-of-type {\n",
       "        vertical-align: middle;\n",
       "    }\n",
       "\n",
       "    .dataframe tbody tr th {\n",
       "        vertical-align: top;\n",
       "    }\n",
       "\n",
       "    .dataframe thead th {\n",
       "        text-align: right;\n",
       "    }\n",
       "</style>\n",
       "<table border=\"1\" class=\"dataframe\">\n",
       "  <thead>\n",
       "    <tr style=\"text-align: right;\">\n",
       "      <th></th>\n",
       "      <th>user_id</th>\n",
       "    </tr>\n",
       "  </thead>\n",
       "  <tbody>\n",
       "    <tr>\n",
       "      <th>count</th>\n",
       "      <td>76051.000000</td>\n",
       "    </tr>\n",
       "    <tr>\n",
       "      <th>mean</th>\n",
       "      <td>1245.972768</td>\n",
       "    </tr>\n",
       "    <tr>\n",
       "      <th>std</th>\n",
       "      <td>139.843635</td>\n",
       "    </tr>\n",
       "    <tr>\n",
       "      <th>min</th>\n",
       "      <td>1000.000000</td>\n",
       "    </tr>\n",
       "    <tr>\n",
       "      <th>25%</th>\n",
       "      <td>1123.000000</td>\n",
       "    </tr>\n",
       "    <tr>\n",
       "      <th>50%</th>\n",
       "      <td>1251.000000</td>\n",
       "    </tr>\n",
       "    <tr>\n",
       "      <th>75%</th>\n",
       "      <td>1362.000000</td>\n",
       "    </tr>\n",
       "    <tr>\n",
       "      <th>max</th>\n",
       "      <td>1497.000000</td>\n",
       "    </tr>\n",
       "  </tbody>\n",
       "</table>\n",
       "</div>"
      ],
      "text/plain": [
       "            user_id\n",
       "count  76051.000000\n",
       "mean    1245.972768\n",
       "std      139.843635\n",
       "min     1000.000000\n",
       "25%     1123.000000\n",
       "50%     1251.000000\n",
       "75%     1362.000000\n",
       "max     1497.000000"
      ]
     },
     "execution_count": 15,
     "metadata": {},
     "output_type": "execute_result"
    }
   ],
   "source": [
    "# Imprime la información general/resumida sobre el DataFrame de los mensajes\n",
    "df_messages.info()\n",
    "df_messages.describe()"
   ]
  },
  {
   "cell_type": "code",
   "execution_count": 16,
   "metadata": {
    "id": "mCEl2iGE0q1A"
   },
   "outputs": [
    {
     "data": {
      "text/html": [
       "<div>\n",
       "<style scoped>\n",
       "    .dataframe tbody tr th:only-of-type {\n",
       "        vertical-align: middle;\n",
       "    }\n",
       "\n",
       "    .dataframe tbody tr th {\n",
       "        vertical-align: top;\n",
       "    }\n",
       "\n",
       "    .dataframe thead th {\n",
       "        text-align: right;\n",
       "    }\n",
       "</style>\n",
       "<table border=\"1\" class=\"dataframe\">\n",
       "  <thead>\n",
       "    <tr style=\"text-align: right;\">\n",
       "      <th></th>\n",
       "      <th>id</th>\n",
       "      <th>user_id</th>\n",
       "      <th>message_date</th>\n",
       "    </tr>\n",
       "  </thead>\n",
       "  <tbody>\n",
       "    <tr>\n",
       "      <th>0</th>\n",
       "      <td>1000_125</td>\n",
       "      <td>1000</td>\n",
       "      <td>2018-12-27</td>\n",
       "    </tr>\n",
       "    <tr>\n",
       "      <th>1</th>\n",
       "      <td>1000_160</td>\n",
       "      <td>1000</td>\n",
       "      <td>2018-12-31</td>\n",
       "    </tr>\n",
       "    <tr>\n",
       "      <th>2</th>\n",
       "      <td>1000_223</td>\n",
       "      <td>1000</td>\n",
       "      <td>2018-12-31</td>\n",
       "    </tr>\n",
       "    <tr>\n",
       "      <th>3</th>\n",
       "      <td>1000_251</td>\n",
       "      <td>1000</td>\n",
       "      <td>2018-12-27</td>\n",
       "    </tr>\n",
       "    <tr>\n",
       "      <th>4</th>\n",
       "      <td>1000_255</td>\n",
       "      <td>1000</td>\n",
       "      <td>2018-12-26</td>\n",
       "    </tr>\n",
       "  </tbody>\n",
       "</table>\n",
       "</div>"
      ],
      "text/plain": [
       "         id  user_id message_date\n",
       "0  1000_125     1000   2018-12-27\n",
       "1  1000_160     1000   2018-12-31\n",
       "2  1000_223     1000   2018-12-31\n",
       "3  1000_251     1000   2018-12-27\n",
       "4  1000_255     1000   2018-12-26"
      ]
     },
     "execution_count": 16,
     "metadata": {},
     "output_type": "execute_result"
    }
   ],
   "source": [
    "# Imprime una muestra de datos para los mensajes\n",
    "\n",
    "df_messages.head()"
   ]
  },
  {
   "cell_type": "markdown",
   "metadata": {
    "id": "04xDj7KH0q1A"
   },
   "source": [
    "[Describe lo que ves y observas en la información general y en la muestra de datos impresa para el precio de datos anterior. ¿Hay algún problema (tipos de datos no adecuados, datos ausentes, etc.) que pudieran necesitar investigación y cambios adicionales? ¿Cómo se puede arreglar?]\n",
    "\n",
    "En este caso al igual que en el dataframe corespondiente a llamadas, se cambiará el tipo de dato de la fecha a to_datetime. No se observan valores nulos. "
   ]
  },
  {
   "cell_type": "markdown",
   "metadata": {
    "id": "Sprfak900q1B"
   },
   "source": [
    "### Corregir los datos"
   ]
  },
  {
   "cell_type": "markdown",
   "metadata": {
    "id": "eGw7d9j10q1B"
   },
   "source": [
    "[Corrige los problemas obvios con los datos basándote en las observaciones iniciales.]"
   ]
  },
  {
   "cell_type": "code",
   "execution_count": 17,
   "metadata": {
    "id": "vsllvkoa0q1B"
   },
   "outputs": [
    {
     "name": "stdout",
     "output_type": "stream",
     "text": [
      "<class 'pandas.core.frame.DataFrame'>\n",
      "RangeIndex: 76051 entries, 0 to 76050\n",
      "Data columns (total 3 columns):\n",
      " #   Column        Non-Null Count  Dtype         \n",
      "---  ------        --------------  -----         \n",
      " 0   id            76051 non-null  object        \n",
      " 1   user_id       76051 non-null  int64         \n",
      " 2   message_date  76051 non-null  datetime64[ns]\n",
      "dtypes: datetime64[ns](1), int64(1), object(1)\n",
      "memory usage: 1.7+ MB\n"
     ]
    }
   ],
   "source": [
    "df_messages.duplicated().sum()\n",
    "df_messages['message_date']=pd.to_datetime(df_messages['message_date'])\n",
    "df_messages.info()"
   ]
  },
  {
   "cell_type": "markdown",
   "metadata": {
    "id": "HvLid7iD0q1B"
   },
   "source": [
    "### Enriquecer los datos"
   ]
  },
  {
   "cell_type": "markdown",
   "metadata": {
    "id": "8nhPFKIe0q1C"
   },
   "source": [
    "[Agrega factores adicionales a los datos si crees que pudieran ser útiles.]"
   ]
  },
  {
   "cell_type": "code",
   "execution_count": 18,
   "metadata": {
    "id": "zYEXZac10q1C"
   },
   "outputs": [],
   "source": [
    "#Los datos se observan completos. "
   ]
  },
  {
   "cell_type": "markdown",
   "metadata": {
    "id": "bStkaxn40q1C"
   },
   "source": [
    "## Internet"
   ]
  },
  {
   "cell_type": "code",
   "execution_count": 19,
   "metadata": {
    "id": "e-Uz5qyn0q1C"
   },
   "outputs": [
    {
     "name": "stdout",
     "output_type": "stream",
     "text": [
      "<class 'pandas.core.frame.DataFrame'>\n",
      "RangeIndex: 104825 entries, 0 to 104824\n",
      "Data columns (total 4 columns):\n",
      " #   Column        Non-Null Count   Dtype  \n",
      "---  ------        --------------   -----  \n",
      " 0   id            104825 non-null  object \n",
      " 1   user_id       104825 non-null  int64  \n",
      " 2   session_date  104825 non-null  object \n",
      " 3   mb_used       104825 non-null  float64\n",
      "dtypes: float64(1), int64(1), object(2)\n",
      "memory usage: 3.2+ MB\n"
     ]
    },
    {
     "data": {
      "text/html": [
       "<div>\n",
       "<style scoped>\n",
       "    .dataframe tbody tr th:only-of-type {\n",
       "        vertical-align: middle;\n",
       "    }\n",
       "\n",
       "    .dataframe tbody tr th {\n",
       "        vertical-align: top;\n",
       "    }\n",
       "\n",
       "    .dataframe thead th {\n",
       "        text-align: right;\n",
       "    }\n",
       "</style>\n",
       "<table border=\"1\" class=\"dataframe\">\n",
       "  <thead>\n",
       "    <tr style=\"text-align: right;\">\n",
       "      <th></th>\n",
       "      <th>user_id</th>\n",
       "      <th>mb_used</th>\n",
       "    </tr>\n",
       "  </thead>\n",
       "  <tbody>\n",
       "    <tr>\n",
       "      <th>count</th>\n",
       "      <td>104825.000000</td>\n",
       "      <td>104825.000000</td>\n",
       "    </tr>\n",
       "    <tr>\n",
       "      <th>mean</th>\n",
       "      <td>1242.496361</td>\n",
       "      <td>366.713701</td>\n",
       "    </tr>\n",
       "    <tr>\n",
       "      <th>std</th>\n",
       "      <td>142.053913</td>\n",
       "      <td>277.170542</td>\n",
       "    </tr>\n",
       "    <tr>\n",
       "      <th>min</th>\n",
       "      <td>1000.000000</td>\n",
       "      <td>0.000000</td>\n",
       "    </tr>\n",
       "    <tr>\n",
       "      <th>25%</th>\n",
       "      <td>1122.000000</td>\n",
       "      <td>136.080000</td>\n",
       "    </tr>\n",
       "    <tr>\n",
       "      <th>50%</th>\n",
       "      <td>1236.000000</td>\n",
       "      <td>343.980000</td>\n",
       "    </tr>\n",
       "    <tr>\n",
       "      <th>75%</th>\n",
       "      <td>1367.000000</td>\n",
       "      <td>554.610000</td>\n",
       "    </tr>\n",
       "    <tr>\n",
       "      <th>max</th>\n",
       "      <td>1499.000000</td>\n",
       "      <td>1693.470000</td>\n",
       "    </tr>\n",
       "  </tbody>\n",
       "</table>\n",
       "</div>"
      ],
      "text/plain": [
       "             user_id        mb_used\n",
       "count  104825.000000  104825.000000\n",
       "mean     1242.496361     366.713701\n",
       "std       142.053913     277.170542\n",
       "min      1000.000000       0.000000\n",
       "25%      1122.000000     136.080000\n",
       "50%      1236.000000     343.980000\n",
       "75%      1367.000000     554.610000\n",
       "max      1499.000000    1693.470000"
      ]
     },
     "execution_count": 19,
     "metadata": {},
     "output_type": "execute_result"
    }
   ],
   "source": [
    "# Imprime la información general/resumida sobre el DataFrame de internet\n",
    "df_internet.info()\n",
    "df_internet.describe()"
   ]
  },
  {
   "cell_type": "code",
   "execution_count": 20,
   "metadata": {
    "id": "9r3x_XLw0q1C"
   },
   "outputs": [
    {
     "data": {
      "text/html": [
       "<div>\n",
       "<style scoped>\n",
       "    .dataframe tbody tr th:only-of-type {\n",
       "        vertical-align: middle;\n",
       "    }\n",
       "\n",
       "    .dataframe tbody tr th {\n",
       "        vertical-align: top;\n",
       "    }\n",
       "\n",
       "    .dataframe thead th {\n",
       "        text-align: right;\n",
       "    }\n",
       "</style>\n",
       "<table border=\"1\" class=\"dataframe\">\n",
       "  <thead>\n",
       "    <tr style=\"text-align: right;\">\n",
       "      <th></th>\n",
       "      <th>id</th>\n",
       "      <th>user_id</th>\n",
       "      <th>session_date</th>\n",
       "      <th>mb_used</th>\n",
       "    </tr>\n",
       "  </thead>\n",
       "  <tbody>\n",
       "    <tr>\n",
       "      <th>0</th>\n",
       "      <td>1000_13</td>\n",
       "      <td>1000</td>\n",
       "      <td>2018-12-29</td>\n",
       "      <td>89.86</td>\n",
       "    </tr>\n",
       "    <tr>\n",
       "      <th>1</th>\n",
       "      <td>1000_204</td>\n",
       "      <td>1000</td>\n",
       "      <td>2018-12-31</td>\n",
       "      <td>0.00</td>\n",
       "    </tr>\n",
       "    <tr>\n",
       "      <th>2</th>\n",
       "      <td>1000_379</td>\n",
       "      <td>1000</td>\n",
       "      <td>2018-12-28</td>\n",
       "      <td>660.40</td>\n",
       "    </tr>\n",
       "    <tr>\n",
       "      <th>3</th>\n",
       "      <td>1000_413</td>\n",
       "      <td>1000</td>\n",
       "      <td>2018-12-26</td>\n",
       "      <td>270.99</td>\n",
       "    </tr>\n",
       "    <tr>\n",
       "      <th>4</th>\n",
       "      <td>1000_442</td>\n",
       "      <td>1000</td>\n",
       "      <td>2018-12-27</td>\n",
       "      <td>880.22</td>\n",
       "    </tr>\n",
       "  </tbody>\n",
       "</table>\n",
       "</div>"
      ],
      "text/plain": [
       "         id  user_id session_date  mb_used\n",
       "0   1000_13     1000   2018-12-29    89.86\n",
       "1  1000_204     1000   2018-12-31     0.00\n",
       "2  1000_379     1000   2018-12-28   660.40\n",
       "3  1000_413     1000   2018-12-26   270.99\n",
       "4  1000_442     1000   2018-12-27   880.22"
      ]
     },
     "execution_count": 20,
     "metadata": {},
     "output_type": "execute_result"
    }
   ],
   "source": [
    "# Imprime una muestra de datos para el tráfico de internet\n",
    "df_internet.head()"
   ]
  },
  {
   "cell_type": "markdown",
   "metadata": {
    "id": "EzOG5ik30q1D"
   },
   "source": [
    "[Describe lo que ves y observas en la información general y en la muestra de datos impresa para el precio de datos anterior. ¿Hay algún problema (tipos de datos no adecuados, datos ausentes, etc.) que pudieran necesitar investigación y cambios adicionales? ¿Cómo se puede arreglar?]\n",
    "\n",
    "En este caso no se observan valores nulos, se cambiará session_date a to_datetime, se observa que en al igual que en las llamadas los mb se tienen que cambiar a gb y también tiene que ser un entero, en este caso no se cambiará en este paso para no perder información en caso de requerirla. Se hará el cambio hasta saber que no se requiere hacer un análisis con los mb usados."
   ]
  },
  {
   "cell_type": "markdown",
   "metadata": {
    "id": "yA0tkPFg0q1D"
   },
   "source": [
    "### Corregir los datos"
   ]
  },
  {
   "cell_type": "markdown",
   "metadata": {
    "id": "zlZMuIEK0q1D"
   },
   "source": [
    "[Corrige los problemas obvios con los datos basándote en las observaciones iniciales.]"
   ]
  },
  {
   "cell_type": "code",
   "execution_count": 21,
   "metadata": {
    "id": "zVeanzdd0q1E"
   },
   "outputs": [
    {
     "name": "stdout",
     "output_type": "stream",
     "text": [
      "<class 'pandas.core.frame.DataFrame'>\n",
      "RangeIndex: 104825 entries, 0 to 104824\n",
      "Data columns (total 4 columns):\n",
      " #   Column        Non-Null Count   Dtype         \n",
      "---  ------        --------------   -----         \n",
      " 0   id            104825 non-null  object        \n",
      " 1   user_id       104825 non-null  int64         \n",
      " 2   session_date  104825 non-null  datetime64[ns]\n",
      " 3   mb_used       104825 non-null  float64       \n",
      "dtypes: datetime64[ns](1), float64(1), int64(1), object(1)\n",
      "memory usage: 3.2+ MB\n"
     ]
    }
   ],
   "source": [
    "df_internet.duplicated().sum()\n",
    "df_internet['session_date']=pd.to_datetime(df_internet['session_date'])\n",
    "df_internet.info()"
   ]
  },
  {
   "cell_type": "markdown",
   "metadata": {
    "id": "e8_mLF4a0q1E"
   },
   "source": [
    "### Enriquecer los datos"
   ]
  },
  {
   "cell_type": "markdown",
   "metadata": {
    "id": "xhNdn2tE0q1E"
   },
   "source": [
    "[Agrega factores adicionales a los datos si crees que pudieran ser útiles.]"
   ]
  },
  {
   "cell_type": "code",
   "execution_count": 22,
   "metadata": {
    "id": "ESiYPIEK0q1E"
   },
   "outputs": [],
   "source": [
    "#Los mb se tienen que cambiar a gb y también tiene que ser un entero, \n",
    "#en este caso no se cambiará en este paso para no perder información en caso de requerirla. \n",
    "#Se hará el cambio hasta saber que no se requiere hacer un análisis con los mb usados."
   ]
  },
  {
   "cell_type": "markdown",
   "metadata": {
    "id": "3UA2cqIW0q1E"
   },
   "source": [
    "## Estudiar las condiciones de las tarifas"
   ]
  },
  {
   "cell_type": "markdown",
   "metadata": {
    "id": "T86Sqltq0q1F"
   },
   "source": [
    "[Es sumamente importante entender cómo funcionan las tarifas, cómo se les cobra a los usuarios en función de su plan de suscripción. Así que te sugerimos imprimir la información de la tarifa para ver una vez más sus condiciones.]"
   ]
  },
  {
   "cell_type": "code",
   "execution_count": 23,
   "metadata": {
    "id": "i409op8p0q1F"
   },
   "outputs": [
    {
     "data": {
      "text/html": [
       "<div>\n",
       "<style scoped>\n",
       "    .dataframe tbody tr th:only-of-type {\n",
       "        vertical-align: middle;\n",
       "    }\n",
       "\n",
       "    .dataframe tbody tr th {\n",
       "        vertical-align: top;\n",
       "    }\n",
       "\n",
       "    .dataframe thead th {\n",
       "        text-align: right;\n",
       "    }\n",
       "</style>\n",
       "<table border=\"1\" class=\"dataframe\">\n",
       "  <thead>\n",
       "    <tr style=\"text-align: right;\">\n",
       "      <th></th>\n",
       "      <th>messages_included</th>\n",
       "      <th>mb_per_month_included</th>\n",
       "      <th>minutes_included</th>\n",
       "      <th>usd_monthly_pay</th>\n",
       "      <th>usd_per_gb</th>\n",
       "      <th>usd_per_message</th>\n",
       "      <th>usd_per_minute</th>\n",
       "      <th>plan_name</th>\n",
       "    </tr>\n",
       "  </thead>\n",
       "  <tbody>\n",
       "    <tr>\n",
       "      <th>0</th>\n",
       "      <td>50</td>\n",
       "      <td>15360</td>\n",
       "      <td>500</td>\n",
       "      <td>20</td>\n",
       "      <td>10</td>\n",
       "      <td>0.03</td>\n",
       "      <td>0.03</td>\n",
       "      <td>surf</td>\n",
       "    </tr>\n",
       "    <tr>\n",
       "      <th>1</th>\n",
       "      <td>1000</td>\n",
       "      <td>30720</td>\n",
       "      <td>3000</td>\n",
       "      <td>70</td>\n",
       "      <td>7</td>\n",
       "      <td>0.01</td>\n",
       "      <td>0.01</td>\n",
       "      <td>ultimate</td>\n",
       "    </tr>\n",
       "  </tbody>\n",
       "</table>\n",
       "</div>"
      ],
      "text/plain": [
       "   messages_included  mb_per_month_included  minutes_included  \\\n",
       "0                 50                  15360               500   \n",
       "1               1000                  30720              3000   \n",
       "\n",
       "   usd_monthly_pay  usd_per_gb  usd_per_message  usd_per_minute plan_name  \n",
       "0               20          10             0.03            0.03      surf  \n",
       "1               70           7             0.01            0.01  ultimate  "
      ]
     },
     "execution_count": 23,
     "metadata": {},
     "output_type": "execute_result"
    }
   ],
   "source": [
    "# Imprime las condiciones de la tarifa y asegúrate de que te quedan claras\n",
    "df_plans.head()"
   ]
  },
  {
   "cell_type": "markdown",
   "metadata": {
    "id": "hMR1tP5d0q1F"
   },
   "source": [
    "## Agregar datos por usuario\n",
    "\n",
    "[Ahora que los datos están limpios, agrega los datos por usuario y por periodo para que solo haya un registro por usuario y por periodo. Esto facilitará mucho el análisis posterior.]"
   ]
  },
  {
   "cell_type": "code",
   "execution_count": 24,
   "metadata": {
    "id": "A332cedB0q1G"
   },
   "outputs": [
    {
     "data": {
      "text/html": [
       "<div>\n",
       "<style scoped>\n",
       "    .dataframe tbody tr th:only-of-type {\n",
       "        vertical-align: middle;\n",
       "    }\n",
       "\n",
       "    .dataframe tbody tr th {\n",
       "        vertical-align: top;\n",
       "    }\n",
       "\n",
       "    .dataframe thead th {\n",
       "        text-align: right;\n",
       "    }\n",
       "</style>\n",
       "<table border=\"1\" class=\"dataframe\">\n",
       "  <thead>\n",
       "    <tr style=\"text-align: right;\">\n",
       "      <th></th>\n",
       "      <th>user_id</th>\n",
       "      <th>month</th>\n",
       "      <th>total_calls</th>\n",
       "    </tr>\n",
       "  </thead>\n",
       "  <tbody>\n",
       "    <tr>\n",
       "      <th>0</th>\n",
       "      <td>1000</td>\n",
       "      <td>12</td>\n",
       "      <td>16</td>\n",
       "    </tr>\n",
       "    <tr>\n",
       "      <th>1</th>\n",
       "      <td>1001</td>\n",
       "      <td>8</td>\n",
       "      <td>27</td>\n",
       "    </tr>\n",
       "    <tr>\n",
       "      <th>2</th>\n",
       "      <td>1001</td>\n",
       "      <td>9</td>\n",
       "      <td>49</td>\n",
       "    </tr>\n",
       "    <tr>\n",
       "      <th>3</th>\n",
       "      <td>1001</td>\n",
       "      <td>10</td>\n",
       "      <td>65</td>\n",
       "    </tr>\n",
       "    <tr>\n",
       "      <th>4</th>\n",
       "      <td>1001</td>\n",
       "      <td>11</td>\n",
       "      <td>64</td>\n",
       "    </tr>\n",
       "    <tr>\n",
       "      <th>...</th>\n",
       "      <td>...</td>\n",
       "      <td>...</td>\n",
       "      <td>...</td>\n",
       "    </tr>\n",
       "    <tr>\n",
       "      <th>2253</th>\n",
       "      <td>1498</td>\n",
       "      <td>12</td>\n",
       "      <td>39</td>\n",
       "    </tr>\n",
       "    <tr>\n",
       "      <th>2254</th>\n",
       "      <td>1499</td>\n",
       "      <td>9</td>\n",
       "      <td>41</td>\n",
       "    </tr>\n",
       "    <tr>\n",
       "      <th>2255</th>\n",
       "      <td>1499</td>\n",
       "      <td>10</td>\n",
       "      <td>53</td>\n",
       "    </tr>\n",
       "    <tr>\n",
       "      <th>2256</th>\n",
       "      <td>1499</td>\n",
       "      <td>11</td>\n",
       "      <td>45</td>\n",
       "    </tr>\n",
       "    <tr>\n",
       "      <th>2257</th>\n",
       "      <td>1499</td>\n",
       "      <td>12</td>\n",
       "      <td>65</td>\n",
       "    </tr>\n",
       "  </tbody>\n",
       "</table>\n",
       "<p>2258 rows × 3 columns</p>\n",
       "</div>"
      ],
      "text/plain": [
       "      user_id  month  total_calls\n",
       "0        1000     12           16\n",
       "1        1001      8           27\n",
       "2        1001      9           49\n",
       "3        1001     10           65\n",
       "4        1001     11           64\n",
       "...       ...    ...          ...\n",
       "2253     1498     12           39\n",
       "2254     1499      9           41\n",
       "2255     1499     10           53\n",
       "2256     1499     11           45\n",
       "2257     1499     12           65\n",
       "\n",
       "[2258 rows x 3 columns]"
      ]
     },
     "execution_count": 24,
     "metadata": {},
     "output_type": "execute_result"
    }
   ],
   "source": [
    "# Calcula el número de llamadas hechas por cada usuario al mes. Guarda el resultado.\n",
    "df_calls['month'] = df_calls['call_date'].dt.month\n",
    "calls_per_month=df_calls.groupby(['user_id', 'month'])['id'].count().reset_index().rename(columns={'id':'total_calls'})\n",
    "calls_per_month"
   ]
  },
  {
   "cell_type": "code",
   "execution_count": 25,
   "metadata": {
    "id": "aw2cmuql0q1G"
   },
   "outputs": [
    {
     "data": {
      "text/html": [
       "<div>\n",
       "<style scoped>\n",
       "    .dataframe tbody tr th:only-of-type {\n",
       "        vertical-align: middle;\n",
       "    }\n",
       "\n",
       "    .dataframe tbody tr th {\n",
       "        vertical-align: top;\n",
       "    }\n",
       "\n",
       "    .dataframe thead th {\n",
       "        text-align: right;\n",
       "    }\n",
       "</style>\n",
       "<table border=\"1\" class=\"dataframe\">\n",
       "  <thead>\n",
       "    <tr style=\"text-align: right;\">\n",
       "      <th></th>\n",
       "      <th>user_id</th>\n",
       "      <th>month</th>\n",
       "      <th>duration_to_pay</th>\n",
       "    </tr>\n",
       "  </thead>\n",
       "  <tbody>\n",
       "    <tr>\n",
       "      <th>0</th>\n",
       "      <td>1000</td>\n",
       "      <td>12</td>\n",
       "      <td>124</td>\n",
       "    </tr>\n",
       "    <tr>\n",
       "      <th>1</th>\n",
       "      <td>1001</td>\n",
       "      <td>8</td>\n",
       "      <td>182</td>\n",
       "    </tr>\n",
       "    <tr>\n",
       "      <th>2</th>\n",
       "      <td>1001</td>\n",
       "      <td>9</td>\n",
       "      <td>315</td>\n",
       "    </tr>\n",
       "    <tr>\n",
       "      <th>3</th>\n",
       "      <td>1001</td>\n",
       "      <td>10</td>\n",
       "      <td>393</td>\n",
       "    </tr>\n",
       "    <tr>\n",
       "      <th>4</th>\n",
       "      <td>1001</td>\n",
       "      <td>11</td>\n",
       "      <td>426</td>\n",
       "    </tr>\n",
       "    <tr>\n",
       "      <th>...</th>\n",
       "      <td>...</td>\n",
       "      <td>...</td>\n",
       "      <td>...</td>\n",
       "    </tr>\n",
       "    <tr>\n",
       "      <th>2253</th>\n",
       "      <td>1498</td>\n",
       "      <td>12</td>\n",
       "      <td>339</td>\n",
       "    </tr>\n",
       "    <tr>\n",
       "      <th>2254</th>\n",
       "      <td>1499</td>\n",
       "      <td>9</td>\n",
       "      <td>346</td>\n",
       "    </tr>\n",
       "    <tr>\n",
       "      <th>2255</th>\n",
       "      <td>1499</td>\n",
       "      <td>10</td>\n",
       "      <td>385</td>\n",
       "    </tr>\n",
       "    <tr>\n",
       "      <th>2256</th>\n",
       "      <td>1499</td>\n",
       "      <td>11</td>\n",
       "      <td>308</td>\n",
       "    </tr>\n",
       "    <tr>\n",
       "      <th>2257</th>\n",
       "      <td>1499</td>\n",
       "      <td>12</td>\n",
       "      <td>496</td>\n",
       "    </tr>\n",
       "  </tbody>\n",
       "</table>\n",
       "<p>2258 rows × 3 columns</p>\n",
       "</div>"
      ],
      "text/plain": [
       "      user_id  month  duration_to_pay\n",
       "0        1000     12              124\n",
       "1        1001      8              182\n",
       "2        1001      9              315\n",
       "3        1001     10              393\n",
       "4        1001     11              426\n",
       "...       ...    ...              ...\n",
       "2253     1498     12              339\n",
       "2254     1499      9              346\n",
       "2255     1499     10              385\n",
       "2256     1499     11              308\n",
       "2257     1499     12              496\n",
       "\n",
       "[2258 rows x 3 columns]"
      ]
     },
     "execution_count": 25,
     "metadata": {},
     "output_type": "execute_result"
    }
   ],
   "source": [
    "# Calcula la cantidad de minutos usados por cada usuario al mes. Guarda el resultado.\n",
    "minutes_per_month=df_calls.groupby(['user_id', 'month'])['duration_to_pay'].sum().reset_index()\n",
    "minutes_per_month"
   ]
  },
  {
   "cell_type": "code",
   "execution_count": 26,
   "metadata": {
    "id": "CcQvNHn60q1G"
   },
   "outputs": [
    {
     "data": {
      "text/html": [
       "<div>\n",
       "<style scoped>\n",
       "    .dataframe tbody tr th:only-of-type {\n",
       "        vertical-align: middle;\n",
       "    }\n",
       "\n",
       "    .dataframe tbody tr th {\n",
       "        vertical-align: top;\n",
       "    }\n",
       "\n",
       "    .dataframe thead th {\n",
       "        text-align: right;\n",
       "    }\n",
       "</style>\n",
       "<table border=\"1\" class=\"dataframe\">\n",
       "  <thead>\n",
       "    <tr style=\"text-align: right;\">\n",
       "      <th></th>\n",
       "      <th>user_id</th>\n",
       "      <th>month</th>\n",
       "      <th>total_messages</th>\n",
       "    </tr>\n",
       "  </thead>\n",
       "  <tbody>\n",
       "    <tr>\n",
       "      <th>0</th>\n",
       "      <td>1000</td>\n",
       "      <td>12</td>\n",
       "      <td>11</td>\n",
       "    </tr>\n",
       "    <tr>\n",
       "      <th>1</th>\n",
       "      <td>1001</td>\n",
       "      <td>8</td>\n",
       "      <td>30</td>\n",
       "    </tr>\n",
       "    <tr>\n",
       "      <th>2</th>\n",
       "      <td>1001</td>\n",
       "      <td>9</td>\n",
       "      <td>44</td>\n",
       "    </tr>\n",
       "    <tr>\n",
       "      <th>3</th>\n",
       "      <td>1001</td>\n",
       "      <td>10</td>\n",
       "      <td>53</td>\n",
       "    </tr>\n",
       "    <tr>\n",
       "      <th>4</th>\n",
       "      <td>1001</td>\n",
       "      <td>11</td>\n",
       "      <td>36</td>\n",
       "    </tr>\n",
       "    <tr>\n",
       "      <th>...</th>\n",
       "      <td>...</td>\n",
       "      <td>...</td>\n",
       "      <td>...</td>\n",
       "    </tr>\n",
       "    <tr>\n",
       "      <th>1801</th>\n",
       "      <td>1496</td>\n",
       "      <td>9</td>\n",
       "      <td>21</td>\n",
       "    </tr>\n",
       "    <tr>\n",
       "      <th>1802</th>\n",
       "      <td>1496</td>\n",
       "      <td>10</td>\n",
       "      <td>18</td>\n",
       "    </tr>\n",
       "    <tr>\n",
       "      <th>1803</th>\n",
       "      <td>1496</td>\n",
       "      <td>11</td>\n",
       "      <td>13</td>\n",
       "    </tr>\n",
       "    <tr>\n",
       "      <th>1804</th>\n",
       "      <td>1496</td>\n",
       "      <td>12</td>\n",
       "      <td>11</td>\n",
       "    </tr>\n",
       "    <tr>\n",
       "      <th>1805</th>\n",
       "      <td>1497</td>\n",
       "      <td>12</td>\n",
       "      <td>50</td>\n",
       "    </tr>\n",
       "  </tbody>\n",
       "</table>\n",
       "<p>1806 rows × 3 columns</p>\n",
       "</div>"
      ],
      "text/plain": [
       "      user_id  month  total_messages\n",
       "0        1000     12              11\n",
       "1        1001      8              30\n",
       "2        1001      9              44\n",
       "3        1001     10              53\n",
       "4        1001     11              36\n",
       "...       ...    ...             ...\n",
       "1801     1496      9              21\n",
       "1802     1496     10              18\n",
       "1803     1496     11              13\n",
       "1804     1496     12              11\n",
       "1805     1497     12              50\n",
       "\n",
       "[1806 rows x 3 columns]"
      ]
     },
     "execution_count": 26,
     "metadata": {},
     "output_type": "execute_result"
    }
   ],
   "source": [
    "# Calcula el número de mensajes enviados por cada usuario al mes. Guarda el resultado.\n",
    "#df_messages['month'] = df_messages['message_date'].dt.to_period('M')\n",
    "df_messages['month'] = df_messages['message_date'].dt.month\n",
    "messages_per_month=df_messages.groupby(['user_id', 'month'])['id'].count().reset_index().rename(columns={'id':'total_messages'})\n",
    "messages_per_month"
   ]
  },
  {
   "cell_type": "code",
   "execution_count": 27,
   "metadata": {
    "id": "H1AqN2eG0q1H"
   },
   "outputs": [
    {
     "data": {
      "text/html": [
       "<div>\n",
       "<style scoped>\n",
       "    .dataframe tbody tr th:only-of-type {\n",
       "        vertical-align: middle;\n",
       "    }\n",
       "\n",
       "    .dataframe tbody tr th {\n",
       "        vertical-align: top;\n",
       "    }\n",
       "\n",
       "    .dataframe thead th {\n",
       "        text-align: right;\n",
       "    }\n",
       "</style>\n",
       "<table border=\"1\" class=\"dataframe\">\n",
       "  <thead>\n",
       "    <tr style=\"text-align: right;\">\n",
       "      <th></th>\n",
       "      <th>user_id</th>\n",
       "      <th>month</th>\n",
       "      <th>gb_to_pay</th>\n",
       "    </tr>\n",
       "  </thead>\n",
       "  <tbody>\n",
       "    <tr>\n",
       "      <th>0</th>\n",
       "      <td>1000</td>\n",
       "      <td>12</td>\n",
       "      <td>4.0</td>\n",
       "    </tr>\n",
       "    <tr>\n",
       "      <th>1</th>\n",
       "      <td>1001</td>\n",
       "      <td>8</td>\n",
       "      <td>21.0</td>\n",
       "    </tr>\n",
       "    <tr>\n",
       "      <th>2</th>\n",
       "      <td>1001</td>\n",
       "      <td>9</td>\n",
       "      <td>41.0</td>\n",
       "    </tr>\n",
       "    <tr>\n",
       "      <th>3</th>\n",
       "      <td>1001</td>\n",
       "      <td>10</td>\n",
       "      <td>50.0</td>\n",
       "    </tr>\n",
       "    <tr>\n",
       "      <th>4</th>\n",
       "      <td>1001</td>\n",
       "      <td>11</td>\n",
       "      <td>49.0</td>\n",
       "    </tr>\n",
       "    <tr>\n",
       "      <th>...</th>\n",
       "      <td>...</td>\n",
       "      <td>...</td>\n",
       "      <td>...</td>\n",
       "    </tr>\n",
       "    <tr>\n",
       "      <th>2272</th>\n",
       "      <td>1498</td>\n",
       "      <td>12</td>\n",
       "      <td>56.0</td>\n",
       "    </tr>\n",
       "    <tr>\n",
       "      <th>2273</th>\n",
       "      <td>1499</td>\n",
       "      <td>9</td>\n",
       "      <td>37.0</td>\n",
       "    </tr>\n",
       "    <tr>\n",
       "      <th>2274</th>\n",
       "      <td>1499</td>\n",
       "      <td>10</td>\n",
       "      <td>52.0</td>\n",
       "    </tr>\n",
       "    <tr>\n",
       "      <th>2275</th>\n",
       "      <td>1499</td>\n",
       "      <td>11</td>\n",
       "      <td>43.0</td>\n",
       "    </tr>\n",
       "    <tr>\n",
       "      <th>2276</th>\n",
       "      <td>1499</td>\n",
       "      <td>12</td>\n",
       "      <td>58.0</td>\n",
       "    </tr>\n",
       "  </tbody>\n",
       "</table>\n",
       "<p>2277 rows × 3 columns</p>\n",
       "</div>"
      ],
      "text/plain": [
       "      user_id  month  gb_to_pay\n",
       "0        1000     12        4.0\n",
       "1        1001      8       21.0\n",
       "2        1001      9       41.0\n",
       "3        1001     10       50.0\n",
       "4        1001     11       49.0\n",
       "...       ...    ...        ...\n",
       "2272     1498     12       56.0\n",
       "2273     1499      9       37.0\n",
       "2274     1499     10       52.0\n",
       "2275     1499     11       43.0\n",
       "2276     1499     12       58.0\n",
       "\n",
       "[2277 rows x 3 columns]"
      ]
     },
     "execution_count": 27,
     "metadata": {},
     "output_type": "execute_result"
    }
   ],
   "source": [
    "# Calcula el volumen del tráfico de Internet usado por cada usuario al mes. Guarda el resultado.\n",
    "# se realiza el redondeo de mb a gb\n",
    "def redondeo_gb(mb):\n",
    "    gb=np.ceil(mb/1024)\n",
    "    return gb\n",
    "df_internet['gb_to_pay']=df_internet['mb_used'].apply(redondeo_gb)\n",
    "df_internet.head()\n",
    "\n",
    "df_internet['month'] = df_internet['session_date'].dt.month\n",
    "\n",
    "internet_per_month=df_internet.groupby(['user_id', 'month'])['gb_to_pay'].sum().reset_index()\n",
    "internet_per_month"
   ]
  },
  {
   "cell_type": "markdown",
   "metadata": {
    "id": "VDfYXnj80q1H"
   },
   "source": [
    "[Junta los datos agregados en un DataFrame para que haya un registro que represente lo que consumió un usuario único en un mes determinado.]"
   ]
  },
  {
   "cell_type": "code",
   "execution_count": 28,
   "metadata": {
    "id": "FW99ykyf0q1H"
   },
   "outputs": [
    {
     "data": {
      "text/html": [
       "<div>\n",
       "<style scoped>\n",
       "    .dataframe tbody tr th:only-of-type {\n",
       "        vertical-align: middle;\n",
       "    }\n",
       "\n",
       "    .dataframe tbody tr th {\n",
       "        vertical-align: top;\n",
       "    }\n",
       "\n",
       "    .dataframe thead th {\n",
       "        text-align: right;\n",
       "    }\n",
       "</style>\n",
       "<table border=\"1\" class=\"dataframe\">\n",
       "  <thead>\n",
       "    <tr style=\"text-align: right;\">\n",
       "      <th></th>\n",
       "      <th>user_id</th>\n",
       "      <th>month</th>\n",
       "      <th>total_calls</th>\n",
       "      <th>duration_to_pay</th>\n",
       "      <th>total_messages</th>\n",
       "      <th>gb_to_pay</th>\n",
       "    </tr>\n",
       "  </thead>\n",
       "  <tbody>\n",
       "    <tr>\n",
       "      <th>0</th>\n",
       "      <td>1000</td>\n",
       "      <td>12</td>\n",
       "      <td>16.0</td>\n",
       "      <td>124.0</td>\n",
       "      <td>11.0</td>\n",
       "      <td>4.0</td>\n",
       "    </tr>\n",
       "    <tr>\n",
       "      <th>1</th>\n",
       "      <td>1001</td>\n",
       "      <td>8</td>\n",
       "      <td>27.0</td>\n",
       "      <td>182.0</td>\n",
       "      <td>30.0</td>\n",
       "      <td>21.0</td>\n",
       "    </tr>\n",
       "    <tr>\n",
       "      <th>2</th>\n",
       "      <td>1001</td>\n",
       "      <td>9</td>\n",
       "      <td>49.0</td>\n",
       "      <td>315.0</td>\n",
       "      <td>44.0</td>\n",
       "      <td>41.0</td>\n",
       "    </tr>\n",
       "    <tr>\n",
       "      <th>3</th>\n",
       "      <td>1001</td>\n",
       "      <td>10</td>\n",
       "      <td>65.0</td>\n",
       "      <td>393.0</td>\n",
       "      <td>53.0</td>\n",
       "      <td>50.0</td>\n",
       "    </tr>\n",
       "    <tr>\n",
       "      <th>4</th>\n",
       "      <td>1001</td>\n",
       "      <td>11</td>\n",
       "      <td>64.0</td>\n",
       "      <td>426.0</td>\n",
       "      <td>36.0</td>\n",
       "      <td>49.0</td>\n",
       "    </tr>\n",
       "    <tr>\n",
       "      <th>...</th>\n",
       "      <td>...</td>\n",
       "      <td>...</td>\n",
       "      <td>...</td>\n",
       "      <td>...</td>\n",
       "      <td>...</td>\n",
       "      <td>...</td>\n",
       "    </tr>\n",
       "    <tr>\n",
       "      <th>2288</th>\n",
       "      <td>1498</td>\n",
       "      <td>12</td>\n",
       "      <td>39.0</td>\n",
       "      <td>339.0</td>\n",
       "      <td>NaN</td>\n",
       "      <td>56.0</td>\n",
       "    </tr>\n",
       "    <tr>\n",
       "      <th>2289</th>\n",
       "      <td>1499</td>\n",
       "      <td>9</td>\n",
       "      <td>41.0</td>\n",
       "      <td>346.0</td>\n",
       "      <td>NaN</td>\n",
       "      <td>37.0</td>\n",
       "    </tr>\n",
       "    <tr>\n",
       "      <th>2290</th>\n",
       "      <td>1499</td>\n",
       "      <td>10</td>\n",
       "      <td>53.0</td>\n",
       "      <td>385.0</td>\n",
       "      <td>NaN</td>\n",
       "      <td>52.0</td>\n",
       "    </tr>\n",
       "    <tr>\n",
       "      <th>2291</th>\n",
       "      <td>1499</td>\n",
       "      <td>11</td>\n",
       "      <td>45.0</td>\n",
       "      <td>308.0</td>\n",
       "      <td>NaN</td>\n",
       "      <td>43.0</td>\n",
       "    </tr>\n",
       "    <tr>\n",
       "      <th>2292</th>\n",
       "      <td>1499</td>\n",
       "      <td>12</td>\n",
       "      <td>65.0</td>\n",
       "      <td>496.0</td>\n",
       "      <td>NaN</td>\n",
       "      <td>58.0</td>\n",
       "    </tr>\n",
       "  </tbody>\n",
       "</table>\n",
       "<p>2293 rows × 6 columns</p>\n",
       "</div>"
      ],
      "text/plain": [
       "      user_id  month  total_calls  duration_to_pay  total_messages  gb_to_pay\n",
       "0        1000     12         16.0            124.0            11.0        4.0\n",
       "1        1001      8         27.0            182.0            30.0       21.0\n",
       "2        1001      9         49.0            315.0            44.0       41.0\n",
       "3        1001     10         65.0            393.0            53.0       50.0\n",
       "4        1001     11         64.0            426.0            36.0       49.0\n",
       "...       ...    ...          ...              ...             ...        ...\n",
       "2288     1498     12         39.0            339.0             NaN       56.0\n",
       "2289     1499      9         41.0            346.0             NaN       37.0\n",
       "2290     1499     10         53.0            385.0             NaN       52.0\n",
       "2291     1499     11         45.0            308.0             NaN       43.0\n",
       "2292     1499     12         65.0            496.0             NaN       58.0\n",
       "\n",
       "[2293 rows x 6 columns]"
      ]
     },
     "execution_count": 28,
     "metadata": {},
     "output_type": "execute_result"
    }
   ],
   "source": [
    "# Fusiona los datos de llamadas, minutos, mensajes e Internet con base en user_id y month\n",
    "df_merged=calls_per_month.merge(minutes_per_month, on=['user_id', 'month'], how='outer')\n",
    "df_merged=df_merged.merge(messages_per_month, left_on=['user_id', 'month'], right_on=['user_id', 'month'], how='outer')\n",
    "df_merged=df_merged.merge(internet_per_month, left_on=['user_id', 'month'], right_on=['user_id', 'month'], how='outer')\n",
    "df_merged"
   ]
  },
  {
   "cell_type": "code",
   "execution_count": 29,
   "metadata": {
    "id": "0dNOXHag0q1H"
   },
   "outputs": [
    {
     "data": {
      "text/html": [
       "<div>\n",
       "<style scoped>\n",
       "    .dataframe tbody tr th:only-of-type {\n",
       "        vertical-align: middle;\n",
       "    }\n",
       "\n",
       "    .dataframe tbody tr th {\n",
       "        vertical-align: top;\n",
       "    }\n",
       "\n",
       "    .dataframe thead th {\n",
       "        text-align: right;\n",
       "    }\n",
       "</style>\n",
       "<table border=\"1\" class=\"dataframe\">\n",
       "  <thead>\n",
       "    <tr style=\"text-align: right;\">\n",
       "      <th></th>\n",
       "      <th>user_id</th>\n",
       "      <th>first_name</th>\n",
       "      <th>last_name</th>\n",
       "      <th>age</th>\n",
       "      <th>city</th>\n",
       "      <th>reg_date</th>\n",
       "      <th>plan</th>\n",
       "      <th>churn_date</th>\n",
       "      <th>region</th>\n",
       "      <th>month</th>\n",
       "      <th>...</th>\n",
       "      <th>duration_to_pay</th>\n",
       "      <th>total_messages</th>\n",
       "      <th>gb_to_pay</th>\n",
       "      <th>messages_included</th>\n",
       "      <th>mb_per_month_included</th>\n",
       "      <th>minutes_included</th>\n",
       "      <th>usd_monthly_pay</th>\n",
       "      <th>usd_per_gb</th>\n",
       "      <th>usd_per_message</th>\n",
       "      <th>usd_per_minute</th>\n",
       "    </tr>\n",
       "  </thead>\n",
       "  <tbody>\n",
       "    <tr>\n",
       "      <th>0</th>\n",
       "      <td>1000</td>\n",
       "      <td>Anamaria</td>\n",
       "      <td>Bauer</td>\n",
       "      <td>45</td>\n",
       "      <td>Atlanta-Sandy Springs-Roswell, GA MSA</td>\n",
       "      <td>2018-12-24</td>\n",
       "      <td>ultimate</td>\n",
       "      <td>NaT</td>\n",
       "      <td>NaN</td>\n",
       "      <td>12</td>\n",
       "      <td>...</td>\n",
       "      <td>124.0</td>\n",
       "      <td>11.0</td>\n",
       "      <td>4.0</td>\n",
       "      <td>1000</td>\n",
       "      <td>30720</td>\n",
       "      <td>3000</td>\n",
       "      <td>70</td>\n",
       "      <td>7</td>\n",
       "      <td>0.01</td>\n",
       "      <td>0.01</td>\n",
       "    </tr>\n",
       "    <tr>\n",
       "      <th>1</th>\n",
       "      <td>1001</td>\n",
       "      <td>Mickey</td>\n",
       "      <td>Wilkerson</td>\n",
       "      <td>28</td>\n",
       "      <td>Seattle-Tacoma-Bellevue, WA MSA</td>\n",
       "      <td>2018-08-13</td>\n",
       "      <td>surf</td>\n",
       "      <td>NaT</td>\n",
       "      <td>NaN</td>\n",
       "      <td>8</td>\n",
       "      <td>...</td>\n",
       "      <td>182.0</td>\n",
       "      <td>30.0</td>\n",
       "      <td>21.0</td>\n",
       "      <td>50</td>\n",
       "      <td>15360</td>\n",
       "      <td>500</td>\n",
       "      <td>20</td>\n",
       "      <td>10</td>\n",
       "      <td>0.03</td>\n",
       "      <td>0.03</td>\n",
       "    </tr>\n",
       "    <tr>\n",
       "      <th>2</th>\n",
       "      <td>1001</td>\n",
       "      <td>Mickey</td>\n",
       "      <td>Wilkerson</td>\n",
       "      <td>28</td>\n",
       "      <td>Seattle-Tacoma-Bellevue, WA MSA</td>\n",
       "      <td>2018-08-13</td>\n",
       "      <td>surf</td>\n",
       "      <td>NaT</td>\n",
       "      <td>NaN</td>\n",
       "      <td>9</td>\n",
       "      <td>...</td>\n",
       "      <td>315.0</td>\n",
       "      <td>44.0</td>\n",
       "      <td>41.0</td>\n",
       "      <td>50</td>\n",
       "      <td>15360</td>\n",
       "      <td>500</td>\n",
       "      <td>20</td>\n",
       "      <td>10</td>\n",
       "      <td>0.03</td>\n",
       "      <td>0.03</td>\n",
       "    </tr>\n",
       "    <tr>\n",
       "      <th>3</th>\n",
       "      <td>1001</td>\n",
       "      <td>Mickey</td>\n",
       "      <td>Wilkerson</td>\n",
       "      <td>28</td>\n",
       "      <td>Seattle-Tacoma-Bellevue, WA MSA</td>\n",
       "      <td>2018-08-13</td>\n",
       "      <td>surf</td>\n",
       "      <td>NaT</td>\n",
       "      <td>NaN</td>\n",
       "      <td>10</td>\n",
       "      <td>...</td>\n",
       "      <td>393.0</td>\n",
       "      <td>53.0</td>\n",
       "      <td>50.0</td>\n",
       "      <td>50</td>\n",
       "      <td>15360</td>\n",
       "      <td>500</td>\n",
       "      <td>20</td>\n",
       "      <td>10</td>\n",
       "      <td>0.03</td>\n",
       "      <td>0.03</td>\n",
       "    </tr>\n",
       "    <tr>\n",
       "      <th>4</th>\n",
       "      <td>1001</td>\n",
       "      <td>Mickey</td>\n",
       "      <td>Wilkerson</td>\n",
       "      <td>28</td>\n",
       "      <td>Seattle-Tacoma-Bellevue, WA MSA</td>\n",
       "      <td>2018-08-13</td>\n",
       "      <td>surf</td>\n",
       "      <td>NaT</td>\n",
       "      <td>NaN</td>\n",
       "      <td>11</td>\n",
       "      <td>...</td>\n",
       "      <td>426.0</td>\n",
       "      <td>36.0</td>\n",
       "      <td>49.0</td>\n",
       "      <td>50</td>\n",
       "      <td>15360</td>\n",
       "      <td>500</td>\n",
       "      <td>20</td>\n",
       "      <td>10</td>\n",
       "      <td>0.03</td>\n",
       "      <td>0.03</td>\n",
       "    </tr>\n",
       "  </tbody>\n",
       "</table>\n",
       "<p>5 rows × 21 columns</p>\n",
       "</div>"
      ],
      "text/plain": [
       "   user_id first_name  last_name  age                                   city  \\\n",
       "0     1000   Anamaria      Bauer   45  Atlanta-Sandy Springs-Roswell, GA MSA   \n",
       "1     1001     Mickey  Wilkerson   28        Seattle-Tacoma-Bellevue, WA MSA   \n",
       "2     1001     Mickey  Wilkerson   28        Seattle-Tacoma-Bellevue, WA MSA   \n",
       "3     1001     Mickey  Wilkerson   28        Seattle-Tacoma-Bellevue, WA MSA   \n",
       "4     1001     Mickey  Wilkerson   28        Seattle-Tacoma-Bellevue, WA MSA   \n",
       "\n",
       "    reg_date      plan churn_date region  month  ...  duration_to_pay  \\\n",
       "0 2018-12-24  ultimate        NaT    NaN     12  ...            124.0   \n",
       "1 2018-08-13      surf        NaT    NaN      8  ...            182.0   \n",
       "2 2018-08-13      surf        NaT    NaN      9  ...            315.0   \n",
       "3 2018-08-13      surf        NaT    NaN     10  ...            393.0   \n",
       "4 2018-08-13      surf        NaT    NaN     11  ...            426.0   \n",
       "\n",
       "   total_messages  gb_to_pay  messages_included  mb_per_month_included  \\\n",
       "0            11.0        4.0               1000                  30720   \n",
       "1            30.0       21.0                 50                  15360   \n",
       "2            44.0       41.0                 50                  15360   \n",
       "3            53.0       50.0                 50                  15360   \n",
       "4            36.0       49.0                 50                  15360   \n",
       "\n",
       "   minutes_included  usd_monthly_pay  usd_per_gb  usd_per_message  \\\n",
       "0              3000               70           7             0.01   \n",
       "1               500               20          10             0.03   \n",
       "2               500               20          10             0.03   \n",
       "3               500               20          10             0.03   \n",
       "4               500               20          10             0.03   \n",
       "\n",
       "   usd_per_minute  \n",
       "0            0.01  \n",
       "1            0.03  \n",
       "2            0.03  \n",
       "3            0.03  \n",
       "4            0.03  \n",
       "\n",
       "[5 rows x 21 columns]"
      ]
     },
     "execution_count": 29,
     "metadata": {},
     "output_type": "execute_result"
    }
   ],
   "source": [
    "# Añade la información de la tarifa\n",
    "users_merged=df_users.merge(df_merged, on=['user_id'])\n",
    "final_merged=users_merged.merge(df_plans, left_on='plan', right_on='plan_name').drop(columns='plan_name')\n",
    "final_merged.head()"
   ]
  },
  {
   "cell_type": "markdown",
   "metadata": {
    "id": "1IwGo4wg0q1I"
   },
   "source": [
    "[Calcula los ingresos mensuales por usuario (resta el límite del paquete gratuito del número total de llamadas, mensajes de texto y datos; multiplica el resultado por el valor del plan de llamadas; añade la tarifa mensual en función del plan de llamadas). Nota: Dadas las condiciones del plan, ¡esto podría no ser tan trivial como un par de líneas! Así que no pasa nada si dedicas algo de tiempo a ello.]"
   ]
  },
  {
   "cell_type": "code",
   "execution_count": 30,
   "metadata": {
    "id": "5FGCf_c60q1I"
   },
   "outputs": [
    {
     "data": {
      "text/html": [
       "<div>\n",
       "<style scoped>\n",
       "    .dataframe tbody tr th:only-of-type {\n",
       "        vertical-align: middle;\n",
       "    }\n",
       "\n",
       "    .dataframe tbody tr th {\n",
       "        vertical-align: top;\n",
       "    }\n",
       "\n",
       "    .dataframe thead th {\n",
       "        text-align: right;\n",
       "    }\n",
       "</style>\n",
       "<table border=\"1\" class=\"dataframe\">\n",
       "  <thead>\n",
       "    <tr style=\"text-align: right;\">\n",
       "      <th></th>\n",
       "      <th>usd_monthly_pay</th>\n",
       "      <th>user_id</th>\n",
       "      <th>month</th>\n",
       "      <th>duration_to_pay</th>\n",
       "      <th>total_calls</th>\n",
       "      <th>total_messages</th>\n",
       "      <th>gb_to_pay</th>\n",
       "      <th>plan</th>\n",
       "      <th>city</th>\n",
       "      <th>region</th>\n",
       "    </tr>\n",
       "  </thead>\n",
       "  <tbody>\n",
       "    <tr>\n",
       "      <th>0</th>\n",
       "      <td>70</td>\n",
       "      <td>1000</td>\n",
       "      <td>12</td>\n",
       "      <td>124.0</td>\n",
       "      <td>16.0</td>\n",
       "      <td>11.0</td>\n",
       "      <td>4.0</td>\n",
       "      <td>ultimate</td>\n",
       "      <td>Atlanta-Sandy Springs-Roswell, GA MSA</td>\n",
       "      <td>NaN</td>\n",
       "    </tr>\n",
       "    <tr>\n",
       "      <th>1</th>\n",
       "      <td>20</td>\n",
       "      <td>1001</td>\n",
       "      <td>8</td>\n",
       "      <td>182.0</td>\n",
       "      <td>27.0</td>\n",
       "      <td>30.0</td>\n",
       "      <td>21.0</td>\n",
       "      <td>surf</td>\n",
       "      <td>Seattle-Tacoma-Bellevue, WA MSA</td>\n",
       "      <td>NaN</td>\n",
       "    </tr>\n",
       "    <tr>\n",
       "      <th>2</th>\n",
       "      <td>20</td>\n",
       "      <td>1001</td>\n",
       "      <td>9</td>\n",
       "      <td>315.0</td>\n",
       "      <td>49.0</td>\n",
       "      <td>44.0</td>\n",
       "      <td>41.0</td>\n",
       "      <td>surf</td>\n",
       "      <td>Seattle-Tacoma-Bellevue, WA MSA</td>\n",
       "      <td>NaN</td>\n",
       "    </tr>\n",
       "    <tr>\n",
       "      <th>3</th>\n",
       "      <td>20</td>\n",
       "      <td>1001</td>\n",
       "      <td>10</td>\n",
       "      <td>393.0</td>\n",
       "      <td>65.0</td>\n",
       "      <td>53.0</td>\n",
       "      <td>50.0</td>\n",
       "      <td>surf</td>\n",
       "      <td>Seattle-Tacoma-Bellevue, WA MSA</td>\n",
       "      <td>NaN</td>\n",
       "    </tr>\n",
       "    <tr>\n",
       "      <th>4</th>\n",
       "      <td>20</td>\n",
       "      <td>1001</td>\n",
       "      <td>11</td>\n",
       "      <td>426.0</td>\n",
       "      <td>64.0</td>\n",
       "      <td>36.0</td>\n",
       "      <td>49.0</td>\n",
       "      <td>surf</td>\n",
       "      <td>Seattle-Tacoma-Bellevue, WA MSA</td>\n",
       "      <td>NaN</td>\n",
       "    </tr>\n",
       "  </tbody>\n",
       "</table>\n",
       "</div>"
      ],
      "text/plain": [
       "   usd_monthly_pay  user_id  month  duration_to_pay  total_calls  \\\n",
       "0               70     1000     12            124.0         16.0   \n",
       "1               20     1001      8            182.0         27.0   \n",
       "2               20     1001      9            315.0         49.0   \n",
       "3               20     1001     10            393.0         65.0   \n",
       "4               20     1001     11            426.0         64.0   \n",
       "\n",
       "   total_messages  gb_to_pay      plan                                   city  \\\n",
       "0            11.0        4.0  ultimate  Atlanta-Sandy Springs-Roswell, GA MSA   \n",
       "1            30.0       21.0      surf        Seattle-Tacoma-Bellevue, WA MSA   \n",
       "2            44.0       41.0      surf        Seattle-Tacoma-Bellevue, WA MSA   \n",
       "3            53.0       50.0      surf        Seattle-Tacoma-Bellevue, WA MSA   \n",
       "4            36.0       49.0      surf        Seattle-Tacoma-Bellevue, WA MSA   \n",
       "\n",
       "  region  \n",
       "0    NaN  \n",
       "1    NaN  \n",
       "2    NaN  \n",
       "3    NaN  \n",
       "4    NaN  "
      ]
     },
     "execution_count": 30,
     "metadata": {},
     "output_type": "execute_result"
    }
   ],
   "source": [
    "#Limpiamos la tabla con los datos a trabajar\n",
    "final_table=final_merged[['usd_monthly_pay','user_id','month','duration_to_pay','total_calls','total_messages','gb_to_pay','plan','city','region']]\n",
    "final_table.head()"
   ]
  },
  {
   "cell_type": "code",
   "execution_count": 31,
   "metadata": {
    "scrolled": true
   },
   "outputs": [
    {
     "data": {
      "text/html": [
       "<div>\n",
       "<style scoped>\n",
       "    .dataframe tbody tr th:only-of-type {\n",
       "        vertical-align: middle;\n",
       "    }\n",
       "\n",
       "    .dataframe tbody tr th {\n",
       "        vertical-align: top;\n",
       "    }\n",
       "\n",
       "    .dataframe thead th {\n",
       "        text-align: right;\n",
       "    }\n",
       "</style>\n",
       "<table border=\"1\" class=\"dataframe\">\n",
       "  <thead>\n",
       "    <tr style=\"text-align: right;\">\n",
       "      <th></th>\n",
       "      <th>usd_monthly_pay</th>\n",
       "      <th>user_id</th>\n",
       "      <th>month</th>\n",
       "      <th>duration_to_pay</th>\n",
       "      <th>total_calls</th>\n",
       "      <th>total_messages</th>\n",
       "      <th>gb_to_pay</th>\n",
       "      <th>plan</th>\n",
       "      <th>city</th>\n",
       "      <th>region</th>\n",
       "      <th>extra_calls</th>\n",
       "      <th>extra_messagess</th>\n",
       "      <th>extra_gb</th>\n",
       "      <th>income</th>\n",
       "    </tr>\n",
       "  </thead>\n",
       "  <tbody>\n",
       "    <tr>\n",
       "      <th>0</th>\n",
       "      <td>70</td>\n",
       "      <td>1000</td>\n",
       "      <td>12</td>\n",
       "      <td>124.0</td>\n",
       "      <td>16.0</td>\n",
       "      <td>11.0</td>\n",
       "      <td>4.0</td>\n",
       "      <td>ultimate</td>\n",
       "      <td>Atlanta-Sandy Springs-Roswell, GA MSA</td>\n",
       "      <td>NaN</td>\n",
       "      <td>0.0</td>\n",
       "      <td>0.0</td>\n",
       "      <td>0.0</td>\n",
       "      <td>70.0</td>\n",
       "    </tr>\n",
       "    <tr>\n",
       "      <th>1</th>\n",
       "      <td>20</td>\n",
       "      <td>1001</td>\n",
       "      <td>8</td>\n",
       "      <td>182.0</td>\n",
       "      <td>27.0</td>\n",
       "      <td>30.0</td>\n",
       "      <td>21.0</td>\n",
       "      <td>surf</td>\n",
       "      <td>Seattle-Tacoma-Bellevue, WA MSA</td>\n",
       "      <td>NaN</td>\n",
       "      <td>0.0</td>\n",
       "      <td>0.0</td>\n",
       "      <td>6.0</td>\n",
       "      <td>80.0</td>\n",
       "    </tr>\n",
       "    <tr>\n",
       "      <th>2</th>\n",
       "      <td>20</td>\n",
       "      <td>1001</td>\n",
       "      <td>9</td>\n",
       "      <td>315.0</td>\n",
       "      <td>49.0</td>\n",
       "      <td>44.0</td>\n",
       "      <td>41.0</td>\n",
       "      <td>surf</td>\n",
       "      <td>Seattle-Tacoma-Bellevue, WA MSA</td>\n",
       "      <td>NaN</td>\n",
       "      <td>0.0</td>\n",
       "      <td>0.0</td>\n",
       "      <td>26.0</td>\n",
       "      <td>280.0</td>\n",
       "    </tr>\n",
       "    <tr>\n",
       "      <th>3</th>\n",
       "      <td>20</td>\n",
       "      <td>1001</td>\n",
       "      <td>10</td>\n",
       "      <td>393.0</td>\n",
       "      <td>65.0</td>\n",
       "      <td>53.0</td>\n",
       "      <td>50.0</td>\n",
       "      <td>surf</td>\n",
       "      <td>Seattle-Tacoma-Bellevue, WA MSA</td>\n",
       "      <td>NaN</td>\n",
       "      <td>0.0</td>\n",
       "      <td>3.0</td>\n",
       "      <td>35.0</td>\n",
       "      <td>370.9</td>\n",
       "    </tr>\n",
       "    <tr>\n",
       "      <th>4</th>\n",
       "      <td>20</td>\n",
       "      <td>1001</td>\n",
       "      <td>11</td>\n",
       "      <td>426.0</td>\n",
       "      <td>64.0</td>\n",
       "      <td>36.0</td>\n",
       "      <td>49.0</td>\n",
       "      <td>surf</td>\n",
       "      <td>Seattle-Tacoma-Bellevue, WA MSA</td>\n",
       "      <td>NaN</td>\n",
       "      <td>0.0</td>\n",
       "      <td>0.0</td>\n",
       "      <td>34.0</td>\n",
       "      <td>360.0</td>\n",
       "    </tr>\n",
       "  </tbody>\n",
       "</table>\n",
       "</div>"
      ],
      "text/plain": [
       "   usd_monthly_pay  user_id  month  duration_to_pay  total_calls  \\\n",
       "0               70     1000     12            124.0         16.0   \n",
       "1               20     1001      8            182.0         27.0   \n",
       "2               20     1001      9            315.0         49.0   \n",
       "3               20     1001     10            393.0         65.0   \n",
       "4               20     1001     11            426.0         64.0   \n",
       "\n",
       "   total_messages  gb_to_pay      plan                                   city  \\\n",
       "0            11.0        4.0  ultimate  Atlanta-Sandy Springs-Roswell, GA MSA   \n",
       "1            30.0       21.0      surf        Seattle-Tacoma-Bellevue, WA MSA   \n",
       "2            44.0       41.0      surf        Seattle-Tacoma-Bellevue, WA MSA   \n",
       "3            53.0       50.0      surf        Seattle-Tacoma-Bellevue, WA MSA   \n",
       "4            36.0       49.0      surf        Seattle-Tacoma-Bellevue, WA MSA   \n",
       "\n",
       "  region  extra_calls  extra_messagess  extra_gb  income  \n",
       "0    NaN          0.0              0.0       0.0    70.0  \n",
       "1    NaN          0.0              0.0       6.0    80.0  \n",
       "2    NaN          0.0              0.0      26.0   280.0  \n",
       "3    NaN          0.0              3.0      35.0   370.9  \n",
       "4    NaN          0.0              0.0      34.0   360.0  "
      ]
     },
     "execution_count": 31,
     "metadata": {},
     "output_type": "execute_result"
    }
   ],
   "source": [
    "# Calcula el ingreso mensual para cada usuario\n",
    "# Columna de llamadas extras a cobrar \n",
    "def llamadas_to_pay(row):\n",
    "    plan=row['plan']\n",
    "    used_minutes=row['duration_to_pay']\n",
    "    \n",
    "    if plan=='surf':\n",
    "        if used_minutes>500:\n",
    "            chargeable=used_minutes-500\n",
    "        else: \n",
    "            chargeable=0\n",
    "    if plan=='ultimate':\n",
    "        if used_minutes>3000:\n",
    "            chargeable=used_minutes-3000\n",
    "        else: \n",
    "            chargeable=0\n",
    "    return chargeable\n",
    "\n",
    "final_table['extra_calls']=final_table.apply(llamadas_to_pay, axis=1)\n",
    "\n",
    "# Columna de mensajes extras a cobrar \n",
    "def mensajes_to_pay(row):\n",
    "    plan=row['plan']\n",
    "    used_messages=row['total_messages']\n",
    "    \n",
    "    if plan=='surf':\n",
    "        if used_messages>50:\n",
    "            chargeable=used_messages-50\n",
    "        else: \n",
    "            chargeable=0\n",
    "    if plan=='ultimate':\n",
    "        if used_messages>1000:\n",
    "            chargeable=used_messages-1000\n",
    "        else: \n",
    "            chargeable=0\n",
    "    return chargeable\n",
    "\n",
    "final_table['extra_messagess']=final_table.apply(mensajes_to_pay, axis=1)\n",
    "\n",
    "# Columna de GB extras a cobrar \n",
    "def gb_pay(row):\n",
    "    plan=row['plan']\n",
    "    used_gb=row['gb_to_pay']\n",
    "    \n",
    "    if plan=='surf':\n",
    "        if used_gb>15:\n",
    "            chargeable=used_gb-15\n",
    "        else: \n",
    "            chargeable=0\n",
    "    if plan=='ultimate':\n",
    "        if used_gb>30:\n",
    "            chargeable=used_gb-30\n",
    "        else: \n",
    "            chargeable=0\n",
    "    return chargeable\n",
    "\n",
    "final_table['extra_gb']=final_table.apply(gb_pay, axis=1)\n",
    "\n",
    "\n",
    "# Calculo del ingreso mensual para cada usuario y adición de la columna\n",
    "def income(row):\n",
    "    plan=row['plan']\n",
    "    extra_calls=row['extra_calls']\n",
    "    extra_messages=row['extra_messagess']\n",
    "    extra_gb=row['extra_gb']\n",
    "    usd_normal=row['usd_monthly_pay']\n",
    "    \n",
    "    cargo_surf_minutes=0.3\n",
    "    cargo_surf_messages=0.3\n",
    "    cargo_surf_gb=10\n",
    "    \n",
    "    cargo_ultimate_minutes=0.1\n",
    "    cargo_ultimate_messages=0.1\n",
    "    cargo_ultimate_gb=7\n",
    "    \n",
    "    if plan=='surf':\n",
    "        ingreso=usd_normal+((extra_calls*cargo_surf_minutes)+(extra_messages*cargo_surf_messages)+(extra_gb*cargo_surf_gb))\n",
    "    else:\n",
    "        ingreso=usd_normal+((extra_calls*cargo_ultimate_minutes)+(extra_messages*cargo_ultimate_messages)+(extra_gb*cargo_ultimate_gb))\n",
    "    return ingreso  \n",
    "\n",
    "final_table['income']=final_table.apply(income, axis=1)\n",
    "final_table.head()"
   ]
  },
  {
   "cell_type": "markdown",
   "metadata": {
    "id": "-jtyHzJb0q1I"
   },
   "source": [
    "## Estudia el comportamiento de usuario"
   ]
  },
  {
   "cell_type": "markdown",
   "metadata": {
    "id": "AxU3Y0N70q1J"
   },
   "source": [
    "[Calcula algunas estadísticas descriptivas para los datos agregados y fusionados que nos sean útiles y que muestren un panorama general captado por los datos. Dibuja gráficos útiles para facilitar la comprensión. Dado que la tarea principal es comparar las tarifas y decidir cuál es más rentable, las estadísticas y gráficas deben calcularse por tarifa.]\n",
    "\n",
    "[En los comentarios hallarás pistas relevantes para las llamadas, pero no las hay para los mensajes e Internet. Sin embargo, el principio del estudio estadístico que se aplica para ellos es el mismo que para las llamadas.]"
   ]
  },
  {
   "cell_type": "markdown",
   "metadata": {
    "id": "vtW4CJEe0q1J"
   },
   "source": [
    "### Llamadas"
   ]
  },
  {
   "cell_type": "code",
   "execution_count": 32,
   "metadata": {
    "id": "Jf5v5--k0q1J"
   },
   "outputs": [
    {
     "data": {
      "image/png": "[encoded data removed]",
      "text/plain": [
       "<Figure size 600x600 with 1 Axes>"
      ]
     },
     "metadata": {},
     "output_type": "display_data"
    }
   ],
   "source": [
    "# Compara la duración promedio de llamadas por cada plan y por cada mes. Traza un gráfico de barras para visualizarla.\n",
    "\n",
    "average_duration=final_table.groupby(['month', 'plan'])['duration_to_pay'].mean().unstack()\n",
    "average_duration.rename(columns={'duration_to_pay':'avg_duration'})\n",
    "\n",
    "\n",
    "average_duration.plot(\n",
    "        kind='bar', \n",
    "        title='Duración promedio de las llamadas',\n",
    "        figsize=[6, 6],\n",
    "        color=['cornflowerblue','pink'],\n",
    "        xlabel='Mes',\n",
    "        ylabel='Duración(min)',\n",
    "       )\n",
    "\n",
    "plt.show()"
   ]
  },
  {
   "cell_type": "markdown",
   "metadata": {
    "id": "AxU3Y0N70q1J"
   },
   "source": [
    "[Se observa que en el plan surf se realizan más llamadas en 7 de 12 meses a comparacion que ultimate y que el en plan ultimate en el mes de febrero es cuando se realizan más llamadas. Se observa que ambos planes tienen un comportamiento parecido durante todo el año a excepción del mes de febrero]"
   ]
  },
  {
   "cell_type": "code",
   "execution_count": 33,
   "metadata": {
    "id": "QoLqW1S_0q1J"
   },
   "outputs": [
    {
     "data": {
      "image/png": "[encoded data removed]",
      "text/plain": [
       "<Figure size 640x480 with 1 Axes>"
      ]
     },
     "metadata": {},
     "output_type": "display_data"
    }
   ],
   "source": [
    "# Compara el número de minutos mensuales que necesitan los usuarios de cada plan. Traza un histograma.\n",
    "\n",
    "final_table[final_table['plan']=='surf']['duration_to_pay'].plot(  \n",
    "        kind='hist',\n",
    "        title='Minutos necesarios por plan',\n",
    "        color='cornflowerblue',\n",
    "        bins=30,\n",
    "        label='surf'\n",
    "       )\n",
    "final_table[final_table['plan']=='ultimate']['duration_to_pay'].plot(  \n",
    "        kind='hist',\n",
    "        title='Minutos necesarios por plan',\n",
    "        color='pink',\n",
    "        bins=30,\n",
    "        label='ultimate'\n",
    "       )\n",
    "plt.legend()\n",
    "plt.show()"
   ]
  },
  {
   "cell_type": "markdown",
   "metadata": {
    "id": "AxU3Y0N70q1J"
   },
   "source": [
    "[Se observa que surf requiere más minutos a diferencia de ultimate.Surf requiere más del doble de minutos que ultimate.]"
   ]
  },
  {
   "cell_type": "markdown",
   "metadata": {
    "id": "bLS9T8OH0q1K"
   },
   "source": [
    "[Calcula la media y la variable de la duración de las llamadas para averiguar si los usuarios de los distintos planes se comportan de forma diferente al realizar sus llamadas.]"
   ]
  },
  {
   "cell_type": "code",
   "execution_count": 34,
   "metadata": {
    "id": "oSndbAnt0q1K"
   },
   "outputs": [
    {
     "data": {
      "text/html": [
       "<div>\n",
       "<style scoped>\n",
       "    .dataframe tbody tr th:only-of-type {\n",
       "        vertical-align: middle;\n",
       "    }\n",
       "\n",
       "    .dataframe tbody tr th {\n",
       "        vertical-align: top;\n",
       "    }\n",
       "\n",
       "    .dataframe thead th {\n",
       "        text-align: right;\n",
       "    }\n",
       "</style>\n",
       "<table border=\"1\" class=\"dataframe\">\n",
       "  <thead>\n",
       "    <tr style=\"text-align: right;\">\n",
       "      <th></th>\n",
       "      <th>mean</th>\n",
       "      <th>var</th>\n",
       "    </tr>\n",
       "    <tr>\n",
       "      <th>month</th>\n",
       "      <th></th>\n",
       "      <th></th>\n",
       "    </tr>\n",
       "  </thead>\n",
       "  <tbody>\n",
       "    <tr>\n",
       "      <th>1</th>\n",
       "      <td>196.666667</td>\n",
       "      <td>13135.866667</td>\n",
       "    </tr>\n",
       "    <tr>\n",
       "      <th>2</th>\n",
       "      <td>366.333333</td>\n",
       "      <td>56978.380952</td>\n",
       "    </tr>\n",
       "    <tr>\n",
       "      <th>3</th>\n",
       "      <td>321.171429</td>\n",
       "      <td>43378.499160</td>\n",
       "    </tr>\n",
       "    <tr>\n",
       "      <th>4</th>\n",
       "      <td>347.197183</td>\n",
       "      <td>45620.531992</td>\n",
       "    </tr>\n",
       "    <tr>\n",
       "      <th>5</th>\n",
       "      <td>409.125000</td>\n",
       "      <td>52828.673544</td>\n",
       "    </tr>\n",
       "    <tr>\n",
       "      <th>6</th>\n",
       "      <td>420.361702</td>\n",
       "      <td>42344.746809</td>\n",
       "    </tr>\n",
       "    <tr>\n",
       "      <th>7</th>\n",
       "      <td>444.944134</td>\n",
       "      <td>63782.244052</td>\n",
       "    </tr>\n",
       "    <tr>\n",
       "      <th>8</th>\n",
       "      <td>418.956522</td>\n",
       "      <td>52363.369280</td>\n",
       "    </tr>\n",
       "    <tr>\n",
       "      <th>9</th>\n",
       "      <td>425.942238</td>\n",
       "      <td>48325.605347</td>\n",
       "    </tr>\n",
       "    <tr>\n",
       "      <th>10</th>\n",
       "      <td>443.988131</td>\n",
       "      <td>50314.047478</td>\n",
       "    </tr>\n",
       "    <tr>\n",
       "      <th>11</th>\n",
       "      <td>437.570720</td>\n",
       "      <td>52021.061529</td>\n",
       "    </tr>\n",
       "    <tr>\n",
       "      <th>12</th>\n",
       "      <td>478.269565</td>\n",
       "      <td>60020.023037</td>\n",
       "    </tr>\n",
       "  </tbody>\n",
       "</table>\n",
       "</div>"
      ],
      "text/plain": [
       "             mean           var\n",
       "month                          \n",
       "1      196.666667  13135.866667\n",
       "2      366.333333  56978.380952\n",
       "3      321.171429  43378.499160\n",
       "4      347.197183  45620.531992\n",
       "5      409.125000  52828.673544\n",
       "6      420.361702  42344.746809\n",
       "7      444.944134  63782.244052\n",
       "8      418.956522  52363.369280\n",
       "9      425.942238  48325.605347\n",
       "10     443.988131  50314.047478\n",
       "11     437.570720  52021.061529\n",
       "12     478.269565  60020.023037"
      ]
     },
     "execution_count": 34,
     "metadata": {},
     "output_type": "execute_result"
    }
   ],
   "source": [
    "# Calcula la media y la varianza de la duración mensual de llamadas.\n",
    "mean=final_table.groupby('month')['duration_to_pay'].mean()\n",
    "var=final_table.groupby('month')['duration_to_pay'].var()\n",
    "\n",
    "calculo=pd.DataFrame({'mean':mean, 'var':var})\n",
    "calculo"
   ]
  },
  {
   "cell_type": "code",
   "execution_count": 35,
   "metadata": {
    "id": "nZzoRUKc0q1K",
    "scrolled": true
   },
   "outputs": [
    {
     "data": {
      "image/png": "[encoded data removed]",
      "text/plain": [
       "<Figure size 1600x800 with 1 Axes>"
      ]
     },
     "metadata": {},
     "output_type": "display_data"
    }
   ],
   "source": [
    "# Traza un diagrama de caja para visualizar la distribución de la duración mensual de llamadas\n",
    "\n",
    "#Convertir la columna 'month' a tipo string para mejor visualización en el gráfico\n",
    "final_table['month']=final_table['month'].astype(int) \n",
    "#Filtrar los datos para los planes\n",
    "surf_data=final_table[final_table['plan']=='surf'] \n",
    "ultimate_data=final_table[final_table['plan']=='ultimate'] \n",
    "#Concatenar los datos en un solo DataFrame \n",
    "combined_data=pd.concat([surf_data, ultimate_data]) \n",
    "#ordenar por mes en orden ascendente \n",
    "combined_data=combined_data.sort_values(by='month')\n",
    "#convertir de vuelta la columna 'month' a tipo string \n",
    "combined_data['month']=combined_data['month'].astype(str) \n",
    "# Trazar el diagrama de caja combinado y ordenado por mes \n",
    "plt.figure(figsize=(16, 8)) \n",
    "sns.boxplot(x='month', \n",
    "            y='duration_to_pay', \n",
    "            hue='plan', \n",
    "            data=combined_data,palette={'surf': 'cornflowerblue', 'ultimate': 'pink'}) \n",
    "#configurar etiquetas y título del gráfico \n",
    "plt.xlabel('Mes') \n",
    "plt.ylabel('Total de minutos') \n",
    "plt.title('Distribución mensual de llamadas por plan') \n",
    "plt.legend(title='Plan') \n",
    "plt.xticks(rotation=45) \n",
    "plt.tight_layout() \n",
    "plt.show()\n"
   ]
  },
  {
   "cell_type": "markdown",
   "metadata": {
    "id": "r627zBO50q1K"
   },
   "source": [
    "[Elabora las conclusiones sobre el comportamiento de los usuarios con respecto a las llamadas. ¿Su comportamiento varía en función del plan?]\n",
    "Se observa que el comportamiento de los planes a partir del mes 7, es similar. Se vuelve a observar el \"pico\" en el mes de febrero en el plan ultimate y es probable que al requerir más minutos en ese mes se encuentren dentro de ese plan. "
   ]
  },
  {
   "cell_type": "markdown",
   "metadata": {
    "id": "8idKy8Wh0q1L"
   },
   "source": [
    "### Mensajes"
   ]
  },
  {
   "cell_type": "code",
   "execution_count": 36,
   "metadata": {
    "id": "NXLxiTit0q1L"
   },
   "outputs": [
    {
     "data": {
      "image/png": "[encoded data removed]",
      "text/plain": [
       "<Figure size 600x600 with 1 Axes>"
      ]
     },
     "metadata": {},
     "output_type": "display_data"
    }
   ],
   "source": [
    "# Comprara el número de mensajes que tienden a enviar cada mes los usuarios de cada plan\n",
    "\n",
    "average_messages=final_table.groupby(['month', 'plan'])['total_messages'].mean().unstack()\n",
    "\n",
    "average_messages.plot(\n",
    "        kind='bar', \n",
    "        title='Número promedio de mensajes',\n",
    "        figsize=[6, 6],\n",
    "        color=['cornflowerblue','pink'],\n",
    "        xlabel='Mes',\n",
    "        ylabel='Cantidad',\n",
    "       )\n",
    "\n",
    "plt.show()"
   ]
  },
  {
   "cell_type": "markdown",
   "metadata": {
    "id": "r627zBO50q1K"
   },
   "source": [
    "[Se observa que el comportamiento en promedio de los planes de acuerdo a mensajes para ultimate, es mayor en 11 de los 12 meses a diferencia de surf. Para ultimate, el mes de diciembre es cuando hay una mayor cantidad de mensajes enviados. En el caso de ultimate es en el mismo mes. Se observa que en promedio, los usuarios no requieren más mensajes en su plan.]"
   ]
  },
  {
   "cell_type": "code",
   "execution_count": 37,
   "metadata": {
    "id": "GRI_R7xF0q1L"
   },
   "outputs": [
    {
     "data": {
      "text/plain": [
       "<function matplotlib.pyplot.show(close=None, block=None)>"
      ]
     },
     "execution_count": 37,
     "metadata": {},
     "output_type": "execute_result"
    },
    {
     "data": {
      "image/png": "[encoded data removed]",
      "text/plain": [
       "<Figure size 640x480 with 1 Axes>"
      ]
     },
     "metadata": {},
     "output_type": "display_data"
    }
   ],
   "source": [
    "# Compara la cantidad de mensajes enviados por usuarios por plan\n",
    "\n",
    "messages_traffic=final_table.groupby(['user_id','plan','month'])['total_messages'].sum().reset_index()\n",
    "plt.figure\n",
    "\n",
    "plt.hist(messages_traffic[messages_traffic['plan']=='surf']['total_messages'],\n",
    "         bins=30, \n",
    "         alpha=0.8, \n",
    "         label='surf',\n",
    "         color='cornflowerblue')\n",
    "\n",
    "plt.hist(messages_traffic[messages_traffic['plan']=='ultimate']['total_messages'],\n",
    "         bins=30, \n",
    "         alpha=0.5, \n",
    "         label='ultimate',\n",
    "         color='pink')\n",
    "\n",
    "plt.title('Trafico de mensajes por plan')\n",
    "plt.legend(title='plans')\n",
    "plt.show"
   ]
  },
  {
   "cell_type": "markdown",
   "metadata": {
    "id": "r627zBO50q1K"
   },
   "source": [
    "[Se observa los usuarios de surf, requieren más mensajes que los usuarios de ultimate.]"
   ]
  },
  {
   "cell_type": "code",
   "execution_count": 38,
   "metadata": {},
   "outputs": [
    {
     "data": {
      "image/png": "[encoded data removed]",
      "text/plain": [
       "<Figure size 1600x800 with 1 Axes>"
      ]
     },
     "metadata": {},
     "output_type": "display_data"
    }
   ],
   "source": [
    "# Traza un diagrama de caja para visualizar la distribución de la cantidad mensual de mensajes.\n",
    "plt.figure(figsize=(16, 8)) \n",
    "sns.boxplot(x='month', y='total_messages', hue='plan', data=combined_data,palette={'surf': 'cornflowerblue', 'ultimate': 'pink'}) \n",
    "# Configurar etiquetas y título del gráfico \n",
    "plt.xlabel('Mes') \n",
    "plt.ylabel('Total de mensajes enviados') \n",
    "plt.title('Distribución mensual de mensajes enviados por plan') \n",
    "plt.legend(title='Plan') \n",
    "plt.xticks(rotation=45) \n",
    "plt.tight_layout() \n",
    "plt.show()"
   ]
  },
  {
   "cell_type": "markdown",
   "metadata": {
    "id": "390SSL480q1M"
   },
   "source": [
    "[Elabora las conclusiones sobre el comportamiento de los usuarios con respecto a los mensajes. ¿Su comportamiento varía en función del plan?\n",
    "Se puede observar que hay muchos más valores atipicos en su mayoría en el plan de surf. Esto puede ser porque necesitan más mensajes que los que incluye su plan.]"
   ]
  },
  {
   "cell_type": "markdown",
   "metadata": {
    "id": "42YSypXz0q1M"
   },
   "source": [
    "### Internet"
   ]
  },
  {
   "cell_type": "code",
   "execution_count": 39,
   "metadata": {
    "id": "lSuKPtjh0q1M"
   },
   "outputs": [
    {
     "data": {
      "image/png": "[encoded data removed]",
      "text/plain": [
       "<Figure size 600x600 with 1 Axes>"
      ]
     },
     "metadata": {},
     "output_type": "display_data"
    }
   ],
   "source": [
    "# Comprara el número de GB que tienden a consumir cada mes los usuarios de cada plan\n",
    "\n",
    "average_gb=final_table.groupby(['month', 'plan'])['gb_to_pay'].mean().unstack()\n",
    "\n",
    "average_gb.plot(\n",
    "        kind='bar', \n",
    "        title='GB promedio por mes',\n",
    "        figsize=[6, 6],\n",
    "        color=['cornflowerblue','pink'],\n",
    "        xlabel='Mes',\n",
    "        ylabel='Cantidad',\n",
    "       )\n",
    "\n",
    "plt.show()\n"
   ]
  },
  {
   "cell_type": "markdown",
   "metadata": {
    "id": "390SSL480q1M"
   },
   "source": [
    "[Se puede observar que los usuarios de ultimate consumen en promedio aproximadamente 40GB durante todo el año, esto quiere decir aprovechan el internet incluido en su plan. Los usuarios de surf a partir del 5 mes comienzan a tener un uso muy similar al de últimate, esto quiere decir que se les aplicará un costo extra porque su plan incluye 30 gb]"
   ]
  },
  {
   "cell_type": "code",
   "execution_count": 40,
   "metadata": {
    "id": "wnh8jYXi0q1N"
   },
   "outputs": [
    {
     "data": {
      "text/plain": [
       "<function matplotlib.pyplot.show(close=None, block=None)>"
      ]
     },
     "execution_count": 40,
     "metadata": {},
     "output_type": "execute_result"
    },
    {
     "data": {
      "image/png": "[encoded data removed]",
      "text/plain": [
       "<Figure size 640x480 with 1 Axes>"
      ]
     },
     "metadata": {},
     "output_type": "display_data"
    }
   ],
   "source": [
    "# Compara la cantidad de tráfico de Internet consumido por usuarios por plan\n",
    "\n",
    "internet_traffic=final_table.groupby(['user_id','plan','month'])['gb_to_pay'].sum().reset_index()\n",
    "plt.figure\n",
    "\n",
    "plt.hist(internet_traffic[internet_traffic['plan']=='surf']['gb_to_pay'],\n",
    "         bins=30, \n",
    "         alpha=0.8, \n",
    "         label='surf',\n",
    "         color='cornflowerblue')\n",
    "\n",
    "plt.hist(internet_traffic[internet_traffic['plan']=='ultimate']['gb_to_pay'],\n",
    "         bins=30, \n",
    "         alpha=0.5, \n",
    "         label='ultimate',\n",
    "         color='pink')\n",
    "\n",
    "plt.title('Trafico de internet por plan')\n",
    "plt.ylabel('GB cosumidos')\n",
    "plt.legend(title='plans')\n",
    "plt.show"
   ]
  },
  {
   "cell_type": "code",
   "execution_count": 41,
   "metadata": {
    "id": "5VlyJ9ry0q1N"
   },
   "outputs": [
    {
     "data": {
      "image/png": "[encoded data removed]",
      "text/plain": [
       "<Figure size 1600x800 with 1 Axes>"
      ]
     },
     "metadata": {},
     "output_type": "display_data"
    }
   ],
   "source": [
    "# Traza un diagrama de caja para visualizar la distribución de la cantidad mensual de Gb.\n",
    "plt.figure(figsize=(16, 8)) \n",
    "sns.boxplot(x='month', y='gb_to_pay', hue='plan', data=combined_data, palette={'surf': 'cornflowerblue', 'ultimate': 'pink'}) \n",
    "# Configurar etiquetas y título del gráfico \n",
    "plt.xlabel('Mes') \n",
    "plt.ylabel('Total de mensajes enviados') \n",
    "plt.title('Distribución mensual de Gb usados por plan') \n",
    "plt.legend(title='Plan') \n",
    "plt.xticks(rotation=45) \n",
    "plt.tight_layout() \n",
    "plt.show()\n",
    "\n",
    "#final_table.boxplot(column='gb_to_pay', by='month', figsize=(12, 6))"
   ]
  },
  {
   "cell_type": "markdown",
   "metadata": {
    "id": "UN9zwuMP0q1N"
   },
   "source": [
    "[Elabora las conclusiones sobre cómo los usuarios tienden a consumir el tráfico de Internet. ¿Su comportamiento varía en función del plan?]\n",
    "El comportamiento varía unicamente en los primeos meses, a partir del sexto mes se observa un comportamiento muy parecido entre ambos planes."
   ]
  },
  {
   "cell_type": "markdown",
   "metadata": {
    "id": "tCijq3260q1N"
   },
   "source": [
    "## Ingreso"
   ]
  },
  {
   "cell_type": "markdown",
   "metadata": {
    "id": "9nq5IAcy0q1O"
   },
   "source": [
    "[Del mismo modo que has estudiado el comportamiento de los usuarios, describe estadísticamente los ingresos de los planes.]"
   ]
  },
  {
   "cell_type": "code",
   "execution_count": 42,
   "metadata": {
    "id": "tz-dq_V00q1O"
   },
   "outputs": [
    {
     "data": {
      "image/png": "[encoded data removed]",
      "text/plain": [
       "<Figure size 600x600 with 1 Axes>"
      ]
     },
     "metadata": {},
     "output_type": "display_data"
    }
   ],
   "source": [
    "# Comprara el ingreso que tienen cada mes los usuarios de cada plan\n",
    "\n",
    "average_income=final_table.groupby(['month', 'plan'])['income'].mean().unstack()\n",
    "\n",
    "average_income.plot(\n",
    "        kind='bar', \n",
    "        title='Ingreso promedio por mes',\n",
    "        figsize=[6, 6],\n",
    "        color=['cornflowerblue','pink'],\n",
    "        xlabel='Mes',\n",
    "        ylabel='Ingreso promedio',\n",
    "       )\n",
    "\n",
    "plt.show()"
   ]
  },
  {
   "cell_type": "markdown",
   "metadata": {
    "id": "UN9zwuMP0q1N"
   },
   "source": [
    "[Se observa que los usuarios de surf pagan más cada mes que los de ultimate a pesar de que el costo inicial de su plan es menor.]"
   ]
  },
  {
   "cell_type": "code",
   "execution_count": 43,
   "metadata": {},
   "outputs": [
    {
     "data": {
      "text/html": [
       "<div>\n",
       "<style scoped>\n",
       "    .dataframe tbody tr th:only-of-type {\n",
       "        vertical-align: middle;\n",
       "    }\n",
       "\n",
       "    .dataframe tbody tr th {\n",
       "        vertical-align: top;\n",
       "    }\n",
       "\n",
       "    .dataframe thead th {\n",
       "        text-align: right;\n",
       "    }\n",
       "</style>\n",
       "<table border=\"1\" class=\"dataframe\">\n",
       "  <thead>\n",
       "    <tr style=\"text-align: right;\">\n",
       "      <th></th>\n",
       "      <th>mean</th>\n",
       "      <th>var</th>\n",
       "    </tr>\n",
       "    <tr>\n",
       "      <th>month</th>\n",
       "      <th></th>\n",
       "      <th></th>\n",
       "    </tr>\n",
       "  </thead>\n",
       "  <tbody>\n",
       "    <tr>\n",
       "      <th>1</th>\n",
       "      <td>63.333333</td>\n",
       "      <td>466.666667</td>\n",
       "    </tr>\n",
       "    <tr>\n",
       "      <th>2</th>\n",
       "      <td>182.731250</td>\n",
       "      <td>14332.208958</td>\n",
       "    </tr>\n",
       "    <tr>\n",
       "      <th>3</th>\n",
       "      <td>204.985714</td>\n",
       "      <td>22235.754202</td>\n",
       "    </tr>\n",
       "    <tr>\n",
       "      <th>4</th>\n",
       "      <td>182.863380</td>\n",
       "      <td>20793.497211</td>\n",
       "    </tr>\n",
       "    <tr>\n",
       "      <th>5</th>\n",
       "      <td>218.553774</td>\n",
       "      <td>23129.735462</td>\n",
       "    </tr>\n",
       "    <tr>\n",
       "      <th>6</th>\n",
       "      <td>230.812500</td>\n",
       "      <td>20481.337325</td>\n",
       "    </tr>\n",
       "    <tr>\n",
       "      <th>7</th>\n",
       "      <td>259.431111</td>\n",
       "      <td>26203.800032</td>\n",
       "    </tr>\n",
       "    <tr>\n",
       "      <th>8</th>\n",
       "      <td>263.156652</td>\n",
       "      <td>28653.697984</td>\n",
       "    </tr>\n",
       "    <tr>\n",
       "      <th>9</th>\n",
       "      <td>252.784643</td>\n",
       "      <td>21902.451197</td>\n",
       "    </tr>\n",
       "    <tr>\n",
       "      <th>10</th>\n",
       "      <td>269.904665</td>\n",
       "      <td>27183.387756</td>\n",
       "    </tr>\n",
       "    <tr>\n",
       "      <th>11</th>\n",
       "      <td>256.107561</td>\n",
       "      <td>23393.294490</td>\n",
       "    </tr>\n",
       "    <tr>\n",
       "      <th>12</th>\n",
       "      <td>291.226866</td>\n",
       "      <td>32325.440302</td>\n",
       "    </tr>\n",
       "  </tbody>\n",
       "</table>\n",
       "</div>"
      ],
      "text/plain": [
       "             mean           var\n",
       "month                          \n",
       "1       63.333333    466.666667\n",
       "2      182.731250  14332.208958\n",
       "3      204.985714  22235.754202\n",
       "4      182.863380  20793.497211\n",
       "5      218.553774  23129.735462\n",
       "6      230.812500  20481.337325\n",
       "7      259.431111  26203.800032\n",
       "8      263.156652  28653.697984\n",
       "9      252.784643  21902.451197\n",
       "10     269.904665  27183.387756\n",
       "11     256.107561  23393.294490\n",
       "12     291.226866  32325.440302"
      ]
     },
     "execution_count": 43,
     "metadata": {},
     "output_type": "execute_result"
    }
   ],
   "source": [
    "mean_income=final_table.groupby('month')['income'].mean()\n",
    "var_income=final_table.groupby('month')['income'].var()\n",
    "\n",
    "calculo_income=pd.DataFrame({'mean':mean_income, 'var':var_income})\n",
    "calculo_income"
   ]
  },
  {
   "cell_type": "code",
   "execution_count": 44,
   "metadata": {
    "id": "bYmwxyVh0q1P"
   },
   "outputs": [
    {
     "data": {
      "image/png": "[encoded data removed]",
      "text/plain": [
       "<Figure size 1600x800 with 1 Axes>"
      ]
     },
     "metadata": {},
     "output_type": "display_data"
    }
   ],
   "source": [
    "# Traza un diagrama de caja para visualizar la distribución del ingreso mensual por plan.\n",
    "plt.figure(figsize=(16, 8)) \n",
    "sns.boxplot(x='month', y='income', hue='plan', data=combined_data, palette={'surf': 'cornflowerblue', 'ultimate': 'pink'}) \n",
    "# Configurar etiquetas y título del gráfico \n",
    "plt.xlabel('Mes') \n",
    "plt.ylabel('Ingreso') \n",
    "plt.title('') \n",
    "plt.legend(title='Plan') \n",
    "plt.xticks(rotation=45) \n",
    "plt.tight_layout() \n",
    "plt.show()"
   ]
  },
  {
   "cell_type": "markdown",
   "metadata": {
    "id": "KAFidcXZ0q1P"
   },
   "source": [
    "[Se confirma que a pesar de contratar el plan menos costoso, los usuarios de surf pagan más que los de ultimate]"
   ]
  },
  {
   "cell_type": "markdown",
   "metadata": {
    "id": "ajJ7VKeI0q1Q"
   },
   "source": [
    "## Prueba las hipótesis estadísticas"
   ]
  },
  {
   "cell_type": "markdown",
   "metadata": {
    "id": "AdXAZ-yL0q1Q"
   },
   "source": [
    "[Prueba la hipótesis de que son diferentes los ingresos promedio procedentes de los usuarios de los planes de llamada Ultimate y Surf.]"
   ]
  },
  {
   "cell_type": "markdown",
   "metadata": {
    "id": "IQwa_hsh0q1Q"
   },
   "source": [
    "[Elabora las hipótesis nula y alternativa, escoge la prueba estadística, determina el valor alfa.]"
   ]
  },
  {
   "cell_type": "code",
   "execution_count": 45,
   "metadata": {
    "id": "nFoPNlPq0q1R"
   },
   "outputs": [
    {
     "name": "stdout",
     "output_type": "stream",
     "text": [
      "TtestResult(statistic=np.float64(-24.702569306585865), pvalue=np.float64(1.622692541644084e-119), df=np.float64(2268.539927058683))\n",
      "Rechazamos la hipótesis nula. Hay evidencia suficiente para decir que los ingresos promedio son diferentes\n"
     ]
    }
   ],
   "source": [
    "# Prueba las hipótesis\n",
    "#H0= ingresos promedio de los usuarios de los planes ultimate y surf son iguales.\n",
    "#Ha=Los ingresos promedio de los usuarios de los planes ultimate\" y surf son diferentes.\n",
    "\n",
    "income_ultimate=final_table[final_table['plan']=='ultimate']['income'] \n",
    "income_surf=final_table[final_table['plan']=='surf']['income']\n",
    "\n",
    "alpha=0.05\n",
    "\n",
    "prueba1=st.ttest_ind(income_ultimate, income_surf, equal_var=False)\n",
    "print(prueba1)\n",
    "\n",
    "if prueba1.pvalue<alpha:\n",
    "    print('Rechazamos la hipótesis nula. Hay evidencia suficiente para decir que los ingresos promedio son diferentes')\n",
    "else:\n",
    "    print('No rechazamos la hipótesis nula. No hay evidencia suficiente para decir que los ingresos promedio son diferentes.')"
   ]
  },
  {
   "cell_type": "markdown",
   "metadata": {
    "id": "tCcAruM60q1R"
   },
   "source": [
    "[Prueba la hipótesis de que el ingreso promedio de los usuarios del área NY-NJ es diferente al de los usuarios de otras regiones.]"
   ]
  },
  {
   "cell_type": "markdown",
   "metadata": {
    "id": "LsBgitqj0q1R"
   },
   "source": [
    "[Elabora las hipótesis nula y alternativa, escoge la prueba estadística, determina el valor alfa.]"
   ]
  },
  {
   "cell_type": "code",
   "execution_count": 46,
   "metadata": {
    "id": "Cqcj7wrZ0q1S"
   },
   "outputs": [
    {
     "name": "stdout",
     "output_type": "stream",
     "text": [
      "TtestResult(statistic=np.float64(2.705076145182693), pvalue=np.float64(0.007038034536250181), df=np.float64(556.6252661348501))\n",
      "Rechazamos la hipótesis nula. Hay evidencia suficiente para decir que los ingresos promedio son diferentes\n"
     ]
    }
   ],
   "source": [
    "# Prueba las hipótesis\n",
    "#H0=el ingreso promedio de los usuarios del área NY-NJ es igual al de los usuarios de otras regiones.\n",
    "#Ha=el ingreso promedio de los usuarios del área NY-NJ es diferente al de los usuarios de otras regiones.\n",
    "\n",
    "region_income=final_table[final_table['region'].isin(['NY-NJ'])]['income'] \n",
    "others_regions_income=final_table[~final_table['region'].isin(['NY-NJ'])]['income']\n",
    "\n",
    "alpha=0.05\n",
    "\n",
    "prueba2=st.ttest_ind(region_income, others_regions_income, equal_var=False)\n",
    "print(prueba2)\n",
    "\n",
    "if prueba2.pvalue<alpha:\n",
    "    print('Rechazamos la hipótesis nula. Hay evidencia suficiente para decir que los ingresos promedio son diferentes')\n",
    "else:\n",
    "    print('No rechazamos la hipótesis nula. No hay evidencia suficiente para decir que los ingresos promedio son diferentes ')"
   ]
  },
  {
   "cell_type": "markdown",
   "metadata": {
    "id": "bbTR8UQO0q1T"
   },
   "source": [
    "## Conclusión general\n",
    "\n",
    "Con la realización de este proyecto, se pudo observar el comportamiento de los usuarios de acuerdo a su consumo de minutos, mensajes e internet de dos planes en específico. Se pudo observar que a pesar de que los usuarios de surf que contratan el plan que cuesta 20 dólares al fin de cada mes terminan pagando más que los usuarios que contratan el plan \"más caro\" ya que el plan surf incluye muy poca cantidad de minutos, mensajes e internet y probablemente al momento de elegir el plan, no se considere gastar tanto en excedente de servicios. En este caso se puede observar que es más conveniente contratar el plan ultimate ya que los servicios que incluye son mayores.\n",
    "Por otro lado, al contratar el plan surf, las tarifas de excedentes en cuestión de llamadas y mensajes es 3 veces mayor que en el plan ultimate, en el caso de internet no es mucha la diferencia pero al final del mes, el dinero que se acumula es muy considerable.\n",
    "\n"
   ]
  }
 ],
 "metadata": {
  "ExecuteTimeLog": [
   {
    "duration": 828,
    "start_time": "2021-11-16T09:21:11.304Z"
   },
   {
    "duration": 893,
    "start_time": "2021-11-16T09:21:17.728Z"
   },
   {
    "duration": 1150,
    "start_time": "2021-11-16T09:21:29.568Z"
   },
   {
    "duration": 3,
    "start_time": "2021-11-16T09:24:14.495Z"
   },
   {
    "duration": 120,
    "start_time": "2021-11-16T09:24:46.630Z"
   },
   {
    "duration": 3,
    "start_time": "2021-11-16T09:28:27.882Z"
   },
   {
    "duration": 4,
    "start_time": "2021-11-16T09:29:54.281Z"
   },
   {
    "duration": 3,
    "start_time": "2021-11-16T09:30:45.936Z"
   },
   {
    "duration": 4,
    "start_time": "2021-11-16T09:31:06.300Z"
   },
   {
    "duration": 113,
    "start_time": "2021-11-16T09:31:37.208Z"
   },
   {
    "duration": 143,
    "start_time": "2021-11-16T09:31:48.656Z"
   },
   {
    "duration": 98,
    "start_time": "2021-11-16T09:31:55.678Z"
   },
   {
    "duration": 3,
    "start_time": "2021-11-16T09:32:08.535Z"
   },
   {
    "duration": 111,
    "start_time": "2021-11-16T09:32:10.120Z"
   },
   {
    "duration": 3,
    "start_time": "2021-11-16T09:32:15.732Z"
   },
   {
    "duration": 4,
    "start_time": "2021-11-16T09:32:29.423Z"
   },
   {
    "duration": 3,
    "start_time": "2021-11-16T10:03:03.074Z"
   },
   {
    "duration": 3,
    "start_time": "2021-11-16T10:10:01.288Z"
   },
   {
    "duration": 3,
    "start_time": "2021-11-16T10:10:46.923Z"
   },
   {
    "duration": 121,
    "start_time": "2021-11-16T10:37:46.494Z"
   },
   {
    "duration": 125,
    "start_time": "2021-11-16T10:38:20.632Z"
   },
   {
    "duration": 112,
    "start_time": "2021-11-16T10:46:53.001Z"
   },
   {
    "duration": 110,
    "start_time": "2021-11-16T10:48:25.775Z"
   },
   {
    "duration": 3,
    "start_time": "2021-11-16T10:50:18.720Z"
   },
   {
    "duration": 4,
    "start_time": "2021-11-16T10:50:37.649Z"
   },
   {
    "duration": 2,
    "start_time": "2021-11-16T10:50:51.884Z"
   },
   {
    "duration": 3,
    "start_time": "2021-11-16T10:51:56.237Z"
   },
   {
    "duration": 101,
    "start_time": "2021-11-16T10:53:13.791Z"
   },
   {
    "duration": 3,
    "start_time": "2021-11-16T10:55:59.186Z"
   },
   {
    "duration": 3,
    "start_time": "2021-11-16T10:56:10.751Z"
   },
   {
    "duration": 3,
    "start_time": "2021-11-16T10:56:49.038Z"
   },
   {
    "duration": 3,
    "start_time": "2021-11-16T10:56:49.174Z"
   },
   {
    "duration": 4,
    "start_time": "2021-11-16T10:56:49.414Z"
   },
   {
    "duration": 3,
    "start_time": "2021-11-16T10:56:49.680Z"
   },
   {
    "duration": 3,
    "start_time": "2021-11-16T10:56:50.370Z"
   },
   {
    "duration": 114,
    "start_time": "2021-11-16T10:59:34.518Z"
   },
   {
    "duration": 3,
    "start_time": "2021-11-16T11:01:41.201Z"
   },
   {
    "duration": 116,
    "start_time": "2021-11-16T11:01:48.754Z"
   },
   {
    "duration": 3,
    "start_time": "2021-11-16T11:02:16.685Z"
   },
   {
    "duration": 3,
    "start_time": "2021-11-16T11:02:19.479Z"
   },
   {
    "duration": 3,
    "start_time": "2021-11-16T11:02:47.067Z"
   },
   {
    "duration": 3,
    "start_time": "2021-11-16T11:02:49.353Z"
   },
   {
    "duration": 3,
    "start_time": "2021-11-16T11:03:07.835Z"
   },
   {
    "duration": 3,
    "start_time": "2021-11-16T11:03:07.953Z"
   },
   {
    "duration": 112,
    "start_time": "2021-11-16T11:07:52.072Z"
   },
   {
    "duration": 187,
    "start_time": "2021-11-16T11:09:23.468Z"
   },
   {
    "duration": 4,
    "start_time": "2021-11-16T11:10:01.455Z"
   },
   {
    "duration": 3,
    "start_time": "2021-11-16T11:10:05.069Z"
   },
   {
    "duration": 4,
    "start_time": "2021-11-16T11:10:13.376Z"
   },
   {
    "duration": 3,
    "start_time": "2021-11-16T11:10:14.434Z"
   },
   {
    "duration": 3,
    "start_time": "2021-11-16T11:10:22.853Z"
   },
   {
    "duration": 4,
    "start_time": "2021-11-16T11:27:29.279Z"
   },
   {
    "duration": 4,
    "start_time": "2021-11-16T11:29:08.919Z"
   },
   {
    "duration": 118,
    "start_time": "2021-11-16T11:29:46.703Z"
   },
   {
    "duration": 437,
    "start_time": "2021-11-16T11:36:02.181Z"
   },
   {
    "duration": 157,
    "start_time": "2021-11-16T11:36:14.388Z"
   },
   {
    "duration": 207,
    "start_time": "2021-11-16T11:47:15.898Z"
   },
   {
    "duration": 3,
    "start_time": "2021-11-16T11:53:52.092Z"
   },
   {
    "duration": 3,
    "start_time": "2021-11-16T11:53:52.236Z"
   },
   {
    "duration": 3,
    "start_time": "2021-11-16T11:59:12.005Z"
   },
   {
    "duration": 112,
    "start_time": "2021-11-16T12:00:33.446Z"
   },
   {
    "duration": 3,
    "start_time": "2021-11-16T12:02:14.453Z"
   },
   {
    "duration": 3,
    "start_time": "2021-11-16T12:02:39.512Z"
   },
   {
    "duration": 106,
    "start_time": "2021-11-16T12:03:03.460Z"
   },
   {
    "duration": 3,
    "start_time": "2021-11-17T20:37:21.139Z"
   },
   {
    "duration": 3,
    "start_time": "2021-11-17T20:37:22.229Z"
   },
   {
    "duration": 3,
    "start_time": "2021-11-17T20:38:38.806Z"
   },
   {
    "duration": 3,
    "start_time": "2021-11-17T20:38:41.958Z"
   },
   {
    "duration": 3,
    "start_time": "2021-11-17T20:43:46.551Z"
   },
   {
    "duration": 4,
    "start_time": "2021-11-17T20:58:21.835Z"
   },
   {
    "duration": 3,
    "start_time": "2021-11-17T20:59:21.872Z"
   },
   {
    "duration": 4,
    "start_time": "2021-11-17T20:59:45.352Z"
   },
   {
    "duration": 4,
    "start_time": "2021-11-17T20:59:49.646Z"
   },
   {
    "duration": 159,
    "start_time": "2021-11-17T21:02:26.949Z"
   },
   {
    "duration": 3,
    "start_time": "2021-11-17T21:03:53.461Z"
   },
   {
    "duration": 3,
    "start_time": "2021-11-17T21:03:53.694Z"
   },
   {
    "duration": 3,
    "start_time": "2021-11-17T21:05:28.145Z"
   },
   {
    "duration": 116,
    "start_time": "2021-11-17T21:05:57.787Z"
   },
   {
    "duration": 3,
    "start_time": "2021-11-17T21:06:37.993Z"
   },
   {
    "duration": 3,
    "start_time": "2021-11-17T21:06:38.261Z"
   },
   {
    "duration": 3,
    "start_time": "2021-11-17T21:11:54.358Z"
   },
   {
    "duration": 3,
    "start_time": "2021-11-17T21:12:43.846Z"
   },
   {
    "duration": 4,
    "start_time": "2021-11-17T21:13:08.773Z"
   },
   {
    "duration": 3,
    "start_time": "2021-11-17T21:14:44.441Z"
   },
   {
    "duration": 3,
    "start_time": "2021-11-17T21:15:42.059Z"
   },
   {
    "duration": 4,
    "start_time": "2021-11-17T21:15:51.995Z"
   },
   {
    "duration": 3,
    "start_time": "2021-11-17T21:15:53.923Z"
   },
   {
    "duration": 3,
    "start_time": "2021-11-17T21:15:55.282Z"
   },
   {
    "duration": 3,
    "start_time": "2021-11-17T21:16:28.492Z"
   },
   {
    "duration": 3,
    "start_time": "2021-11-17T21:16:32.603Z"
   },
   {
    "duration": 3,
    "start_time": "2021-11-17T21:17:06.941Z"
   },
   {
    "duration": 98,
    "start_time": "2021-11-17T21:18:05.733Z"
   },
   {
    "duration": 4,
    "start_time": "2021-11-17T21:21:35.255Z"
   },
   {
    "duration": 3,
    "start_time": "2021-11-17T21:21:37.804Z"
   },
   {
    "duration": 4,
    "start_time": "2021-11-17T21:23:06.071Z"
   },
   {
    "duration": 3,
    "start_time": "2021-11-17T21:23:24.799Z"
   },
   {
    "duration": 3,
    "start_time": "2021-11-17T21:23:32.591Z"
   },
   {
    "duration": 98,
    "start_time": "2021-11-17T21:28:31.559Z"
   },
   {
    "duration": 3,
    "start_time": "2021-11-17T21:28:45.448Z"
   },
   {
    "duration": 3,
    "start_time": "2021-11-17T21:29:17.303Z"
   },
   {
    "duration": 3,
    "start_time": "2021-11-17T21:29:29.617Z"
   },
   {
    "duration": 3,
    "start_time": "2021-11-17T21:29:32.681Z"
   },
   {
    "duration": 3,
    "start_time": "2021-11-17T21:36:11.474Z"
   },
   {
    "duration": 3,
    "start_time": "2021-11-17T21:36:14.791Z"
   },
   {
    "duration": 3,
    "start_time": "2021-11-17T21:36:53.943Z"
   },
   {
    "duration": 3,
    "start_time": "2021-11-17T21:36:56.165Z"
   },
   {
    "duration": 4,
    "start_time": "2021-11-17T21:37:16.590Z"
   },
   {
    "duration": 3,
    "start_time": "2021-11-17T21:37:22.702Z"
   },
   {
    "duration": 4,
    "start_time": "2021-11-17T21:38:03.479Z"
   },
   {
    "duration": 3,
    "start_time": "2021-11-17T21:38:08.601Z"
   },
   {
    "duration": 3,
    "start_time": "2021-11-17T21:38:12.928Z"
   },
   {
    "duration": 3,
    "start_time": "2021-11-17T21:38:48.896Z"
   },
   {
    "duration": 2,
    "start_time": "2021-11-17T21:38:49.171Z"
   },
   {
    "duration": 4,
    "start_time": "2021-11-17T21:39:57.889Z"
   },
   {
    "duration": 3,
    "start_time": "2021-11-17T21:39:58.057Z"
   },
   {
    "duration": 3,
    "start_time": "2021-11-17T21:41:20.108Z"
   },
   {
    "duration": 3,
    "start_time": "2021-11-17T21:41:20.629Z"
   },
   {
    "duration": 3,
    "start_time": "2021-11-17T21:42:49.136Z"
   },
   {
    "duration": 3,
    "start_time": "2021-11-17T21:43:15.137Z"
   },
   {
    "duration": 4,
    "start_time": "2021-11-17T21:43:16.766Z"
   },
   {
    "duration": 4,
    "start_time": "2021-11-17T21:43:31.711Z"
   },
   {
    "duration": 3,
    "start_time": "2021-11-17T21:43:36.312Z"
   },
   {
    "duration": 4,
    "start_time": "2021-11-17T21:45:08.825Z"
   },
   {
    "duration": 4,
    "start_time": "2021-11-17T21:45:10.119Z"
   },
   {
    "duration": 4,
    "start_time": "2021-11-17T21:45:13.748Z"
   },
   {
    "duration": 3,
    "start_time": "2021-11-17T21:45:22.219Z"
   },
   {
    "duration": 3,
    "start_time": "2021-11-17T21:45:33.412Z"
   },
   {
    "duration": 2,
    "start_time": "2021-11-17T21:46:01.885Z"
   },
   {
    "duration": 3,
    "start_time": "2021-11-17T21:46:03.628Z"
   },
   {
    "duration": 107,
    "start_time": "2021-11-17T21:47:32.512Z"
   },
   {
    "duration": 103,
    "start_time": "2021-11-17T21:50:36.243Z"
   },
   {
    "duration": 3,
    "start_time": "2021-11-18T06:28:31.440Z"
   },
   {
    "duration": 3,
    "start_time": "2021-11-18T06:29:00.168Z"
   },
   {
    "duration": 3,
    "start_time": "2021-11-18T06:31:27.008Z"
   },
   {
    "duration": 2,
    "start_time": "2021-11-18T06:35:34.288Z"
   },
   {
    "duration": 2,
    "start_time": "2021-11-18T06:38:04.527Z"
   },
   {
    "duration": 2446,
    "start_time": "2024-11-26T21:36:21.158Z"
   },
   {
    "duration": 8,
    "start_time": "2024-11-26T21:37:47.888Z"
   },
   {
    "duration": 3,
    "start_time": "2024-11-26T21:37:58.581Z"
   },
   {
    "duration": 90,
    "start_time": "2024-11-26T21:38:07.388Z"
   },
   {
    "duration": 75,
    "start_time": "2024-11-26T21:38:12.929Z"
   },
   {
    "duration": 179,
    "start_time": "2024-11-26T21:58:46.724Z"
   },
   {
    "duration": 119,
    "start_time": "2024-11-26T22:08:26.724Z"
   },
   {
    "duration": 9,
    "start_time": "2024-11-26T22:09:43.459Z"
   },
   {
    "duration": 14,
    "start_time": "2024-11-26T22:09:54.962Z"
   },
   {
    "duration": 17,
    "start_time": "2024-11-26T22:10:06.088Z"
   },
   {
    "duration": 14,
    "start_time": "2024-11-26T22:10:22.095Z"
   },
   {
    "duration": 7,
    "start_time": "2024-11-26T22:55:36.116Z"
   },
   {
    "duration": 7,
    "start_time": "2024-11-26T22:55:39.421Z"
   },
   {
    "duration": 8,
    "start_time": "2024-11-26T23:04:39.382Z"
   },
   {
    "duration": 10,
    "start_time": "2024-11-26T23:04:42.597Z"
   },
   {
    "duration": 13,
    "start_time": "2024-11-26T23:08:40.995Z"
   },
   {
    "duration": 9,
    "start_time": "2024-11-26T23:36:46.028Z"
   },
   {
    "duration": 2557,
    "start_time": "2024-11-27T01:13:47.686Z"
   },
   {
    "duration": 215,
    "start_time": "2024-11-27T01:13:50.247Z"
   },
   {
    "duration": 10,
    "start_time": "2024-11-27T01:13:50.463Z"
   },
   {
    "duration": 15,
    "start_time": "2024-11-27T01:13:50.475Z"
   },
   {
    "duration": 11,
    "start_time": "2024-11-27T01:13:50.492Z"
   },
   {
    "duration": 0,
    "start_time": "2024-11-27T01:13:50.504Z"
   },
   {
    "duration": 2,
    "start_time": "2024-11-27T01:14:06.076Z"
   },
   {
    "duration": 171,
    "start_time": "2024-11-27T01:14:06.086Z"
   },
   {
    "duration": 10,
    "start_time": "2024-11-27T01:14:06.260Z"
   },
   {
    "duration": 9,
    "start_time": "2024-11-27T01:14:06.273Z"
   },
   {
    "duration": 3,
    "start_time": "2024-11-27T01:14:06.283Z"
   },
   {
    "duration": 2,
    "start_time": "2024-11-27T01:14:06.288Z"
   },
   {
    "duration": 9,
    "start_time": "2024-11-27T01:14:23.966Z"
   },
   {
    "duration": 10,
    "start_time": "2024-11-27T01:14:34.595Z"
   },
   {
    "duration": 218,
    "start_time": "2024-11-27T04:17:53.266Z"
   },
   {
    "duration": 17,
    "start_time": "2024-11-27T04:18:00.573Z"
   },
   {
    "duration": 169,
    "start_time": "2024-11-27T16:30:26.532Z"
   },
   {
    "duration": 2435,
    "start_time": "2024-11-27T16:30:33.726Z"
   },
   {
    "duration": 238,
    "start_time": "2024-11-27T16:30:36.163Z"
   },
   {
    "duration": 10,
    "start_time": "2024-11-27T16:30:36.402Z"
   },
   {
    "duration": 9,
    "start_time": "2024-11-27T16:30:36.416Z"
   },
   {
    "duration": 2,
    "start_time": "2024-11-27T16:30:36.427Z"
   },
   {
    "duration": 3,
    "start_time": "2024-11-27T16:30:36.430Z"
   },
   {
    "duration": 7,
    "start_time": "2024-11-27T16:30:36.435Z"
   },
   {
    "duration": 8,
    "start_time": "2024-11-27T16:30:36.444Z"
   },
   {
    "duration": 4,
    "start_time": "2024-11-27T16:31:36.710Z"
   },
   {
    "duration": 9,
    "start_time": "2024-11-27T16:31:56.526Z"
   },
   {
    "duration": 5,
    "start_time": "2024-11-27T16:32:03.618Z"
   },
   {
    "duration": 27,
    "start_time": "2024-11-27T16:48:22.494Z"
   },
   {
    "duration": 7,
    "start_time": "2024-11-27T16:48:31.796Z"
   },
   {
    "duration": 4,
    "start_time": "2024-11-27T16:49:23.577Z"
   },
   {
    "duration": 5,
    "start_time": "2024-11-27T16:49:31.219Z"
   },
   {
    "duration": 2446,
    "start_time": "2024-12-02T17:07:42.995Z"
   },
   {
    "duration": 211,
    "start_time": "2024-12-02T17:07:49.115Z"
   },
   {
    "duration": 28,
    "start_time": "2024-12-02T17:07:53.185Z"
   },
   {
    "duration": 7,
    "start_time": "2024-12-02T17:08:09.498Z"
   },
   {
    "duration": 17,
    "start_time": "2024-12-02T17:10:32.334Z"
   },
   {
    "duration": 7,
    "start_time": "2024-12-02T17:10:56.106Z"
   },
   {
    "duration": 3,
    "start_time": "2024-12-02T17:13:18.109Z"
   },
   {
    "duration": 154,
    "start_time": "2024-12-02T17:13:18.114Z"
   },
   {
    "duration": 25,
    "start_time": "2024-12-02T17:13:18.270Z"
   },
   {
    "duration": 7,
    "start_time": "2024-12-02T17:13:18.296Z"
   },
   {
    "duration": 4,
    "start_time": "2024-12-02T17:13:18.305Z"
   },
   {
    "duration": 2,
    "start_time": "2024-12-02T17:13:18.311Z"
   },
   {
    "duration": 14,
    "start_time": "2024-12-02T17:13:18.315Z"
   },
   {
    "duration": 8,
    "start_time": "2024-12-02T17:13:26.520Z"
   },
   {
    "duration": 10,
    "start_time": "2024-12-02T17:14:56.131Z"
   },
   {
    "duration": 6,
    "start_time": "2024-12-02T17:16:39.039Z"
   },
   {
    "duration": 5,
    "start_time": "2024-12-02T17:17:23.605Z"
   },
   {
    "duration": 27,
    "start_time": "2024-12-02T17:30:31.312Z"
   },
   {
    "duration": 6,
    "start_time": "2024-12-02T17:30:45.551Z"
   },
   {
    "duration": 7,
    "start_time": "2024-12-02T17:30:51.503Z"
   },
   {
    "duration": 158,
    "start_time": "2024-12-02T19:51:47.879Z"
   },
   {
    "duration": 14,
    "start_time": "2024-12-02T19:51:57.355Z"
   },
   {
    "duration": 2619,
    "start_time": "2024-12-02T19:52:02.941Z"
   },
   {
    "duration": 220,
    "start_time": "2024-12-02T19:52:05.563Z"
   },
   {
    "duration": 30,
    "start_time": "2024-12-02T19:52:05.785Z"
   },
   {
    "duration": 7,
    "start_time": "2024-12-02T19:52:05.817Z"
   },
   {
    "duration": 5,
    "start_time": "2024-12-02T19:52:05.826Z"
   },
   {
    "duration": 3,
    "start_time": "2024-12-02T19:52:05.832Z"
   },
   {
    "duration": 16,
    "start_time": "2024-12-02T19:52:05.837Z"
   },
   {
    "duration": 8,
    "start_time": "2024-12-02T19:52:05.855Z"
   },
   {
    "duration": 4,
    "start_time": "2024-12-02T19:52:05.865Z"
   },
   {
    "duration": 39,
    "start_time": "2024-12-02T19:52:05.871Z"
   },
   {
    "duration": 30,
    "start_time": "2024-12-02T19:52:05.912Z"
   },
   {
    "duration": 7,
    "start_time": "2024-12-02T19:52:05.944Z"
   },
   {
    "duration": 57,
    "start_time": "2024-12-02T19:52:05.952Z"
   },
   {
    "duration": 2505,
    "start_time": "2024-12-02T21:10:17.361Z"
   },
   {
    "duration": 216,
    "start_time": "2024-12-02T21:10:19.868Z"
   },
   {
    "duration": 36,
    "start_time": "2024-12-02T21:10:20.086Z"
   },
   {
    "duration": 7,
    "start_time": "2024-12-02T21:10:20.124Z"
   },
   {
    "duration": 5,
    "start_time": "2024-12-02T21:10:20.134Z"
   },
   {
    "duration": 2,
    "start_time": "2024-12-02T21:10:20.141Z"
   },
   {
    "duration": 41,
    "start_time": "2024-12-02T21:10:20.146Z"
   },
   {
    "duration": 8,
    "start_time": "2024-12-02T21:10:20.189Z"
   },
   {
    "duration": 4,
    "start_time": "2024-12-02T21:10:20.199Z"
   },
   {
    "duration": 2,
    "start_time": "2024-12-02T21:10:20.205Z"
   },
   {
    "duration": 28,
    "start_time": "2024-12-02T21:10:20.209Z"
   },
   {
    "duration": 6,
    "start_time": "2024-12-02T21:10:20.239Z"
   },
   {
    "duration": 68,
    "start_time": "2024-12-02T21:10:20.247Z"
   },
   {
    "duration": 18,
    "start_time": "2024-12-02T21:10:31.781Z"
   },
   {
    "duration": 6,
    "start_time": "2024-12-02T21:10:47.590Z"
   },
   {
    "duration": 16,
    "start_time": "2024-12-02T21:11:07.268Z"
   },
   {
    "duration": 25,
    "start_time": "2024-12-02T21:11:52.457Z"
   },
   {
    "duration": 6,
    "start_time": "2024-12-02T21:12:15.963Z"
   },
   {
    "duration": 7,
    "start_time": "2024-12-02T21:18:14.785Z"
   },
   {
    "duration": 6,
    "start_time": "2024-12-02T21:18:20.988Z"
   },
   {
    "duration": 8,
    "start_time": "2024-12-02T21:18:38.181Z"
   },
   {
    "duration": 7,
    "start_time": "2024-12-02T21:18:47.039Z"
   },
   {
    "duration": 45,
    "start_time": "2024-12-02T21:58:52.135Z"
   },
   {
    "duration": 2,
    "start_time": "2024-12-02T23:08:44.611Z"
   },
   {
    "duration": 163,
    "start_time": "2024-12-02T23:08:44.617Z"
   },
   {
    "duration": 24,
    "start_time": "2024-12-02T23:08:44.783Z"
   },
   {
    "duration": 7,
    "start_time": "2024-12-02T23:08:44.808Z"
   },
   {
    "duration": 4,
    "start_time": "2024-12-02T23:08:44.817Z"
   },
   {
    "duration": 2,
    "start_time": "2024-12-02T23:08:44.823Z"
   },
   {
    "duration": 14,
    "start_time": "2024-12-02T23:08:44.828Z"
   },
   {
    "duration": 7,
    "start_time": "2024-12-02T23:08:44.844Z"
   },
   {
    "duration": 4,
    "start_time": "2024-12-02T23:08:44.887Z"
   },
   {
    "duration": 2,
    "start_time": "2024-12-02T23:08:44.893Z"
   },
   {
    "duration": 27,
    "start_time": "2024-12-02T23:08:44.897Z"
   },
   {
    "duration": 7,
    "start_time": "2024-12-02T23:08:44.926Z"
   },
   {
    "duration": 56,
    "start_time": "2024-12-02T23:08:44.934Z"
   },
   {
    "duration": 19,
    "start_time": "2024-12-02T23:08:44.992Z"
   },
   {
    "duration": 6,
    "start_time": "2024-12-02T23:08:45.013Z"
   },
   {
    "duration": 15,
    "start_time": "2024-12-02T23:08:45.021Z"
   },
   {
    "duration": 49,
    "start_time": "2024-12-02T23:08:45.038Z"
   },
   {
    "duration": 6,
    "start_time": "2024-12-02T23:08:45.089Z"
   },
   {
    "duration": 154,
    "start_time": "2024-12-03T02:14:16.657Z"
   },
   {
    "duration": 2404,
    "start_time": "2024-12-03T02:14:24.654Z"
   },
   {
    "duration": 211,
    "start_time": "2024-12-03T02:14:27.060Z"
   },
   {
    "duration": 27,
    "start_time": "2024-12-03T02:14:27.273Z"
   },
   {
    "duration": 7,
    "start_time": "2024-12-03T02:14:27.302Z"
   },
   {
    "duration": 5,
    "start_time": "2024-12-03T02:14:27.312Z"
   },
   {
    "duration": 2,
    "start_time": "2024-12-03T02:14:27.319Z"
   },
   {
    "duration": 16,
    "start_time": "2024-12-03T02:14:27.323Z"
   },
   {
    "duration": 9,
    "start_time": "2024-12-03T02:14:27.340Z"
   },
   {
    "duration": 5,
    "start_time": "2024-12-03T02:20:27.007Z"
   },
   {
    "duration": 5,
    "start_time": "2024-12-03T02:21:25.062Z"
   },
   {
    "duration": 6,
    "start_time": "2024-12-03T02:22:45.302Z"
   },
   {
    "duration": 13,
    "start_time": "2024-12-03T02:23:00.032Z"
   },
   {
    "duration": 47,
    "start_time": "2024-12-03T02:26:03.134Z"
   },
   {
    "duration": 498,
    "start_time": "2024-12-03T02:26:33.691Z"
   },
   {
    "duration": 43,
    "start_time": "2024-12-03T02:26:49.952Z"
   },
   {
    "duration": 41,
    "start_time": "2024-12-03T02:26:58.544Z"
   },
   {
    "duration": 3,
    "start_time": "2024-12-03T02:48:30.956Z"
   },
   {
    "duration": 35,
    "start_time": "2024-12-03T02:49:17.444Z"
   },
   {
    "duration": 736,
    "start_time": "2024-12-03T03:15:25.184Z"
   },
   {
    "duration": 163,
    "start_time": "2024-12-03T03:15:25.923Z"
   },
   {
    "duration": 31,
    "start_time": "2024-12-03T03:15:26.088Z"
   },
   {
    "duration": 7,
    "start_time": "2024-12-03T03:15:26.121Z"
   },
   {
    "duration": 4,
    "start_time": "2024-12-03T03:15:26.132Z"
   },
   {
    "duration": 2,
    "start_time": "2024-12-03T03:15:26.138Z"
   },
   {
    "duration": 46,
    "start_time": "2024-12-03T03:15:26.142Z"
   },
   {
    "duration": 8,
    "start_time": "2024-12-03T03:15:26.190Z"
   },
   {
    "duration": 6,
    "start_time": "2024-12-03T03:15:26.200Z"
   },
   {
    "duration": 3,
    "start_time": "2024-12-03T03:15:26.207Z"
   },
   {
    "duration": 29,
    "start_time": "2024-12-03T03:15:26.211Z"
   },
   {
    "duration": 6,
    "start_time": "2024-12-03T03:15:26.242Z"
   },
   {
    "duration": 89,
    "start_time": "2024-12-03T03:15:26.250Z"
   },
   {
    "duration": 46,
    "start_time": "2024-12-03T03:15:26.342Z"
   },
   {
    "duration": 19,
    "start_time": "2024-12-03T03:15:30.638Z"
   },
   {
    "duration": 15,
    "start_time": "2024-12-03T03:50:11.508Z"
   },
   {
    "duration": 27,
    "start_time": "2024-12-03T03:51:06.353Z"
   },
   {
    "duration": 25,
    "start_time": "2024-12-03T04:01:26.530Z"
   },
   {
    "duration": 6,
    "start_time": "2024-12-03T04:01:31.873Z"
   },
   {
    "duration": 39,
    "start_time": "2024-12-03T04:01:44.147Z"
   },
   {
    "duration": 52,
    "start_time": "2024-12-03T04:02:31.181Z"
   },
   {
    "duration": 45,
    "start_time": "2024-12-03T04:03:07.664Z"
   },
   {
    "duration": 30,
    "start_time": "2024-12-03T04:03:44.276Z"
   },
   {
    "duration": 29,
    "start_time": "2024-12-03T04:04:23.997Z"
   },
   {
    "duration": 30,
    "start_time": "2024-12-03T04:15:00.851Z"
   },
   {
    "duration": 771,
    "start_time": "2024-12-03T04:15:19.314Z"
   },
   {
    "duration": 153,
    "start_time": "2024-12-03T04:15:20.088Z"
   },
   {
    "duration": 27,
    "start_time": "2024-12-03T04:15:20.243Z"
   },
   {
    "duration": 14,
    "start_time": "2024-12-03T04:15:20.272Z"
   },
   {
    "duration": 4,
    "start_time": "2024-12-03T04:15:20.289Z"
   },
   {
    "duration": 3,
    "start_time": "2024-12-03T04:15:20.294Z"
   },
   {
    "duration": 15,
    "start_time": "2024-12-03T04:15:20.298Z"
   },
   {
    "duration": 7,
    "start_time": "2024-12-03T04:15:20.315Z"
   },
   {
    "duration": 6,
    "start_time": "2024-12-03T04:15:20.324Z"
   },
   {
    "duration": 2,
    "start_time": "2024-12-03T04:15:20.332Z"
   },
   {
    "duration": 65,
    "start_time": "2024-12-03T04:15:20.336Z"
   },
   {
    "duration": 7,
    "start_time": "2024-12-03T04:15:20.402Z"
   },
   {
    "duration": 53,
    "start_time": "2024-12-03T04:15:20.411Z"
   },
   {
    "duration": 43,
    "start_time": "2024-12-03T04:15:20.488Z"
   },
   {
    "duration": 20,
    "start_time": "2024-12-03T04:15:20.534Z"
   },
   {
    "duration": 6,
    "start_time": "2024-12-03T04:15:20.556Z"
   },
   {
    "duration": 29,
    "start_time": "2024-12-03T04:15:20.587Z"
   },
   {
    "duration": 25,
    "start_time": "2024-12-03T04:15:20.618Z"
   },
   {
    "duration": 7,
    "start_time": "2024-12-03T04:15:20.644Z"
   },
   {
    "duration": 73,
    "start_time": "2024-12-03T04:15:20.653Z"
   },
   {
    "duration": 31,
    "start_time": "2024-12-03T04:15:24.046Z"
   },
   {
    "duration": 2,
    "start_time": "2024-12-03T05:23:55.665Z"
   },
   {
    "duration": 159,
    "start_time": "2024-12-03T05:23:55.676Z"
   },
   {
    "duration": 25,
    "start_time": "2024-12-03T05:23:55.837Z"
   },
   {
    "duration": 7,
    "start_time": "2024-12-03T05:23:55.863Z"
   },
   {
    "duration": 4,
    "start_time": "2024-12-03T05:23:55.887Z"
   },
   {
    "duration": 2,
    "start_time": "2024-12-03T05:23:55.895Z"
   },
   {
    "duration": 16,
    "start_time": "2024-12-03T05:23:55.898Z"
   },
   {
    "duration": 7,
    "start_time": "2024-12-03T05:23:55.916Z"
   },
   {
    "duration": 6,
    "start_time": "2024-12-03T05:23:55.926Z"
   },
   {
    "duration": 2,
    "start_time": "2024-12-03T05:23:55.933Z"
   },
   {
    "duration": 64,
    "start_time": "2024-12-03T05:23:55.937Z"
   },
   {
    "duration": 7,
    "start_time": "2024-12-03T05:23:56.003Z"
   },
   {
    "duration": 52,
    "start_time": "2024-12-03T05:23:56.012Z"
   },
   {
    "duration": 50,
    "start_time": "2024-12-03T05:23:56.067Z"
   },
   {
    "duration": 18,
    "start_time": "2024-12-03T05:23:56.121Z"
   },
   {
    "duration": 5,
    "start_time": "2024-12-03T05:23:56.141Z"
   },
   {
    "duration": 53,
    "start_time": "2024-12-03T05:23:56.148Z"
   },
   {
    "duration": 2,
    "start_time": "2024-12-03T05:23:56.203Z"
   },
   {
    "duration": 24,
    "start_time": "2024-12-03T05:23:56.207Z"
   },
   {
    "duration": 7,
    "start_time": "2024-12-03T05:23:56.232Z"
   },
   {
    "duration": 89,
    "start_time": "2024-12-03T05:23:56.240Z"
   },
   {
    "duration": 30,
    "start_time": "2024-12-03T05:23:56.331Z"
   },
   {
    "duration": 31,
    "start_time": "2024-12-03T05:25:37.496Z"
   },
   {
    "duration": 7,
    "start_time": "2024-12-03T05:30:13.768Z"
   },
   {
    "duration": 7,
    "start_time": "2024-12-03T05:31:18.264Z"
   },
   {
    "duration": 2563,
    "start_time": "2024-12-03T18:34:23.657Z"
   },
   {
    "duration": 202,
    "start_time": "2024-12-03T18:34:26.222Z"
   },
   {
    "duration": 27,
    "start_time": "2024-12-03T18:34:26.426Z"
   },
   {
    "duration": 7,
    "start_time": "2024-12-03T18:34:26.455Z"
   },
   {
    "duration": 4,
    "start_time": "2024-12-03T18:34:26.465Z"
   },
   {
    "duration": 3,
    "start_time": "2024-12-03T18:34:26.471Z"
   },
   {
    "duration": 16,
    "start_time": "2024-12-03T18:34:26.475Z"
   },
   {
    "duration": 7,
    "start_time": "2024-12-03T18:34:26.492Z"
   },
   {
    "duration": 6,
    "start_time": "2024-12-03T18:34:26.501Z"
   },
   {
    "duration": 2,
    "start_time": "2024-12-03T18:34:26.543Z"
   },
   {
    "duration": 31,
    "start_time": "2024-12-03T18:34:26.546Z"
   },
   {
    "duration": 6,
    "start_time": "2024-12-03T18:34:26.580Z"
   },
   {
    "duration": 76,
    "start_time": "2024-12-03T18:34:26.588Z"
   },
   {
    "duration": 34,
    "start_time": "2024-12-03T18:34:26.668Z"
   },
   {
    "duration": 18,
    "start_time": "2024-12-03T18:34:26.704Z"
   },
   {
    "duration": 6,
    "start_time": "2024-12-03T18:34:26.742Z"
   },
   {
    "duration": 30,
    "start_time": "2024-12-03T18:34:26.749Z"
   },
   {
    "duration": 3,
    "start_time": "2024-12-03T18:34:26.781Z"
   },
   {
    "duration": 25,
    "start_time": "2024-12-03T18:34:26.786Z"
   },
   {
    "duration": 31,
    "start_time": "2024-12-03T18:34:26.812Z"
   },
   {
    "duration": 53,
    "start_time": "2024-12-03T18:34:26.844Z"
   },
   {
    "duration": 29,
    "start_time": "2024-12-03T18:34:26.899Z"
   },
   {
    "duration": 7,
    "start_time": "2024-12-03T18:34:26.943Z"
   },
   {
    "duration": 228,
    "start_time": "2024-12-03T18:34:26.952Z"
   },
   {
    "duration": 0,
    "start_time": "2024-12-03T18:34:27.181Z"
   },
   {
    "duration": 0,
    "start_time": "2024-12-03T18:34:27.182Z"
   },
   {
    "duration": 0,
    "start_time": "2024-12-03T18:34:27.184Z"
   },
   {
    "duration": 0,
    "start_time": "2024-12-03T18:34:27.185Z"
   },
   {
    "duration": 0,
    "start_time": "2024-12-03T18:34:27.186Z"
   },
   {
    "duration": 0,
    "start_time": "2024-12-03T18:34:27.187Z"
   },
   {
    "duration": 0,
    "start_time": "2024-12-03T18:34:27.188Z"
   },
   {
    "duration": 0,
    "start_time": "2024-12-03T18:34:27.189Z"
   },
   {
    "duration": 0,
    "start_time": "2024-12-03T18:34:27.190Z"
   },
   {
    "duration": 0,
    "start_time": "2024-12-03T18:34:27.191Z"
   },
   {
    "duration": 0,
    "start_time": "2024-12-03T18:34:27.192Z"
   },
   {
    "duration": 0,
    "start_time": "2024-12-03T18:34:27.194Z"
   },
   {
    "duration": 0,
    "start_time": "2024-12-03T18:34:27.195Z"
   },
   {
    "duration": 0,
    "start_time": "2024-12-03T18:34:27.196Z"
   },
   {
    "duration": 13,
    "start_time": "2024-12-03T18:34:33.077Z"
   },
   {
    "duration": 93,
    "start_time": "2024-12-03T18:35:05.896Z"
   },
   {
    "duration": 503,
    "start_time": "2024-12-03T18:35:15.052Z"
   },
   {
    "duration": 3,
    "start_time": "2024-12-03T18:46:51.575Z"
   },
   {
    "duration": 161,
    "start_time": "2024-12-03T18:46:51.581Z"
   },
   {
    "duration": 28,
    "start_time": "2024-12-03T18:46:51.743Z"
   },
   {
    "duration": 6,
    "start_time": "2024-12-03T18:46:51.773Z"
   },
   {
    "duration": 5,
    "start_time": "2024-12-03T18:46:51.782Z"
   },
   {
    "duration": 2,
    "start_time": "2024-12-03T18:46:51.789Z"
   },
   {
    "duration": 50,
    "start_time": "2024-12-03T18:46:51.793Z"
   },
   {
    "duration": 8,
    "start_time": "2024-12-03T18:46:51.845Z"
   },
   {
    "duration": 7,
    "start_time": "2024-12-03T18:46:51.855Z"
   },
   {
    "duration": 2,
    "start_time": "2024-12-03T18:46:51.865Z"
   },
   {
    "duration": 29,
    "start_time": "2024-12-03T18:46:51.869Z"
   },
   {
    "duration": 7,
    "start_time": "2024-12-03T18:46:51.899Z"
   },
   {
    "duration": 53,
    "start_time": "2024-12-03T18:46:51.943Z"
   },
   {
    "duration": 50,
    "start_time": "2024-12-03T18:46:51.999Z"
   },
   {
    "duration": 19,
    "start_time": "2024-12-03T18:46:52.051Z"
   },
   {
    "duration": 5,
    "start_time": "2024-12-03T18:46:52.072Z"
   },
   {
    "duration": 28,
    "start_time": "2024-12-03T18:46:52.079Z"
   },
   {
    "duration": 35,
    "start_time": "2024-12-03T18:46:52.108Z"
   },
   {
    "duration": 27,
    "start_time": "2024-12-03T18:46:52.145Z"
   },
   {
    "duration": 10,
    "start_time": "2024-12-03T18:46:52.174Z"
   },
   {
    "duration": 75,
    "start_time": "2024-12-03T18:46:52.186Z"
   },
   {
    "duration": 31,
    "start_time": "2024-12-03T18:46:52.263Z"
   },
   {
    "duration": 7,
    "start_time": "2024-12-03T18:46:52.296Z"
   },
   {
    "duration": 129,
    "start_time": "2024-12-03T18:46:54.857Z"
   },
   {
    "duration": 245,
    "start_time": "2024-12-03T18:49:01.542Z"
   },
   {
    "duration": 9,
    "start_time": "2024-12-03T18:55:46.995Z"
   },
   {
    "duration": 18,
    "start_time": "2024-12-03T18:56:30.895Z"
   },
   {
    "duration": 25,
    "start_time": "2024-12-03T18:56:40.117Z"
   },
   {
    "duration": 26,
    "start_time": "2024-12-03T18:57:19.420Z"
   },
   {
    "duration": 763,
    "start_time": "2024-12-03T19:05:54.721Z"
   },
   {
    "duration": 161,
    "start_time": "2024-12-03T19:05:55.486Z"
   },
   {
    "duration": 28,
    "start_time": "2024-12-03T19:05:55.649Z"
   },
   {
    "duration": 7,
    "start_time": "2024-12-03T19:05:55.679Z"
   },
   {
    "duration": 5,
    "start_time": "2024-12-03T19:05:55.688Z"
   },
   {
    "duration": 2,
    "start_time": "2024-12-03T19:05:55.695Z"
   },
   {
    "duration": 16,
    "start_time": "2024-12-03T19:05:55.699Z"
   },
   {
    "duration": 8,
    "start_time": "2024-12-03T19:05:55.743Z"
   },
   {
    "duration": 6,
    "start_time": "2024-12-03T19:05:55.753Z"
   },
   {
    "duration": 2,
    "start_time": "2024-12-03T19:05:55.761Z"
   },
   {
    "duration": 29,
    "start_time": "2024-12-03T19:05:55.765Z"
   },
   {
    "duration": 6,
    "start_time": "2024-12-03T19:05:55.797Z"
   },
   {
    "duration": 87,
    "start_time": "2024-12-03T19:05:55.806Z"
   },
   {
    "duration": 34,
    "start_time": "2024-12-03T19:05:55.895Z"
   },
   {
    "duration": 20,
    "start_time": "2024-12-03T19:05:55.942Z"
   },
   {
    "duration": 6,
    "start_time": "2024-12-03T19:05:55.964Z"
   },
   {
    "duration": 28,
    "start_time": "2024-12-03T19:05:55.973Z"
   },
   {
    "duration": 3,
    "start_time": "2024-12-03T19:05:56.003Z"
   },
   {
    "duration": 54,
    "start_time": "2024-12-03T19:05:56.008Z"
   },
   {
    "duration": 8,
    "start_time": "2024-12-03T19:05:56.064Z"
   },
   {
    "duration": 72,
    "start_time": "2024-12-03T19:05:56.074Z"
   },
   {
    "duration": 31,
    "start_time": "2024-12-03T19:05:56.147Z"
   },
   {
    "duration": 7,
    "start_time": "2024-12-03T19:05:56.179Z"
   },
   {
    "duration": 28,
    "start_time": "2024-12-03T19:05:56.187Z"
   },
   {
    "duration": 22,
    "start_time": "2024-12-03T19:06:00.743Z"
   },
   {
    "duration": 18,
    "start_time": "2024-12-03T19:07:26.457Z"
   },
   {
    "duration": 6,
    "start_time": "2024-12-03T19:26:24.905Z"
   },
   {
    "duration": 21,
    "start_time": "2024-12-03T19:30:20.272Z"
   },
   {
    "duration": 20,
    "start_time": "2024-12-03T19:30:30.345Z"
   },
   {
    "duration": 7,
    "start_time": "2024-12-03T19:39:32.744Z"
   },
   {
    "duration": 7,
    "start_time": "2024-12-03T19:39:40.912Z"
   },
   {
    "duration": 21,
    "start_time": "2024-12-03T19:44:35.531Z"
   },
   {
    "duration": 160,
    "start_time": "2024-12-03T22:35:00.123Z"
   },
   {
    "duration": 2491,
    "start_time": "2024-12-03T22:35:10.144Z"
   },
   {
    "duration": 216,
    "start_time": "2024-12-03T22:35:12.637Z"
   },
   {
    "duration": 26,
    "start_time": "2024-12-03T22:35:12.855Z"
   },
   {
    "duration": 7,
    "start_time": "2024-12-03T22:35:12.883Z"
   },
   {
    "duration": 6,
    "start_time": "2024-12-03T22:35:12.891Z"
   },
   {
    "duration": 2,
    "start_time": "2024-12-03T22:35:12.898Z"
   },
   {
    "duration": 16,
    "start_time": "2024-12-03T22:35:12.909Z"
   },
   {
    "duration": 8,
    "start_time": "2024-12-03T22:35:12.927Z"
   },
   {
    "duration": 6,
    "start_time": "2024-12-03T22:35:12.937Z"
   },
   {
    "duration": 2,
    "start_time": "2024-12-03T22:35:12.945Z"
   },
   {
    "duration": 28,
    "start_time": "2024-12-03T22:35:12.949Z"
   },
   {
    "duration": 7,
    "start_time": "2024-12-03T22:35:13.008Z"
   },
   {
    "duration": 69,
    "start_time": "2024-12-03T22:35:13.017Z"
   },
   {
    "duration": 50,
    "start_time": "2024-12-03T22:35:13.088Z"
   },
   {
    "duration": 18,
    "start_time": "2024-12-03T22:35:13.140Z"
   },
   {
    "duration": 5,
    "start_time": "2024-12-03T22:35:13.160Z"
   },
   {
    "duration": 53,
    "start_time": "2024-12-03T22:35:13.167Z"
   },
   {
    "duration": 3,
    "start_time": "2024-12-03T22:35:13.222Z"
   },
   {
    "duration": 26,
    "start_time": "2024-12-03T22:35:13.228Z"
   },
   {
    "duration": 5,
    "start_time": "2024-12-03T22:35:13.257Z"
   },
   {
    "duration": 75,
    "start_time": "2024-12-03T22:35:13.265Z"
   },
   {
    "duration": 30,
    "start_time": "2024-12-03T22:35:13.341Z"
   },
   {
    "duration": 6,
    "start_time": "2024-12-03T22:35:13.373Z"
   },
   {
    "duration": 46,
    "start_time": "2024-12-03T22:35:13.381Z"
   },
   {
    "duration": 16,
    "start_time": "2024-12-03T22:35:13.429Z"
   },
   {
    "duration": 19,
    "start_time": "2024-12-03T22:35:13.447Z"
   },
   {
    "duration": 19,
    "start_time": "2024-12-03T22:35:13.468Z"
   },
   {
    "duration": 74,
    "start_time": "2024-12-03T22:35:15.354Z"
   },
   {
    "duration": 15,
    "start_time": "2024-12-03T22:36:14.874Z"
   },
   {
    "duration": 31,
    "start_time": "2024-12-03T22:36:29.077Z"
   },
   {
    "duration": 67,
    "start_time": "2024-12-03T22:42:26.448Z"
   },
   {
    "duration": 25,
    "start_time": "2024-12-03T22:43:29.120Z"
   },
   {
    "duration": 14,
    "start_time": "2024-12-03T22:43:53.038Z"
   },
   {
    "duration": 20,
    "start_time": "2024-12-03T22:44:04.190Z"
   },
   {
    "duration": 18,
    "start_time": "2024-12-03T22:44:15.740Z"
   },
   {
    "duration": 3,
    "start_time": "2024-12-03T22:44:38.841Z"
   },
   {
    "duration": 159,
    "start_time": "2024-12-03T22:44:38.846Z"
   },
   {
    "duration": 24,
    "start_time": "2024-12-03T22:44:39.006Z"
   },
   {
    "duration": 7,
    "start_time": "2024-12-03T22:44:39.031Z"
   },
   {
    "duration": 6,
    "start_time": "2024-12-03T22:44:39.040Z"
   },
   {
    "duration": 3,
    "start_time": "2024-12-03T22:44:39.047Z"
   },
   {
    "duration": 15,
    "start_time": "2024-12-03T22:44:39.051Z"
   },
   {
    "duration": 40,
    "start_time": "2024-12-03T22:44:39.068Z"
   },
   {
    "duration": 5,
    "start_time": "2024-12-03T22:44:39.110Z"
   },
   {
    "duration": 2,
    "start_time": "2024-12-03T22:44:39.117Z"
   },
   {
    "duration": 26,
    "start_time": "2024-12-03T22:44:39.122Z"
   },
   {
    "duration": 7,
    "start_time": "2024-12-03T22:44:39.149Z"
   },
   {
    "duration": 76,
    "start_time": "2024-12-03T22:44:39.158Z"
   },
   {
    "duration": 31,
    "start_time": "2024-12-03T22:44:39.238Z"
   },
   {
    "duration": 18,
    "start_time": "2024-12-03T22:44:39.270Z"
   },
   {
    "duration": 22,
    "start_time": "2024-12-03T22:44:39.289Z"
   },
   {
    "duration": 29,
    "start_time": "2024-12-03T22:44:39.312Z"
   },
   {
    "duration": 3,
    "start_time": "2024-12-03T22:44:39.342Z"
   },
   {
    "duration": 25,
    "start_time": "2024-12-03T22:44:39.346Z"
   },
   {
    "duration": 6,
    "start_time": "2024-12-03T22:44:39.373Z"
   },
   {
    "duration": 74,
    "start_time": "2024-12-03T22:44:39.380Z"
   },
   {
    "duration": 28,
    "start_time": "2024-12-03T22:44:39.456Z"
   },
   {
    "duration": 7,
    "start_time": "2024-12-03T22:44:39.485Z"
   },
   {
    "duration": 22,
    "start_time": "2024-12-03T22:44:39.509Z"
   },
   {
    "duration": 13,
    "start_time": "2024-12-03T22:44:39.533Z"
   },
   {
    "duration": 18,
    "start_time": "2024-12-03T22:44:39.547Z"
   },
   {
    "duration": 42,
    "start_time": "2024-12-03T22:44:39.567Z"
   },
   {
    "duration": 74,
    "start_time": "2024-12-03T22:44:47.331Z"
   },
   {
    "duration": 21,
    "start_time": "2024-12-03T22:47:36.002Z"
   },
   {
    "duration": 22,
    "start_time": "2024-12-03T22:47:48.208Z"
   },
   {
    "duration": 17,
    "start_time": "2024-12-03T22:48:42.558Z"
   },
   {
    "duration": 448,
    "start_time": "2024-12-03T22:49:06.859Z"
   },
   {
    "duration": 17,
    "start_time": "2024-12-03T22:49:26.467Z"
   },
   {
    "duration": 145,
    "start_time": "2024-12-03T22:49:33.155Z"
   },
   {
    "duration": 46,
    "start_time": "2024-12-03T22:49:55.749Z"
   },
   {
    "duration": 14,
    "start_time": "2024-12-03T22:51:06.544Z"
   },
   {
    "duration": 20,
    "start_time": "2024-12-03T22:51:13.566Z"
   },
   {
    "duration": 3,
    "start_time": "2024-12-03T22:52:53.244Z"
   },
   {
    "duration": 165,
    "start_time": "2024-12-03T22:52:53.250Z"
   },
   {
    "duration": 24,
    "start_time": "2024-12-03T22:52:53.417Z"
   },
   {
    "duration": 7,
    "start_time": "2024-12-03T22:52:53.444Z"
   },
   {
    "duration": 4,
    "start_time": "2024-12-03T22:52:53.454Z"
   },
   {
    "duration": 3,
    "start_time": "2024-12-03T22:52:53.460Z"
   },
   {
    "duration": 15,
    "start_time": "2024-12-03T22:52:53.464Z"
   },
   {
    "duration": 32,
    "start_time": "2024-12-03T22:52:53.481Z"
   },
   {
    "duration": 6,
    "start_time": "2024-12-03T22:52:53.515Z"
   },
   {
    "duration": 3,
    "start_time": "2024-12-03T22:52:53.522Z"
   },
   {
    "duration": 27,
    "start_time": "2024-12-03T22:52:53.526Z"
   },
   {
    "duration": 6,
    "start_time": "2024-12-03T22:52:53.555Z"
   },
   {
    "duration": 79,
    "start_time": "2024-12-03T22:52:53.563Z"
   },
   {
    "duration": 30,
    "start_time": "2024-12-03T22:52:53.647Z"
   },
   {
    "duration": 30,
    "start_time": "2024-12-03T22:52:53.679Z"
   },
   {
    "duration": 6,
    "start_time": "2024-12-03T22:52:53.711Z"
   },
   {
    "duration": 27,
    "start_time": "2024-12-03T22:52:53.718Z"
   },
   {
    "duration": 3,
    "start_time": "2024-12-03T22:52:53.747Z"
   },
   {
    "duration": 25,
    "start_time": "2024-12-03T22:52:53.752Z"
   },
   {
    "duration": 33,
    "start_time": "2024-12-03T22:52:53.779Z"
   },
   {
    "duration": 52,
    "start_time": "2024-12-03T22:52:53.814Z"
   },
   {
    "duration": 45,
    "start_time": "2024-12-03T22:52:53.867Z"
   },
   {
    "duration": 7,
    "start_time": "2024-12-03T22:52:53.914Z"
   },
   {
    "duration": 23,
    "start_time": "2024-12-03T22:52:53.923Z"
   },
   {
    "duration": 14,
    "start_time": "2024-12-03T22:52:53.948Z"
   },
   {
    "duration": 19,
    "start_time": "2024-12-03T22:52:53.964Z"
   },
   {
    "duration": 16,
    "start_time": "2024-12-03T22:52:54.008Z"
   },
   {
    "duration": 18,
    "start_time": "2024-12-03T22:53:42.175Z"
   },
   {
    "duration": 798,
    "start_time": "2024-12-03T22:53:57.633Z"
   },
   {
    "duration": 165,
    "start_time": "2024-12-03T22:53:58.434Z"
   },
   {
    "duration": 28,
    "start_time": "2024-12-03T22:53:58.601Z"
   },
   {
    "duration": 7,
    "start_time": "2024-12-03T22:53:58.630Z"
   },
   {
    "duration": 5,
    "start_time": "2024-12-03T22:53:58.639Z"
   },
   {
    "duration": 3,
    "start_time": "2024-12-03T22:53:58.645Z"
   },
   {
    "duration": 16,
    "start_time": "2024-12-03T22:53:58.649Z"
   },
   {
    "duration": 8,
    "start_time": "2024-12-03T22:53:58.666Z"
   },
   {
    "duration": 39,
    "start_time": "2024-12-03T22:53:58.675Z"
   },
   {
    "duration": 2,
    "start_time": "2024-12-03T22:53:58.716Z"
   },
   {
    "duration": 28,
    "start_time": "2024-12-03T22:53:58.720Z"
   },
   {
    "duration": 6,
    "start_time": "2024-12-03T22:53:58.749Z"
   },
   {
    "duration": 83,
    "start_time": "2024-12-03T22:53:58.757Z"
   },
   {
    "duration": 35,
    "start_time": "2024-12-03T22:53:58.844Z"
   },
   {
    "duration": 30,
    "start_time": "2024-12-03T22:53:58.881Z"
   },
   {
    "duration": 6,
    "start_time": "2024-12-03T22:53:58.912Z"
   },
   {
    "duration": 28,
    "start_time": "2024-12-03T22:53:58.920Z"
   },
   {
    "duration": 2,
    "start_time": "2024-12-03T22:53:58.950Z"
   },
   {
    "duration": 24,
    "start_time": "2024-12-03T22:53:58.954Z"
   },
   {
    "duration": 33,
    "start_time": "2024-12-03T22:53:58.980Z"
   },
   {
    "duration": 51,
    "start_time": "2024-12-03T22:53:59.015Z"
   },
   {
    "duration": 46,
    "start_time": "2024-12-03T22:53:59.068Z"
   },
   {
    "duration": 7,
    "start_time": "2024-12-03T22:53:59.115Z"
   },
   {
    "duration": 25,
    "start_time": "2024-12-03T22:53:59.124Z"
   },
   {
    "duration": 15,
    "start_time": "2024-12-03T22:53:59.151Z"
   },
   {
    "duration": 41,
    "start_time": "2024-12-03T22:53:59.168Z"
   },
   {
    "duration": 20,
    "start_time": "2024-12-03T22:53:59.211Z"
   },
   {
    "duration": 76,
    "start_time": "2024-12-03T22:54:01.447Z"
   },
   {
    "duration": 64,
    "start_time": "2024-12-03T22:55:07.601Z"
   },
   {
    "duration": 62,
    "start_time": "2024-12-03T23:02:32.512Z"
   },
   {
    "duration": 63,
    "start_time": "2024-12-03T23:12:49.461Z"
   },
   {
    "duration": 14,
    "start_time": "2024-12-03T23:23:39.370Z"
   },
   {
    "duration": 17,
    "start_time": "2024-12-03T23:23:50.652Z"
   },
   {
    "duration": 17,
    "start_time": "2024-12-03T23:26:26.379Z"
   },
   {
    "duration": 5,
    "start_time": "2024-12-03T23:27:33.937Z"
   },
   {
    "duration": 5,
    "start_time": "2024-12-03T23:28:47.440Z"
   },
   {
    "duration": 22,
    "start_time": "2024-12-03T23:29:06.082Z"
   },
   {
    "duration": 22,
    "start_time": "2024-12-03T23:29:17.530Z"
   },
   {
    "duration": 65,
    "start_time": "2024-12-03T23:29:35.144Z"
   },
   {
    "duration": 3,
    "start_time": "2024-12-03T23:32:18.338Z"
   },
   {
    "duration": 155,
    "start_time": "2024-12-03T23:32:18.345Z"
   },
   {
    "duration": 24,
    "start_time": "2024-12-03T23:32:18.502Z"
   },
   {
    "duration": 7,
    "start_time": "2024-12-03T23:32:18.527Z"
   },
   {
    "duration": 4,
    "start_time": "2024-12-03T23:32:18.536Z"
   },
   {
    "duration": 2,
    "start_time": "2024-12-03T23:32:18.543Z"
   },
   {
    "duration": 15,
    "start_time": "2024-12-03T23:32:18.547Z"
   },
   {
    "duration": 8,
    "start_time": "2024-12-03T23:32:18.564Z"
   },
   {
    "duration": 7,
    "start_time": "2024-12-03T23:32:18.609Z"
   },
   {
    "duration": 2,
    "start_time": "2024-12-03T23:32:18.618Z"
   },
   {
    "duration": 29,
    "start_time": "2024-12-03T23:32:18.623Z"
   },
   {
    "duration": 6,
    "start_time": "2024-12-03T23:32:18.654Z"
   },
   {
    "duration": 83,
    "start_time": "2024-12-03T23:32:18.662Z"
   },
   {
    "duration": 33,
    "start_time": "2024-12-03T23:32:18.746Z"
   },
   {
    "duration": 32,
    "start_time": "2024-12-03T23:32:18.783Z"
   },
   {
    "duration": 7,
    "start_time": "2024-12-03T23:32:18.817Z"
   },
   {
    "duration": 27,
    "start_time": "2024-12-03T23:32:18.826Z"
   },
   {
    "duration": 2,
    "start_time": "2024-12-03T23:32:18.855Z"
   },
   {
    "duration": 51,
    "start_time": "2024-12-03T23:32:18.859Z"
   },
   {
    "duration": 7,
    "start_time": "2024-12-03T23:32:18.912Z"
   },
   {
    "duration": 51,
    "start_time": "2024-12-03T23:32:18.920Z"
   },
   {
    "duration": 49,
    "start_time": "2024-12-03T23:32:18.973Z"
   },
   {
    "duration": 8,
    "start_time": "2024-12-03T23:32:19.023Z"
   },
   {
    "duration": 21,
    "start_time": "2024-12-03T23:32:19.032Z"
   },
   {
    "duration": 13,
    "start_time": "2024-12-03T23:32:19.054Z"
   },
   {
    "duration": 45,
    "start_time": "2024-12-03T23:32:19.069Z"
   },
   {
    "duration": 16,
    "start_time": "2024-12-03T23:32:19.116Z"
   },
   {
    "duration": 73,
    "start_time": "2024-12-03T23:32:23.583Z"
   },
   {
    "duration": 25,
    "start_time": "2024-12-03T23:32:59.552Z"
   },
   {
    "duration": 3,
    "start_time": "2024-12-03T23:35:16.863Z"
   },
   {
    "duration": 153,
    "start_time": "2024-12-03T23:35:16.868Z"
   },
   {
    "duration": 24,
    "start_time": "2024-12-03T23:35:17.023Z"
   },
   {
    "duration": 6,
    "start_time": "2024-12-03T23:35:17.049Z"
   },
   {
    "duration": 5,
    "start_time": "2024-12-03T23:35:17.058Z"
   },
   {
    "duration": 2,
    "start_time": "2024-12-03T23:35:17.065Z"
   },
   {
    "duration": 41,
    "start_time": "2024-12-03T23:35:17.069Z"
   },
   {
    "duration": 8,
    "start_time": "2024-12-03T23:35:17.112Z"
   },
   {
    "duration": 7,
    "start_time": "2024-12-03T23:35:17.122Z"
   },
   {
    "duration": 3,
    "start_time": "2024-12-03T23:35:17.130Z"
   },
   {
    "duration": 28,
    "start_time": "2024-12-03T23:35:17.136Z"
   },
   {
    "duration": 7,
    "start_time": "2024-12-03T23:35:17.166Z"
   },
   {
    "duration": 62,
    "start_time": "2024-12-03T23:35:17.212Z"
   },
   {
    "duration": 53,
    "start_time": "2024-12-03T23:35:17.276Z"
   },
   {
    "duration": 18,
    "start_time": "2024-12-03T23:35:17.331Z"
   },
   {
    "duration": 6,
    "start_time": "2024-12-03T23:35:17.351Z"
   },
   {
    "duration": 51,
    "start_time": "2024-12-03T23:35:17.359Z"
   },
   {
    "duration": 5,
    "start_time": "2024-12-03T23:35:17.412Z"
   },
   {
    "duration": 27,
    "start_time": "2024-12-03T23:35:17.419Z"
   },
   {
    "duration": 8,
    "start_time": "2024-12-03T23:35:17.448Z"
   },
   {
    "duration": 82,
    "start_time": "2024-12-03T23:35:17.459Z"
   },
   {
    "duration": 29,
    "start_time": "2024-12-03T23:35:17.542Z"
   },
   {
    "duration": 8,
    "start_time": "2024-12-03T23:35:17.573Z"
   },
   {
    "duration": 42,
    "start_time": "2024-12-03T23:35:17.583Z"
   },
   {
    "duration": 13,
    "start_time": "2024-12-03T23:35:17.627Z"
   },
   {
    "duration": 16,
    "start_time": "2024-12-03T23:35:17.642Z"
   },
   {
    "duration": 17,
    "start_time": "2024-12-03T23:35:17.660Z"
   },
   {
    "duration": 21,
    "start_time": "2024-12-03T23:35:19.308Z"
   },
   {
    "duration": 137,
    "start_time": "2024-12-03T23:42:27.597Z"
   },
   {
    "duration": 20,
    "start_time": "2024-12-03T23:43:27.481Z"
   },
   {
    "duration": 20,
    "start_time": "2024-12-03T23:44:44.305Z"
   },
   {
    "duration": 749,
    "start_time": "2024-12-03T23:50:03.889Z"
   },
   {
    "duration": 166,
    "start_time": "2024-12-03T23:50:04.641Z"
   },
   {
    "duration": 26,
    "start_time": "2024-12-03T23:50:04.809Z"
   },
   {
    "duration": 8,
    "start_time": "2024-12-03T23:50:04.837Z"
   },
   {
    "duration": 5,
    "start_time": "2024-12-03T23:50:04.848Z"
   },
   {
    "duration": 3,
    "start_time": "2024-12-03T23:50:04.854Z"
   },
   {
    "duration": 51,
    "start_time": "2024-12-03T23:50:04.858Z"
   },
   {
    "duration": 11,
    "start_time": "2024-12-03T23:50:04.911Z"
   },
   {
    "duration": 6,
    "start_time": "2024-12-03T23:50:04.924Z"
   },
   {
    "duration": 3,
    "start_time": "2024-12-03T23:50:04.931Z"
   },
   {
    "duration": 28,
    "start_time": "2024-12-03T23:50:04.936Z"
   },
   {
    "duration": 7,
    "start_time": "2024-12-03T23:50:04.965Z"
   },
   {
    "duration": 79,
    "start_time": "2024-12-03T23:50:04.974Z"
   },
   {
    "duration": 33,
    "start_time": "2024-12-03T23:50:05.058Z"
   },
   {
    "duration": 29,
    "start_time": "2024-12-03T23:50:05.093Z"
   },
   {
    "duration": 6,
    "start_time": "2024-12-03T23:50:05.123Z"
   },
   {
    "duration": 29,
    "start_time": "2024-12-03T23:50:05.131Z"
   },
   {
    "duration": 2,
    "start_time": "2024-12-03T23:50:05.162Z"
   },
   {
    "duration": 55,
    "start_time": "2024-12-03T23:50:05.167Z"
   },
   {
    "duration": 6,
    "start_time": "2024-12-03T23:50:05.224Z"
   },
   {
    "duration": 52,
    "start_time": "2024-12-03T23:50:05.232Z"
   },
   {
    "duration": 49,
    "start_time": "2024-12-03T23:50:05.287Z"
   },
   {
    "duration": 7,
    "start_time": "2024-12-03T23:50:05.338Z"
   },
   {
    "duration": 28,
    "start_time": "2024-12-03T23:50:05.347Z"
   },
   {
    "duration": 38,
    "start_time": "2024-12-03T23:50:05.376Z"
   },
   {
    "duration": 18,
    "start_time": "2024-12-03T23:50:05.416Z"
   },
   {
    "duration": 19,
    "start_time": "2024-12-03T23:50:05.436Z"
   },
   {
    "duration": 20,
    "start_time": "2024-12-03T23:50:05.457Z"
   },
   {
    "duration": 140,
    "start_time": "2024-12-03T23:50:07.612Z"
   },
   {
    "duration": 24,
    "start_time": "2024-12-03T23:51:46.670Z"
   },
   {
    "duration": 21,
    "start_time": "2024-12-04T00:02:11.264Z"
   },
   {
    "duration": 6,
    "start_time": "2024-12-04T00:20:01.322Z"
   },
   {
    "duration": 22,
    "start_time": "2024-12-04T00:20:07.958Z"
   },
   {
    "duration": 29,
    "start_time": "2024-12-04T00:21:06.267Z"
   },
   {
    "duration": 23,
    "start_time": "2024-12-04T00:21:17.337Z"
   },
   {
    "duration": 781,
    "start_time": "2024-12-04T00:47:14.245Z"
   },
   {
    "duration": 157,
    "start_time": "2024-12-04T00:47:15.029Z"
   },
   {
    "duration": 29,
    "start_time": "2024-12-04T00:47:15.188Z"
   },
   {
    "duration": 6,
    "start_time": "2024-12-04T00:47:15.219Z"
   },
   {
    "duration": 4,
    "start_time": "2024-12-04T00:47:15.228Z"
   },
   {
    "duration": 3,
    "start_time": "2024-12-04T00:47:15.233Z"
   },
   {
    "duration": 15,
    "start_time": "2024-12-04T00:47:15.237Z"
   },
   {
    "duration": 8,
    "start_time": "2024-12-04T00:47:15.254Z"
   },
   {
    "duration": 6,
    "start_time": "2024-12-04T00:47:15.264Z"
   },
   {
    "duration": 37,
    "start_time": "2024-12-04T00:47:15.272Z"
   },
   {
    "duration": 28,
    "start_time": "2024-12-04T00:47:15.310Z"
   },
   {
    "duration": 6,
    "start_time": "2024-12-04T00:47:15.340Z"
   },
   {
    "duration": 75,
    "start_time": "2024-12-04T00:47:15.348Z"
   },
   {
    "duration": 33,
    "start_time": "2024-12-04T00:47:15.426Z"
   },
   {
    "duration": 18,
    "start_time": "2024-12-04T00:47:15.461Z"
   },
   {
    "duration": 6,
    "start_time": "2024-12-04T00:47:15.480Z"
   },
   {
    "duration": 51,
    "start_time": "2024-12-04T00:47:15.487Z"
   },
   {
    "duration": 3,
    "start_time": "2024-12-04T00:47:15.540Z"
   },
   {
    "duration": 26,
    "start_time": "2024-12-04T00:47:15.545Z"
   },
   {
    "duration": 6,
    "start_time": "2024-12-04T00:47:15.573Z"
   },
   {
    "duration": 79,
    "start_time": "2024-12-04T00:47:15.581Z"
   },
   {
    "duration": 28,
    "start_time": "2024-12-04T00:47:15.663Z"
   },
   {
    "duration": 19,
    "start_time": "2024-12-04T00:47:15.693Z"
   },
   {
    "duration": 24,
    "start_time": "2024-12-04T00:47:15.714Z"
   },
   {
    "duration": 15,
    "start_time": "2024-12-04T00:47:15.740Z"
   },
   {
    "duration": 19,
    "start_time": "2024-12-04T00:47:15.757Z"
   },
   {
    "duration": 46,
    "start_time": "2024-12-04T00:47:15.777Z"
   },
   {
    "duration": 18,
    "start_time": "2024-12-04T00:47:15.825Z"
   },
   {
    "duration": 21,
    "start_time": "2024-12-04T00:47:44.271Z"
   },
   {
    "duration": 27,
    "start_time": "2024-12-04T00:47:51.694Z"
   },
   {
    "duration": 4,
    "start_time": "2024-12-04T01:38:22.248Z"
   },
   {
    "duration": 5,
    "start_time": "2024-12-04T01:38:32.877Z"
   },
   {
    "duration": 4,
    "start_time": "2024-12-04T01:38:47.862Z"
   },
   {
    "duration": 4,
    "start_time": "2024-12-04T01:40:38.321Z"
   },
   {
    "duration": 746,
    "start_time": "2024-12-04T01:54:15.986Z"
   },
   {
    "duration": 158,
    "start_time": "2024-12-04T01:54:16.735Z"
   },
   {
    "duration": 27,
    "start_time": "2024-12-04T01:54:16.894Z"
   },
   {
    "duration": 9,
    "start_time": "2024-12-04T01:54:16.923Z"
   },
   {
    "duration": 6,
    "start_time": "2024-12-04T01:54:16.934Z"
   },
   {
    "duration": 6,
    "start_time": "2024-12-04T01:54:16.941Z"
   },
   {
    "duration": 18,
    "start_time": "2024-12-04T01:54:16.949Z"
   },
   {
    "duration": 9,
    "start_time": "2024-12-04T01:54:16.969Z"
   },
   {
    "duration": 34,
    "start_time": "2024-12-04T01:54:16.979Z"
   },
   {
    "duration": 2,
    "start_time": "2024-12-04T01:54:17.014Z"
   },
   {
    "duration": 28,
    "start_time": "2024-12-04T01:54:17.018Z"
   },
   {
    "duration": 6,
    "start_time": "2024-12-04T01:54:17.048Z"
   },
   {
    "duration": 78,
    "start_time": "2024-12-04T01:54:17.056Z"
   },
   {
    "duration": 35,
    "start_time": "2024-12-04T01:54:17.137Z"
   },
   {
    "duration": 37,
    "start_time": "2024-12-04T01:54:17.174Z"
   },
   {
    "duration": 7,
    "start_time": "2024-12-04T01:54:17.213Z"
   },
   {
    "duration": 44,
    "start_time": "2024-12-04T01:54:17.222Z"
   },
   {
    "duration": 6,
    "start_time": "2024-12-04T01:54:17.267Z"
   },
   {
    "duration": 48,
    "start_time": "2024-12-04T01:54:17.275Z"
   },
   {
    "duration": 8,
    "start_time": "2024-12-04T01:54:17.325Z"
   },
   {
    "duration": 74,
    "start_time": "2024-12-04T01:54:17.335Z"
   },
   {
    "duration": 32,
    "start_time": "2024-12-04T01:54:17.411Z"
   },
   {
    "duration": 7,
    "start_time": "2024-12-04T01:54:17.445Z"
   },
   {
    "duration": 26,
    "start_time": "2024-12-04T01:54:17.454Z"
   },
   {
    "duration": 44,
    "start_time": "2024-12-04T01:54:17.481Z"
   },
   {
    "duration": 17,
    "start_time": "2024-12-04T01:54:17.527Z"
   },
   {
    "duration": 19,
    "start_time": "2024-12-04T01:54:17.546Z"
   },
   {
    "duration": 42,
    "start_time": "2024-12-04T01:54:17.567Z"
   },
   {
    "duration": 29,
    "start_time": "2024-12-04T01:54:17.611Z"
   },
   {
    "duration": 2,
    "start_time": "2024-12-04T03:00:59.746Z"
   },
   {
    "duration": 167,
    "start_time": "2024-12-04T03:00:59.751Z"
   },
   {
    "duration": 24,
    "start_time": "2024-12-04T03:00:59.920Z"
   },
   {
    "duration": 6,
    "start_time": "2024-12-04T03:00:59.946Z"
   },
   {
    "duration": 5,
    "start_time": "2024-12-04T03:00:59.954Z"
   },
   {
    "duration": 2,
    "start_time": "2024-12-04T03:00:59.961Z"
   },
   {
    "duration": 16,
    "start_time": "2024-12-04T03:00:59.964Z"
   },
   {
    "duration": 31,
    "start_time": "2024-12-04T03:00:59.982Z"
   },
   {
    "duration": 6,
    "start_time": "2024-12-04T03:01:00.015Z"
   },
   {
    "duration": 2,
    "start_time": "2024-12-04T03:01:00.023Z"
   },
   {
    "duration": 27,
    "start_time": "2024-12-04T03:01:00.030Z"
   },
   {
    "duration": 6,
    "start_time": "2024-12-04T03:01:00.058Z"
   },
   {
    "duration": 81,
    "start_time": "2024-12-04T03:01:00.068Z"
   },
   {
    "duration": 33,
    "start_time": "2024-12-04T03:01:00.153Z"
   },
   {
    "duration": 30,
    "start_time": "2024-12-04T03:01:00.188Z"
   },
   {
    "duration": 6,
    "start_time": "2024-12-04T03:01:00.220Z"
   },
   {
    "duration": 29,
    "start_time": "2024-12-04T03:01:00.228Z"
   },
   {
    "duration": 2,
    "start_time": "2024-12-04T03:01:00.259Z"
   },
   {
    "duration": 48,
    "start_time": "2024-12-04T03:01:00.262Z"
   },
   {
    "duration": 6,
    "start_time": "2024-12-04T03:01:00.312Z"
   },
   {
    "duration": 52,
    "start_time": "2024-12-04T03:01:00.320Z"
   },
   {
    "duration": 49,
    "start_time": "2024-12-04T03:01:00.374Z"
   },
   {
    "duration": 7,
    "start_time": "2024-12-04T03:01:00.424Z"
   },
   {
    "duration": 26,
    "start_time": "2024-12-04T03:01:00.433Z"
   },
   {
    "duration": 15,
    "start_time": "2024-12-04T03:01:00.460Z"
   },
   {
    "duration": 41,
    "start_time": "2024-12-04T03:01:00.477Z"
   },
   {
    "duration": 18,
    "start_time": "2024-12-04T03:01:00.520Z"
   },
   {
    "duration": 19,
    "start_time": "2024-12-04T03:01:00.540Z"
   },
   {
    "duration": 26,
    "start_time": "2024-12-04T03:01:00.562Z"
   },
   {
    "duration": 91,
    "start_time": "2024-12-04T03:14:51.349Z"
   },
   {
    "duration": 2,
    "start_time": "2024-12-04T03:16:39.511Z"
   },
   {
    "duration": 444,
    "start_time": "2024-12-04T03:18:22.956Z"
   },
   {
    "duration": 3,
    "start_time": "2024-12-04T03:18:29.248Z"
   },
   {
    "duration": 165,
    "start_time": "2024-12-04T03:18:29.253Z"
   },
   {
    "duration": 24,
    "start_time": "2024-12-04T03:18:29.419Z"
   },
   {
    "duration": 6,
    "start_time": "2024-12-04T03:18:29.445Z"
   },
   {
    "duration": 5,
    "start_time": "2024-12-04T03:18:29.453Z"
   },
   {
    "duration": 2,
    "start_time": "2024-12-04T03:18:29.459Z"
   },
   {
    "duration": 14,
    "start_time": "2024-12-04T03:18:29.463Z"
   },
   {
    "duration": 32,
    "start_time": "2024-12-04T03:18:29.479Z"
   },
   {
    "duration": 6,
    "start_time": "2024-12-04T03:18:29.513Z"
   },
   {
    "duration": 2,
    "start_time": "2024-12-04T03:18:29.521Z"
   },
   {
    "duration": 27,
    "start_time": "2024-12-04T03:18:29.524Z"
   },
   {
    "duration": 6,
    "start_time": "2024-12-04T03:18:29.553Z"
   },
   {
    "duration": 82,
    "start_time": "2024-12-04T03:18:29.561Z"
   },
   {
    "duration": 33,
    "start_time": "2024-12-04T03:18:29.646Z"
   },
   {
    "duration": 34,
    "start_time": "2024-12-04T03:18:29.681Z"
   },
   {
    "duration": 6,
    "start_time": "2024-12-04T03:18:29.717Z"
   },
   {
    "duration": 33,
    "start_time": "2024-12-04T03:18:29.724Z"
   },
   {
    "duration": 3,
    "start_time": "2024-12-04T03:18:29.760Z"
   },
   {
    "duration": 49,
    "start_time": "2024-12-04T03:18:29.765Z"
   },
   {
    "duration": 7,
    "start_time": "2024-12-04T03:18:29.816Z"
   },
   {
    "duration": 54,
    "start_time": "2024-12-04T03:18:29.825Z"
   },
   {
    "duration": 2,
    "start_time": "2024-12-04T03:18:29.881Z"
   },
   {
    "duration": 27,
    "start_time": "2024-12-04T03:18:29.885Z"
   },
   {
    "duration": 25,
    "start_time": "2024-12-04T03:18:29.914Z"
   },
   {
    "duration": 14,
    "start_time": "2024-12-04T03:18:29.941Z"
   },
   {
    "duration": 17,
    "start_time": "2024-12-04T03:18:29.957Z"
   },
   {
    "duration": 108,
    "start_time": "2024-12-04T03:18:33.615Z"
   },
   {
    "duration": 101,
    "start_time": "2024-12-04T03:19:31.453Z"
   },
   {
    "duration": 21,
    "start_time": "2024-12-04T03:19:38.954Z"
   },
   {
    "duration": 28,
    "start_time": "2024-12-04T03:20:25.562Z"
   },
   {
    "duration": 405,
    "start_time": "2024-12-04T04:07:46.667Z"
   },
   {
    "duration": 43,
    "start_time": "2024-12-04T04:08:11.893Z"
   },
   {
    "duration": 3,
    "start_time": "2024-12-04T04:08:15.598Z"
   },
   {
    "duration": 158,
    "start_time": "2024-12-04T04:08:15.604Z"
   },
   {
    "duration": 24,
    "start_time": "2024-12-04T04:08:15.764Z"
   },
   {
    "duration": 6,
    "start_time": "2024-12-04T04:08:15.790Z"
   },
   {
    "duration": 16,
    "start_time": "2024-12-04T04:08:15.798Z"
   },
   {
    "duration": 2,
    "start_time": "2024-12-04T04:08:15.816Z"
   },
   {
    "duration": 15,
    "start_time": "2024-12-04T04:08:15.820Z"
   },
   {
    "duration": 7,
    "start_time": "2024-12-04T04:08:15.837Z"
   },
   {
    "duration": 5,
    "start_time": "2024-12-04T04:08:15.846Z"
   },
   {
    "duration": 2,
    "start_time": "2024-12-04T04:08:15.853Z"
   },
   {
    "duration": 66,
    "start_time": "2024-12-04T04:08:15.856Z"
   },
   {
    "duration": 8,
    "start_time": "2024-12-04T04:08:15.924Z"
   },
   {
    "duration": 55,
    "start_time": "2024-12-04T04:08:15.933Z"
   },
   {
    "duration": 36,
    "start_time": "2024-12-04T04:08:16.009Z"
   },
   {
    "duration": 21,
    "start_time": "2024-12-04T04:08:16.046Z"
   },
   {
    "duration": 6,
    "start_time": "2024-12-04T04:08:16.068Z"
   },
   {
    "duration": 65,
    "start_time": "2024-12-04T04:08:16.077Z"
   },
   {
    "duration": 3,
    "start_time": "2024-12-04T04:08:16.144Z"
   },
   {
    "duration": 35,
    "start_time": "2024-12-04T04:08:16.149Z"
   },
   {
    "duration": 23,
    "start_time": "2024-12-04T04:08:16.187Z"
   },
   {
    "duration": 51,
    "start_time": "2024-12-04T04:08:16.212Z"
   },
   {
    "duration": 2,
    "start_time": "2024-12-04T04:08:16.266Z"
   },
   {
    "duration": 7,
    "start_time": "2024-12-04T04:08:16.270Z"
   },
   {
    "duration": 57,
    "start_time": "2024-12-04T04:08:16.279Z"
   },
   {
    "duration": 15,
    "start_time": "2024-12-04T04:08:16.338Z"
   },
   {
    "duration": 17,
    "start_time": "2024-12-04T04:08:16.355Z"
   },
   {
    "duration": 123,
    "start_time": "2024-12-04T04:08:16.374Z"
   },
   {
    "duration": 27,
    "start_time": "2024-12-04T04:08:16.499Z"
   },
   {
    "duration": 27,
    "start_time": "2024-12-04T04:08:16.527Z"
   },
   {
    "duration": 11,
    "start_time": "2024-12-04T04:10:18.550Z"
   },
   {
    "duration": 785,
    "start_time": "2024-12-04T04:11:47.946Z"
   },
   {
    "duration": 155,
    "start_time": "2024-12-04T04:11:48.733Z"
   },
   {
    "duration": 36,
    "start_time": "2024-12-04T04:11:48.890Z"
   },
   {
    "duration": 8,
    "start_time": "2024-12-04T04:11:48.928Z"
   },
   {
    "duration": 5,
    "start_time": "2024-12-04T04:11:48.939Z"
   },
   {
    "duration": 3,
    "start_time": "2024-12-04T04:11:48.945Z"
   },
   {
    "duration": 17,
    "start_time": "2024-12-04T04:11:48.950Z"
   },
   {
    "duration": 8,
    "start_time": "2024-12-04T04:11:48.969Z"
   },
   {
    "duration": 35,
    "start_time": "2024-12-04T04:11:48.978Z"
   },
   {
    "duration": 2,
    "start_time": "2024-12-04T04:11:49.015Z"
   },
   {
    "duration": 27,
    "start_time": "2024-12-04T04:11:49.018Z"
   },
   {
    "duration": 7,
    "start_time": "2024-12-04T04:11:49.047Z"
   },
   {
    "duration": 75,
    "start_time": "2024-12-04T04:11:49.057Z"
   },
   {
    "duration": 35,
    "start_time": "2024-12-04T04:11:49.135Z"
   },
   {
    "duration": 18,
    "start_time": "2024-12-04T04:11:49.171Z"
   },
   {
    "duration": 21,
    "start_time": "2024-12-04T04:11:49.191Z"
   },
   {
    "duration": 27,
    "start_time": "2024-12-04T04:11:49.214Z"
   },
   {
    "duration": 2,
    "start_time": "2024-12-04T04:11:49.244Z"
   },
   {
    "duration": 24,
    "start_time": "2024-12-04T04:11:49.248Z"
   },
   {
    "duration": 6,
    "start_time": "2024-12-04T04:11:49.274Z"
   },
   {
    "duration": 51,
    "start_time": "2024-12-04T04:11:49.309Z"
   },
   {
    "duration": 2,
    "start_time": "2024-12-04T04:11:49.362Z"
   },
   {
    "duration": 10,
    "start_time": "2024-12-04T04:11:49.366Z"
   },
   {
    "duration": 46,
    "start_time": "2024-12-04T04:11:49.377Z"
   },
   {
    "duration": 16,
    "start_time": "2024-12-04T04:11:49.425Z"
   },
   {
    "duration": 17,
    "start_time": "2024-12-04T04:11:49.442Z"
   },
   {
    "duration": 116,
    "start_time": "2024-12-04T04:11:49.461Z"
   },
   {
    "duration": 20,
    "start_time": "2024-12-04T04:11:49.578Z"
   },
   {
    "duration": 26,
    "start_time": "2024-12-04T04:11:49.608Z"
   },
   {
    "duration": 21,
    "start_time": "2024-12-04T04:14:40.630Z"
   },
   {
    "duration": 10,
    "start_time": "2024-12-04T04:22:17.301Z"
   },
   {
    "duration": 470,
    "start_time": "2024-12-04T04:23:34.261Z"
   },
   {
    "duration": 44,
    "start_time": "2024-12-04T04:24:41.359Z"
   },
   {
    "duration": 3,
    "start_time": "2024-12-04T04:24:48.897Z"
   },
   {
    "duration": 166,
    "start_time": "2024-12-04T04:24:48.902Z"
   },
   {
    "duration": 24,
    "start_time": "2024-12-04T04:24:49.070Z"
   },
   {
    "duration": 7,
    "start_time": "2024-12-04T04:24:49.096Z"
   },
   {
    "duration": 4,
    "start_time": "2024-12-04T04:24:49.109Z"
   },
   {
    "duration": 2,
    "start_time": "2024-12-04T04:24:49.115Z"
   },
   {
    "duration": 17,
    "start_time": "2024-12-04T04:24:49.119Z"
   },
   {
    "duration": 8,
    "start_time": "2024-12-04T04:24:49.137Z"
   },
   {
    "duration": 6,
    "start_time": "2024-12-04T04:24:49.147Z"
   },
   {
    "duration": 2,
    "start_time": "2024-12-04T04:24:49.156Z"
   },
   {
    "duration": 67,
    "start_time": "2024-12-04T04:24:49.160Z"
   },
   {
    "duration": 7,
    "start_time": "2024-12-04T04:24:49.228Z"
   },
   {
    "duration": 50,
    "start_time": "2024-12-04T04:24:49.236Z"
   },
   {
    "duration": 49,
    "start_time": "2024-12-04T04:24:49.288Z"
   },
   {
    "duration": 18,
    "start_time": "2024-12-04T04:24:49.338Z"
   },
   {
    "duration": 6,
    "start_time": "2024-12-04T04:24:49.358Z"
   },
   {
    "duration": 54,
    "start_time": "2024-12-04T04:24:49.366Z"
   },
   {
    "duration": 3,
    "start_time": "2024-12-04T04:24:49.422Z"
   },
   {
    "duration": 24,
    "start_time": "2024-12-04T04:24:49.426Z"
   },
   {
    "duration": 6,
    "start_time": "2024-12-04T04:24:49.451Z"
   },
   {
    "duration": 71,
    "start_time": "2024-12-04T04:24:49.459Z"
   },
   {
    "duration": 2,
    "start_time": "2024-12-04T04:24:49.532Z"
   },
   {
    "duration": 11,
    "start_time": "2024-12-04T04:24:49.535Z"
   },
   {
    "duration": 26,
    "start_time": "2024-12-04T04:24:49.547Z"
   },
   {
    "duration": 36,
    "start_time": "2024-12-04T04:24:49.574Z"
   },
   {
    "duration": 17,
    "start_time": "2024-12-04T04:24:49.612Z"
   },
   {
    "duration": 109,
    "start_time": "2024-12-04T04:24:49.631Z"
   },
   {
    "duration": 26,
    "start_time": "2024-12-04T04:24:49.743Z"
   },
   {
    "duration": 22,
    "start_time": "2024-12-04T04:24:49.771Z"
   },
   {
    "duration": 20,
    "start_time": "2024-12-04T04:24:49.795Z"
   },
   {
    "duration": 51,
    "start_time": "2024-12-04T04:24:52.275Z"
   },
   {
    "duration": 4,
    "start_time": "2024-12-04T04:27:32.554Z"
   },
   {
    "duration": 4,
    "start_time": "2024-12-04T04:27:35.926Z"
   },
   {
    "duration": 40,
    "start_time": "2024-12-04T04:27:42.503Z"
   },
   {
    "duration": 43,
    "start_time": "2024-12-04T04:28:33.881Z"
   },
   {
    "duration": 42,
    "start_time": "2024-12-04T04:29:18.320Z"
   },
   {
    "duration": 29,
    "start_time": "2024-12-04T04:37:09.985Z"
   },
   {
    "duration": 3,
    "start_time": "2024-12-04T04:45:57.187Z"
   },
   {
    "duration": 184,
    "start_time": "2024-12-04T04:45:57.192Z"
   },
   {
    "duration": 26,
    "start_time": "2024-12-04T04:45:57.378Z"
   },
   {
    "duration": 7,
    "start_time": "2024-12-04T04:45:57.405Z"
   },
   {
    "duration": 6,
    "start_time": "2024-12-04T04:45:57.415Z"
   },
   {
    "duration": 2,
    "start_time": "2024-12-04T04:45:57.422Z"
   },
   {
    "duration": 15,
    "start_time": "2024-12-04T04:45:57.426Z"
   },
   {
    "duration": 8,
    "start_time": "2024-12-04T04:45:57.443Z"
   },
   {
    "duration": 6,
    "start_time": "2024-12-04T04:45:57.452Z"
   },
   {
    "duration": 2,
    "start_time": "2024-12-04T04:45:57.460Z"
   },
   {
    "duration": 30,
    "start_time": "2024-12-04T04:45:57.508Z"
   },
   {
    "duration": 6,
    "start_time": "2024-12-04T04:45:57.540Z"
   },
   {
    "duration": 67,
    "start_time": "2024-12-04T04:45:57.548Z"
   },
   {
    "duration": 33,
    "start_time": "2024-12-04T04:45:57.617Z"
   },
   {
    "duration": 18,
    "start_time": "2024-12-04T04:45:57.651Z"
   },
   {
    "duration": 6,
    "start_time": "2024-12-04T04:45:57.671Z"
   },
   {
    "duration": 60,
    "start_time": "2024-12-04T04:45:57.678Z"
   },
   {
    "duration": 3,
    "start_time": "2024-12-04T04:45:57.739Z"
   },
   {
    "duration": 24,
    "start_time": "2024-12-04T04:45:57.744Z"
   },
   {
    "duration": 5,
    "start_time": "2024-12-04T04:45:57.770Z"
   },
   {
    "duration": 74,
    "start_time": "2024-12-04T04:45:57.777Z"
   },
   {
    "duration": 2,
    "start_time": "2024-12-04T04:45:57.853Z"
   },
   {
    "duration": 7,
    "start_time": "2024-12-04T04:45:57.857Z"
   },
   {
    "duration": 48,
    "start_time": "2024-12-04T04:45:57.866Z"
   },
   {
    "duration": 17,
    "start_time": "2024-12-04T04:45:57.916Z"
   },
   {
    "duration": 16,
    "start_time": "2024-12-04T04:45:57.935Z"
   },
   {
    "duration": 117,
    "start_time": "2024-12-04T04:45:57.953Z"
   },
   {
    "duration": 19,
    "start_time": "2024-12-04T04:45:58.072Z"
   },
   {
    "duration": 30,
    "start_time": "2024-12-04T04:45:58.095Z"
   },
   {
    "duration": 9,
    "start_time": "2024-12-04T04:45:58.127Z"
   },
   {
    "duration": 28,
    "start_time": "2024-12-04T04:49:00.068Z"
   },
   {
    "duration": 33,
    "start_time": "2024-12-04T04:50:28.136Z"
   },
   {
    "duration": 56,
    "start_time": "2024-12-04T04:51:02.073Z"
   },
   {
    "duration": 771,
    "start_time": "2024-12-04T04:53:10.349Z"
   },
   {
    "duration": 153,
    "start_time": "2024-12-04T04:53:11.123Z"
   },
   {
    "duration": 32,
    "start_time": "2024-12-04T04:53:11.278Z"
   },
   {
    "duration": 12,
    "start_time": "2024-12-04T04:53:11.312Z"
   },
   {
    "duration": 9,
    "start_time": "2024-12-04T04:53:11.327Z"
   },
   {
    "duration": 3,
    "start_time": "2024-12-04T04:53:11.337Z"
   },
   {
    "duration": 15,
    "start_time": "2024-12-04T04:53:11.341Z"
   },
   {
    "duration": 8,
    "start_time": "2024-12-04T04:53:11.358Z"
   },
   {
    "duration": 7,
    "start_time": "2024-12-04T04:53:11.368Z"
   },
   {
    "duration": 32,
    "start_time": "2024-12-04T04:53:11.377Z"
   },
   {
    "duration": 28,
    "start_time": "2024-12-04T04:53:11.410Z"
   },
   {
    "duration": 6,
    "start_time": "2024-12-04T04:53:11.440Z"
   },
   {
    "duration": 69,
    "start_time": "2024-12-04T04:53:11.447Z"
   },
   {
    "duration": 35,
    "start_time": "2024-12-04T04:53:11.519Z"
   },
   {
    "duration": 19,
    "start_time": "2024-12-04T04:53:11.556Z"
   },
   {
    "duration": 6,
    "start_time": "2024-12-04T04:53:11.576Z"
   },
   {
    "duration": 53,
    "start_time": "2024-12-04T04:53:11.584Z"
   },
   {
    "duration": 2,
    "start_time": "2024-12-04T04:53:11.638Z"
   },
   {
    "duration": 24,
    "start_time": "2024-12-04T04:53:11.642Z"
   },
   {
    "duration": 6,
    "start_time": "2024-12-04T04:53:11.668Z"
   },
   {
    "duration": 83,
    "start_time": "2024-12-04T04:53:11.675Z"
   },
   {
    "duration": 4,
    "start_time": "2024-12-04T04:53:11.760Z"
   },
   {
    "duration": 9,
    "start_time": "2024-12-04T04:53:11.766Z"
   },
   {
    "duration": 44,
    "start_time": "2024-12-04T04:53:11.777Z"
   },
   {
    "duration": 17,
    "start_time": "2024-12-04T04:53:11.823Z"
   },
   {
    "duration": 20,
    "start_time": "2024-12-04T04:53:11.842Z"
   },
   {
    "duration": 130,
    "start_time": "2024-12-04T04:53:11.864Z"
   },
   {
    "duration": 30,
    "start_time": "2024-12-04T04:53:11.996Z"
   },
   {
    "duration": 21,
    "start_time": "2024-12-04T04:53:12.028Z"
   },
   {
    "duration": 10,
    "start_time": "2024-12-04T04:53:12.051Z"
   },
   {
    "duration": 28,
    "start_time": "2024-12-04T04:53:15.390Z"
   },
   {
    "duration": 28,
    "start_time": "2024-12-04T04:54:36.045Z"
   },
   {
    "duration": 2,
    "start_time": "2024-12-04T04:54:55.263Z"
   },
   {
    "duration": 4,
    "start_time": "2024-12-04T04:55:29.462Z"
   },
   {
    "duration": 25,
    "start_time": "2024-12-04T04:55:35.289Z"
   },
   {
    "duration": 28,
    "start_time": "2024-12-04T04:55:41.119Z"
   },
   {
    "duration": 28,
    "start_time": "2024-12-04T04:55:44.714Z"
   },
   {
    "duration": 15,
    "start_time": "2024-12-04T05:03:40.586Z"
   },
   {
    "duration": 39,
    "start_time": "2024-12-04T05:03:53.742Z"
   },
   {
    "duration": 31,
    "start_time": "2024-12-04T05:03:57.836Z"
   },
   {
    "duration": 27,
    "start_time": "2024-12-04T05:04:06.674Z"
   },
   {
    "duration": 6,
    "start_time": "2024-12-04T05:15:12.400Z"
   },
   {
    "duration": 5,
    "start_time": "2024-12-04T05:15:24.440Z"
   },
   {
    "duration": 6,
    "start_time": "2024-12-04T05:17:56.183Z"
   },
   {
    "duration": 3,
    "start_time": "2024-12-04T05:17:59.189Z"
   },
   {
    "duration": 171,
    "start_time": "2024-12-04T05:17:59.195Z"
   },
   {
    "duration": 26,
    "start_time": "2024-12-04T05:17:59.367Z"
   },
   {
    "duration": 14,
    "start_time": "2024-12-04T05:17:59.395Z"
   },
   {
    "duration": 5,
    "start_time": "2024-12-04T05:17:59.410Z"
   },
   {
    "duration": 2,
    "start_time": "2024-12-04T05:17:59.416Z"
   },
   {
    "duration": 15,
    "start_time": "2024-12-04T05:17:59.420Z"
   },
   {
    "duration": 8,
    "start_time": "2024-12-04T05:17:59.437Z"
   },
   {
    "duration": 6,
    "start_time": "2024-12-04T05:17:59.448Z"
   },
   {
    "duration": 3,
    "start_time": "2024-12-04T05:17:59.455Z"
   },
   {
    "duration": 59,
    "start_time": "2024-12-04T05:17:59.460Z"
   },
   {
    "duration": 6,
    "start_time": "2024-12-04T05:17:59.520Z"
   },
   {
    "duration": 50,
    "start_time": "2024-12-04T05:17:59.528Z"
   },
   {
    "duration": 50,
    "start_time": "2024-12-04T05:17:59.580Z"
   },
   {
    "duration": 18,
    "start_time": "2024-12-04T05:17:59.631Z"
   },
   {
    "duration": 5,
    "start_time": "2024-12-04T05:17:59.650Z"
   },
   {
    "duration": 28,
    "start_time": "2024-12-04T05:17:59.657Z"
   },
   {
    "duration": 2,
    "start_time": "2024-12-04T05:17:59.709Z"
   },
   {
    "duration": 24,
    "start_time": "2024-12-04T05:17:59.713Z"
   },
   {
    "duration": 6,
    "start_time": "2024-12-04T05:17:59.739Z"
   },
   {
    "duration": 81,
    "start_time": "2024-12-04T05:17:59.747Z"
   },
   {
    "duration": 2,
    "start_time": "2024-12-04T05:17:59.830Z"
   },
   {
    "duration": 7,
    "start_time": "2024-12-04T05:17:59.834Z"
   },
   {
    "duration": 25,
    "start_time": "2024-12-04T05:17:59.845Z"
   },
   {
    "duration": 40,
    "start_time": "2024-12-04T05:17:59.871Z"
   },
   {
    "duration": 16,
    "start_time": "2024-12-04T05:17:59.913Z"
   },
   {
    "duration": 112,
    "start_time": "2024-12-04T05:17:59.931Z"
   },
   {
    "duration": 19,
    "start_time": "2024-12-04T05:18:00.045Z"
   },
   {
    "duration": 20,
    "start_time": "2024-12-04T05:18:00.066Z"
   },
   {
    "duration": 27,
    "start_time": "2024-12-04T05:18:00.087Z"
   },
   {
    "duration": 26,
    "start_time": "2024-12-04T05:18:00.115Z"
   },
   {
    "duration": 27,
    "start_time": "2024-12-04T05:18:00.142Z"
   },
   {
    "duration": 47,
    "start_time": "2024-12-04T05:18:00.170Z"
   },
   {
    "duration": 3,
    "start_time": "2024-12-04T05:18:24.638Z"
   },
   {
    "duration": 4,
    "start_time": "2024-12-04T05:18:29.036Z"
   },
   {
    "duration": 798,
    "start_time": "2024-12-04T05:20:02.499Z"
   },
   {
    "duration": 3,
    "start_time": "2024-12-04T05:20:17.115Z"
   },
   {
    "duration": 200,
    "start_time": "2024-12-04T05:20:17.120Z"
   },
   {
    "duration": 27,
    "start_time": "2024-12-04T05:20:17.322Z"
   },
   {
    "duration": 6,
    "start_time": "2024-12-04T05:20:17.352Z"
   },
   {
    "duration": 6,
    "start_time": "2024-12-04T05:20:17.360Z"
   },
   {
    "duration": 4,
    "start_time": "2024-12-04T05:20:17.368Z"
   },
   {
    "duration": 43,
    "start_time": "2024-12-04T05:20:17.374Z"
   },
   {
    "duration": 9,
    "start_time": "2024-12-04T05:20:17.419Z"
   },
   {
    "duration": 8,
    "start_time": "2024-12-04T05:20:17.431Z"
   },
   {
    "duration": 2,
    "start_time": "2024-12-04T05:20:17.440Z"
   },
   {
    "duration": 29,
    "start_time": "2024-12-04T05:20:17.444Z"
   },
   {
    "duration": 7,
    "start_time": "2024-12-04T05:20:17.474Z"
   },
   {
    "duration": 81,
    "start_time": "2024-12-04T05:20:17.482Z"
   },
   {
    "duration": 51,
    "start_time": "2024-12-04T05:20:17.565Z"
   },
   {
    "duration": 17,
    "start_time": "2024-12-04T05:20:17.620Z"
   },
   {
    "duration": 7,
    "start_time": "2024-12-04T05:20:17.639Z"
   },
   {
    "duration": 29,
    "start_time": "2024-12-04T05:20:17.648Z"
   },
   {
    "duration": 2,
    "start_time": "2024-12-04T05:20:17.679Z"
   },
   {
    "duration": 47,
    "start_time": "2024-12-04T05:20:17.683Z"
   },
   {
    "duration": 7,
    "start_time": "2024-12-04T05:20:17.732Z"
   },
   {
    "duration": 72,
    "start_time": "2024-12-04T05:20:17.741Z"
   },
   {
    "duration": 2,
    "start_time": "2024-12-04T05:20:17.815Z"
   },
   {
    "duration": 8,
    "start_time": "2024-12-04T05:20:17.819Z"
   },
   {
    "duration": 25,
    "start_time": "2024-12-04T05:20:17.831Z"
   },
   {
    "duration": 16,
    "start_time": "2024-12-04T05:20:17.857Z"
   },
   {
    "duration": 42,
    "start_time": "2024-12-04T05:20:17.875Z"
   },
   {
    "duration": 103,
    "start_time": "2024-12-04T05:20:17.919Z"
   },
   {
    "duration": 20,
    "start_time": "2024-12-04T05:20:18.024Z"
   },
   {
    "duration": 19,
    "start_time": "2024-12-04T05:20:18.045Z"
   },
   {
    "duration": 13,
    "start_time": "2024-12-04T05:20:18.066Z"
   },
   {
    "duration": 50,
    "start_time": "2024-12-04T05:20:18.080Z"
   },
   {
    "duration": 27,
    "start_time": "2024-12-04T05:20:18.131Z"
   },
   {
    "duration": 28,
    "start_time": "2024-12-04T05:20:18.160Z"
   },
   {
    "duration": 75,
    "start_time": "2024-12-04T05:26:17.554Z"
   },
   {
    "duration": 42,
    "start_time": "2024-12-04T05:27:37.400Z"
   },
   {
    "duration": 69,
    "start_time": "2024-12-04T05:27:44.605Z"
   },
   {
    "duration": 49,
    "start_time": "2024-12-04T05:28:08.214Z"
   },
   {
    "duration": 3,
    "start_time": "2024-12-04T05:30:58.863Z"
   },
   {
    "duration": 162,
    "start_time": "2024-12-04T05:30:58.869Z"
   },
   {
    "duration": 26,
    "start_time": "2024-12-04T05:30:59.033Z"
   },
   {
    "duration": 8,
    "start_time": "2024-12-04T05:30:59.061Z"
   },
   {
    "duration": 6,
    "start_time": "2024-12-04T05:30:59.071Z"
   },
   {
    "duration": 2,
    "start_time": "2024-12-04T05:30:59.080Z"
   },
   {
    "duration": 40,
    "start_time": "2024-12-04T05:30:59.084Z"
   },
   {
    "duration": 8,
    "start_time": "2024-12-04T05:30:59.127Z"
   },
   {
    "duration": 9,
    "start_time": "2024-12-04T05:30:59.137Z"
   },
   {
    "duration": 3,
    "start_time": "2024-12-04T05:30:59.148Z"
   },
   {
    "duration": 61,
    "start_time": "2024-12-04T05:30:59.153Z"
   },
   {
    "duration": 6,
    "start_time": "2024-12-04T05:30:59.216Z"
   },
   {
    "duration": 51,
    "start_time": "2024-12-04T05:30:59.225Z"
   },
   {
    "duration": 53,
    "start_time": "2024-12-04T05:30:59.278Z"
   },
   {
    "duration": 18,
    "start_time": "2024-12-04T05:30:59.333Z"
   },
   {
    "duration": 6,
    "start_time": "2024-12-04T05:30:59.353Z"
   },
   {
    "duration": 49,
    "start_time": "2024-12-04T05:30:59.361Z"
   },
   {
    "duration": 3,
    "start_time": "2024-12-04T05:30:59.412Z"
   },
   {
    "duration": 33,
    "start_time": "2024-12-04T05:30:59.417Z"
   },
   {
    "duration": 9,
    "start_time": "2024-12-04T05:30:59.453Z"
   },
   {
    "duration": 79,
    "start_time": "2024-12-04T05:30:59.464Z"
   },
   {
    "duration": 3,
    "start_time": "2024-12-04T05:30:59.545Z"
   },
   {
    "duration": 9,
    "start_time": "2024-12-04T05:30:59.554Z"
   },
   {
    "duration": 48,
    "start_time": "2024-12-04T05:30:59.565Z"
   },
   {
    "duration": 22,
    "start_time": "2024-12-04T05:30:59.615Z"
   },
   {
    "duration": 22,
    "start_time": "2024-12-04T05:30:59.638Z"
   },
   {
    "duration": 176,
    "start_time": "2024-12-04T05:30:59.662Z"
   },
   {
    "duration": 23,
    "start_time": "2024-12-04T05:30:59.840Z"
   },
   {
    "duration": 25,
    "start_time": "2024-12-04T05:30:59.865Z"
   },
   {
    "duration": 13,
    "start_time": "2024-12-04T05:30:59.910Z"
   },
   {
    "duration": 37,
    "start_time": "2024-12-04T05:30:59.924Z"
   },
   {
    "duration": 58,
    "start_time": "2024-12-04T05:30:59.963Z"
   },
   {
    "duration": 31,
    "start_time": "2024-12-04T05:31:00.023Z"
   },
   {
    "duration": 49,
    "start_time": "2024-12-04T05:31:06.458Z"
   },
   {
    "duration": 2423,
    "start_time": "2024-12-04T15:14:39.422Z"
   },
   {
    "duration": 227,
    "start_time": "2024-12-04T15:14:41.846Z"
   },
   {
    "duration": 27,
    "start_time": "2024-12-04T15:14:42.075Z"
   },
   {
    "duration": 7,
    "start_time": "2024-12-04T15:14:42.104Z"
   },
   {
    "duration": 5,
    "start_time": "2024-12-04T15:14:42.112Z"
   },
   {
    "duration": 2,
    "start_time": "2024-12-04T15:14:42.119Z"
   },
   {
    "duration": 47,
    "start_time": "2024-12-04T15:14:42.122Z"
   },
   {
    "duration": 8,
    "start_time": "2024-12-04T15:14:42.170Z"
   },
   {
    "duration": 8,
    "start_time": "2024-12-04T15:14:42.179Z"
   },
   {
    "duration": 2,
    "start_time": "2024-12-04T15:14:42.190Z"
   },
   {
    "duration": 29,
    "start_time": "2024-12-04T15:14:42.194Z"
   },
   {
    "duration": 7,
    "start_time": "2024-12-04T15:14:42.224Z"
   },
   {
    "duration": 82,
    "start_time": "2024-12-04T15:14:42.232Z"
   },
   {
    "duration": 36,
    "start_time": "2024-12-04T15:14:42.316Z"
   },
   {
    "duration": 30,
    "start_time": "2024-12-04T15:14:42.354Z"
   },
   {
    "duration": 5,
    "start_time": "2024-12-04T15:14:42.386Z"
   },
   {
    "duration": 29,
    "start_time": "2024-12-04T15:14:42.393Z"
   },
   {
    "duration": 2,
    "start_time": "2024-12-04T15:14:42.424Z"
   },
   {
    "duration": 48,
    "start_time": "2024-12-04T15:14:42.428Z"
   },
   {
    "duration": 6,
    "start_time": "2024-12-04T15:14:42.478Z"
   },
   {
    "duration": 53,
    "start_time": "2024-12-04T15:14:42.486Z"
   },
   {
    "duration": 3,
    "start_time": "2024-12-04T15:14:42.542Z"
   },
   {
    "duration": 28,
    "start_time": "2024-12-04T15:14:42.547Z"
   },
   {
    "duration": 25,
    "start_time": "2024-12-04T15:14:42.577Z"
   },
   {
    "duration": 16,
    "start_time": "2024-12-04T15:14:42.604Z"
   },
   {
    "duration": 20,
    "start_time": "2024-12-04T15:14:42.622Z"
   },
   {
    "duration": 128,
    "start_time": "2024-12-04T15:14:42.644Z"
   },
   {
    "duration": 19,
    "start_time": "2024-12-04T15:14:42.775Z"
   },
   {
    "duration": 20,
    "start_time": "2024-12-04T15:14:42.796Z"
   },
   {
    "duration": 11,
    "start_time": "2024-12-04T15:14:42.818Z"
   },
   {
    "duration": 58,
    "start_time": "2024-12-04T15:14:42.830Z"
   },
   {
    "duration": 27,
    "start_time": "2024-12-04T15:14:42.891Z"
   },
   {
    "duration": 27,
    "start_time": "2024-12-04T15:14:42.920Z"
   },
   {
    "duration": 62,
    "start_time": "2024-12-04T15:14:42.949Z"
   },
   {
    "duration": 52,
    "start_time": "2024-12-04T15:24:00.606Z"
   },
   {
    "duration": 28,
    "start_time": "2024-12-04T15:24:14.940Z"
   },
   {
    "duration": 53,
    "start_time": "2024-12-04T15:24:33.620Z"
   },
   {
    "duration": 65,
    "start_time": "2024-12-04T15:25:01.408Z"
   },
   {
    "duration": 42,
    "start_time": "2024-12-04T15:25:46.469Z"
   },
   {
    "duration": 757,
    "start_time": "2024-12-04T15:27:31.321Z"
   },
   {
    "duration": 155,
    "start_time": "2024-12-04T15:27:32.081Z"
   },
   {
    "duration": 32,
    "start_time": "2024-12-04T15:27:32.238Z"
   },
   {
    "duration": 7,
    "start_time": "2024-12-04T15:27:32.271Z"
   },
   {
    "duration": 4,
    "start_time": "2024-12-04T15:27:32.281Z"
   },
   {
    "duration": 3,
    "start_time": "2024-12-04T15:27:32.287Z"
   },
   {
    "duration": 15,
    "start_time": "2024-12-04T15:27:32.291Z"
   },
   {
    "duration": 8,
    "start_time": "2024-12-04T15:27:32.308Z"
   },
   {
    "duration": 6,
    "start_time": "2024-12-04T15:27:32.317Z"
   },
   {
    "duration": 3,
    "start_time": "2024-12-04T15:27:32.324Z"
   },
   {
    "duration": 69,
    "start_time": "2024-12-04T15:27:32.328Z"
   },
   {
    "duration": 7,
    "start_time": "2024-12-04T15:27:32.398Z"
   },
   {
    "duration": 73,
    "start_time": "2024-12-04T15:27:32.407Z"
   },
   {
    "duration": 34,
    "start_time": "2024-12-04T15:27:32.484Z"
   },
   {
    "duration": 19,
    "start_time": "2024-12-04T15:27:32.520Z"
   },
   {
    "duration": 6,
    "start_time": "2024-12-04T15:27:32.541Z"
   },
   {
    "duration": 29,
    "start_time": "2024-12-04T15:27:32.570Z"
   },
   {
    "duration": 3,
    "start_time": "2024-12-04T15:27:32.601Z"
   },
   {
    "duration": 25,
    "start_time": "2024-12-04T15:27:32.606Z"
   },
   {
    "duration": 7,
    "start_time": "2024-12-04T15:27:32.633Z"
   },
   {
    "duration": 84,
    "start_time": "2024-12-04T15:27:32.642Z"
   },
   {
    "duration": 2,
    "start_time": "2024-12-04T15:27:32.728Z"
   },
   {
    "duration": 7,
    "start_time": "2024-12-04T15:27:32.732Z"
   },
   {
    "duration": 45,
    "start_time": "2024-12-04T15:27:32.741Z"
   },
   {
    "duration": 15,
    "start_time": "2024-12-04T15:27:32.788Z"
   },
   {
    "duration": 17,
    "start_time": "2024-12-04T15:27:32.804Z"
   },
   {
    "duration": 115,
    "start_time": "2024-12-04T15:27:32.822Z"
   },
   {
    "duration": 30,
    "start_time": "2024-12-04T15:27:32.940Z"
   },
   {
    "duration": 19,
    "start_time": "2024-12-04T15:27:32.971Z"
   },
   {
    "duration": 9,
    "start_time": "2024-12-04T15:27:32.992Z"
   },
   {
    "duration": 78,
    "start_time": "2024-12-04T15:27:33.003Z"
   },
   {
    "duration": 41,
    "start_time": "2024-12-04T15:27:40.602Z"
   },
   {
    "duration": 42,
    "start_time": "2024-12-04T15:28:05.853Z"
   },
   {
    "duration": 61,
    "start_time": "2024-12-04T15:29:07.259Z"
   },
   {
    "duration": 90,
    "start_time": "2024-12-04T15:30:07.379Z"
   },
   {
    "duration": 6,
    "start_time": "2024-12-04T15:51:45.370Z"
   },
   {
    "duration": 10,
    "start_time": "2024-12-04T15:53:09.321Z"
   },
   {
    "duration": 10,
    "start_time": "2024-12-04T15:54:39.467Z"
   },
   {
    "duration": 169,
    "start_time": "2024-12-04T16:06:13.403Z"
   },
   {
    "duration": 179,
    "start_time": "2024-12-04T16:09:35.756Z"
   },
   {
    "duration": 249,
    "start_time": "2024-12-04T16:11:11.128Z"
   },
   {
    "duration": 207,
    "start_time": "2024-12-04T16:12:04.564Z"
   },
   {
    "duration": 8,
    "start_time": "2024-12-04T16:20:56.431Z"
   },
   {
    "duration": 225,
    "start_time": "2024-12-04T16:21:57.139Z"
   },
   {
    "duration": 205,
    "start_time": "2024-12-04T16:24:37.449Z"
   },
   {
    "duration": 10,
    "start_time": "2024-12-04T16:31:21.480Z"
   },
   {
    "duration": 14,
    "start_time": "2024-12-04T16:32:12.219Z"
   },
   {
    "duration": 10,
    "start_time": "2024-12-04T16:32:37.105Z"
   },
   {
    "duration": 166,
    "start_time": "2024-12-04T16:32:49.910Z"
   },
   {
    "duration": 12,
    "start_time": "2024-12-04T16:34:43.135Z"
   },
   {
    "duration": 9,
    "start_time": "2024-12-04T16:35:15.966Z"
   },
   {
    "duration": 156,
    "start_time": "2024-12-04T16:35:53.441Z"
   },
   {
    "duration": 158,
    "start_time": "2024-12-04T16:42:19.064Z"
   },
   {
    "duration": 216,
    "start_time": "2024-12-04T16:42:38.025Z"
   },
   {
    "duration": 762,
    "start_time": "2024-12-04T17:08:21.998Z"
   },
   {
    "duration": 155,
    "start_time": "2024-12-04T17:08:22.762Z"
   },
   {
    "duration": 29,
    "start_time": "2024-12-04T17:08:22.918Z"
   },
   {
    "duration": 7,
    "start_time": "2024-12-04T17:08:22.949Z"
   },
   {
    "duration": 15,
    "start_time": "2024-12-04T17:08:22.959Z"
   },
   {
    "duration": 3,
    "start_time": "2024-12-04T17:08:22.976Z"
   },
   {
    "duration": 17,
    "start_time": "2024-12-04T17:08:22.981Z"
   },
   {
    "duration": 8,
    "start_time": "2024-12-04T17:08:22.999Z"
   },
   {
    "duration": 6,
    "start_time": "2024-12-04T17:08:23.009Z"
   },
   {
    "duration": 2,
    "start_time": "2024-12-04T17:08:23.017Z"
   },
   {
    "duration": 64,
    "start_time": "2024-12-04T17:08:23.021Z"
   },
   {
    "duration": 6,
    "start_time": "2024-12-04T17:08:23.086Z"
   },
   {
    "duration": 51,
    "start_time": "2024-12-04T17:08:23.095Z"
   },
   {
    "duration": 34,
    "start_time": "2024-12-04T17:08:23.169Z"
   },
   {
    "duration": 19,
    "start_time": "2024-12-04T17:08:23.205Z"
   },
   {
    "duration": 6,
    "start_time": "2024-12-04T17:08:23.225Z"
   },
   {
    "duration": 48,
    "start_time": "2024-12-04T17:08:23.232Z"
   },
   {
    "duration": 2,
    "start_time": "2024-12-04T17:08:23.282Z"
   },
   {
    "duration": 25,
    "start_time": "2024-12-04T17:08:23.286Z"
   },
   {
    "duration": 6,
    "start_time": "2024-12-04T17:08:23.313Z"
   },
   {
    "duration": 74,
    "start_time": "2024-12-04T17:08:23.321Z"
   },
   {
    "duration": 2,
    "start_time": "2024-12-04T17:08:23.397Z"
   },
   {
    "duration": 8,
    "start_time": "2024-12-04T17:08:23.401Z"
   },
   {
    "duration": 26,
    "start_time": "2024-12-04T17:08:23.410Z"
   },
   {
    "duration": 36,
    "start_time": "2024-12-04T17:08:23.437Z"
   },
   {
    "duration": 17,
    "start_time": "2024-12-04T17:08:23.474Z"
   },
   {
    "duration": 115,
    "start_time": "2024-12-04T17:08:23.493Z"
   },
   {
    "duration": 18,
    "start_time": "2024-12-04T17:08:23.610Z"
   },
   {
    "duration": 18,
    "start_time": "2024-12-04T17:08:23.630Z"
   },
   {
    "duration": 25,
    "start_time": "2024-12-04T17:08:23.650Z"
   },
   {
    "duration": 101,
    "start_time": "2024-12-04T17:08:23.678Z"
   },
   {
    "duration": 167,
    "start_time": "2024-12-04T17:08:25.878Z"
   },
   {
    "duration": 158,
    "start_time": "2024-12-04T17:10:32.081Z"
   },
   {
    "duration": 156,
    "start_time": "2024-12-04T22:58:12.603Z"
   },
   {
    "duration": 2405,
    "start_time": "2024-12-04T22:58:18.718Z"
   },
   {
    "duration": 208,
    "start_time": "2024-12-04T22:58:21.125Z"
   },
   {
    "duration": 29,
    "start_time": "2024-12-04T22:58:21.335Z"
   },
   {
    "duration": 8,
    "start_time": "2024-12-04T22:58:21.367Z"
   },
   {
    "duration": 6,
    "start_time": "2024-12-04T22:58:21.376Z"
   },
   {
    "duration": 8,
    "start_time": "2024-12-04T22:58:21.383Z"
   },
   {
    "duration": 16,
    "start_time": "2024-12-04T22:58:21.392Z"
   },
   {
    "duration": 8,
    "start_time": "2024-12-04T22:58:21.410Z"
   },
   {
    "duration": 6,
    "start_time": "2024-12-04T22:58:21.420Z"
   },
   {
    "duration": 3,
    "start_time": "2024-12-04T22:58:21.429Z"
   },
   {
    "duration": 61,
    "start_time": "2024-12-04T22:58:21.433Z"
   },
   {
    "duration": 6,
    "start_time": "2024-12-04T22:58:21.496Z"
   },
   {
    "duration": 72,
    "start_time": "2024-12-04T22:58:21.504Z"
   },
   {
    "duration": 48,
    "start_time": "2024-12-04T22:58:21.579Z"
   },
   {
    "duration": 19,
    "start_time": "2024-12-04T22:58:21.630Z"
   },
   {
    "duration": 7,
    "start_time": "2024-12-04T22:58:21.650Z"
   },
   {
    "duration": 28,
    "start_time": "2024-12-04T22:58:21.670Z"
   },
   {
    "duration": 2,
    "start_time": "2024-12-04T22:58:21.700Z"
   },
   {
    "duration": 36,
    "start_time": "2024-12-04T22:58:21.704Z"
   },
   {
    "duration": 8,
    "start_time": "2024-12-04T22:58:21.742Z"
   },
   {
    "duration": 53,
    "start_time": "2024-12-04T22:58:21.770Z"
   },
   {
    "duration": 3,
    "start_time": "2024-12-04T22:58:21.824Z"
   },
   {
    "duration": 7,
    "start_time": "2024-12-04T22:58:21.829Z"
   },
   {
    "duration": 51,
    "start_time": "2024-12-04T22:58:21.837Z"
   },
   {
    "duration": 15,
    "start_time": "2024-12-04T22:58:21.890Z"
   },
   {
    "duration": 17,
    "start_time": "2024-12-04T22:58:21.907Z"
   },
   {
    "duration": 116,
    "start_time": "2024-12-04T22:58:21.926Z"
   },
   {
    "duration": 27,
    "start_time": "2024-12-04T22:58:22.047Z"
   },
   {
    "duration": 20,
    "start_time": "2024-12-04T22:58:22.076Z"
   },
   {
    "duration": 10,
    "start_time": "2024-12-04T22:58:22.098Z"
   },
   {
    "duration": 114,
    "start_time": "2024-12-04T22:58:22.109Z"
   },
   {
    "duration": 180,
    "start_time": "2024-12-04T22:58:22.225Z"
   },
   {
    "duration": 5,
    "start_time": "2024-12-04T22:59:58.002Z"
   },
   {
    "duration": 8,
    "start_time": "2024-12-04T23:00:05.584Z"
   },
   {
    "duration": 12,
    "start_time": "2024-12-04T23:00:16.354Z"
   },
   {
    "duration": 6,
    "start_time": "2024-12-04T23:05:19.327Z"
   },
   {
    "duration": 4,
    "start_time": "2024-12-04T23:08:28.298Z"
   },
   {
    "duration": 10,
    "start_time": "2024-12-04T23:09:42.944Z"
   },
   {
    "duration": 3,
    "start_time": "2024-12-04T23:16:24.423Z"
   },
   {
    "duration": 210,
    "start_time": "2024-12-04T23:16:24.431Z"
   },
   {
    "duration": 24,
    "start_time": "2024-12-04T23:16:24.645Z"
   },
   {
    "duration": 7,
    "start_time": "2024-12-04T23:16:24.670Z"
   },
   {
    "duration": 4,
    "start_time": "2024-12-04T23:16:24.680Z"
   },
   {
    "duration": 2,
    "start_time": "2024-12-04T23:16:24.686Z"
   },
   {
    "duration": 18,
    "start_time": "2024-12-04T23:16:24.690Z"
   },
   {
    "duration": 10,
    "start_time": "2024-12-04T23:16:24.710Z"
   },
   {
    "duration": 7,
    "start_time": "2024-12-04T23:16:24.722Z"
   },
   {
    "duration": 39,
    "start_time": "2024-12-04T23:16:24.731Z"
   },
   {
    "duration": 30,
    "start_time": "2024-12-04T23:16:24.774Z"
   },
   {
    "duration": 9,
    "start_time": "2024-12-04T23:16:24.806Z"
   },
   {
    "duration": 83,
    "start_time": "2024-12-04T23:16:24.817Z"
   },
   {
    "duration": 50,
    "start_time": "2024-12-04T23:16:24.902Z"
   },
   {
    "duration": 30,
    "start_time": "2024-12-04T23:16:24.954Z"
   },
   {
    "duration": 7,
    "start_time": "2024-12-04T23:16:24.986Z"
   },
   {
    "duration": 29,
    "start_time": "2024-12-04T23:16:24.994Z"
   },
   {
    "duration": 2,
    "start_time": "2024-12-04T23:16:25.025Z"
   },
   {
    "duration": 49,
    "start_time": "2024-12-04T23:16:25.029Z"
   },
   {
    "duration": 9,
    "start_time": "2024-12-04T23:16:25.080Z"
   },
   {
    "duration": 96,
    "start_time": "2024-12-04T23:16:25.091Z"
   },
   {
    "duration": 2,
    "start_time": "2024-12-04T23:16:25.189Z"
   },
   {
    "duration": 9,
    "start_time": "2024-12-04T23:16:25.193Z"
   },
   {
    "duration": 27,
    "start_time": "2024-12-04T23:16:25.204Z"
   },
   {
    "duration": 43,
    "start_time": "2024-12-04T23:16:25.233Z"
   },
   {
    "duration": 19,
    "start_time": "2024-12-04T23:16:25.278Z"
   },
   {
    "duration": 116,
    "start_time": "2024-12-04T23:16:25.298Z"
   },
   {
    "duration": 20,
    "start_time": "2024-12-04T23:16:25.416Z"
   },
   {
    "duration": 43,
    "start_time": "2024-12-04T23:16:25.441Z"
   },
   {
    "duration": 11,
    "start_time": "2024-12-04T23:16:25.486Z"
   },
   {
    "duration": 107,
    "start_time": "2024-12-04T23:16:25.500Z"
   },
   {
    "duration": 185,
    "start_time": "2024-12-04T23:16:25.609Z"
   },
   {
    "duration": 684,
    "start_time": "2024-12-04T23:24:19.473Z"
   },
   {
    "duration": 143,
    "start_time": "2024-12-04T23:24:50.389Z"
   },
   {
    "duration": 129,
    "start_time": "2024-12-04T23:25:24.718Z"
   },
   {
    "duration": 163,
    "start_time": "2024-12-04T23:25:57.431Z"
   },
   {
    "duration": 311,
    "start_time": "2024-12-04T23:26:26.259Z"
   },
   {
    "duration": 264,
    "start_time": "2024-12-04T23:35:21.606Z"
   },
   {
    "duration": 186,
    "start_time": "2024-12-04T23:35:34.515Z"
   },
   {
    "duration": 672,
    "start_time": "2024-12-04T23:36:54.840Z"
   },
   {
    "duration": 159,
    "start_time": "2024-12-04T23:37:25.847Z"
   },
   {
    "duration": 3,
    "start_time": "2024-12-04T23:46:18.591Z"
   },
   {
    "duration": 4,
    "start_time": "2024-12-04T23:46:28.760Z"
   },
   {
    "duration": 14,
    "start_time": "2024-12-04T23:47:29.028Z"
   },
   {
    "duration": 3,
    "start_time": "2024-12-04T23:48:07.264Z"
   },
   {
    "duration": 4,
    "start_time": "2024-12-04T23:48:19.298Z"
   },
   {
    "duration": 4,
    "start_time": "2024-12-04T23:50:12.607Z"
   },
   {
    "duration": 4,
    "start_time": "2024-12-04T23:50:30.704Z"
   },
   {
    "duration": 14,
    "start_time": "2024-12-04T23:52:59.659Z"
   },
   {
    "duration": 14,
    "start_time": "2024-12-04T23:53:15.377Z"
   },
   {
    "duration": 15,
    "start_time": "2024-12-04T23:53:35.827Z"
   },
   {
    "duration": 6,
    "start_time": "2024-12-04T23:54:07.692Z"
   },
   {
    "duration": 5,
    "start_time": "2024-12-04T23:55:54.276Z"
   },
   {
    "duration": 2511,
    "start_time": "2024-12-05T01:01:58.705Z"
   },
   {
    "duration": 231,
    "start_time": "2024-12-05T01:02:01.218Z"
   },
   {
    "duration": 28,
    "start_time": "2024-12-05T01:02:01.451Z"
   },
   {
    "duration": 7,
    "start_time": "2024-12-05T01:02:01.480Z"
   },
   {
    "duration": 5,
    "start_time": "2024-12-05T01:02:01.489Z"
   },
   {
    "duration": 3,
    "start_time": "2024-12-05T01:02:01.495Z"
   },
   {
    "duration": 40,
    "start_time": "2024-12-05T01:02:01.500Z"
   },
   {
    "duration": 8,
    "start_time": "2024-12-05T01:02:01.542Z"
   },
   {
    "duration": 7,
    "start_time": "2024-12-05T01:02:01.552Z"
   },
   {
    "duration": 3,
    "start_time": "2024-12-05T01:02:01.561Z"
   },
   {
    "duration": 31,
    "start_time": "2024-12-05T01:02:01.565Z"
   },
   {
    "duration": 38,
    "start_time": "2024-12-05T01:02:01.598Z"
   },
   {
    "duration": 63,
    "start_time": "2024-12-05T01:02:01.638Z"
   },
   {
    "duration": 53,
    "start_time": "2024-12-05T01:02:01.706Z"
   },
   {
    "duration": 22,
    "start_time": "2024-12-05T01:02:01.761Z"
   },
   {
    "duration": 6,
    "start_time": "2024-12-05T01:02:01.785Z"
   },
   {
    "duration": 57,
    "start_time": "2024-12-05T01:02:01.793Z"
   },
   {
    "duration": 3,
    "start_time": "2024-12-05T01:02:01.852Z"
   },
   {
    "duration": 26,
    "start_time": "2024-12-05T01:02:01.857Z"
   },
   {
    "duration": 6,
    "start_time": "2024-12-05T01:02:01.885Z"
   },
   {
    "duration": 90,
    "start_time": "2024-12-05T01:02:01.893Z"
   },
   {
    "duration": 3,
    "start_time": "2024-12-05T01:02:01.985Z"
   },
   {
    "duration": 9,
    "start_time": "2024-12-05T01:02:01.991Z"
   },
   {
    "duration": 47,
    "start_time": "2024-12-05T01:02:02.002Z"
   },
   {
    "duration": 17,
    "start_time": "2024-12-05T01:02:02.051Z"
   },
   {
    "duration": 21,
    "start_time": "2024-12-05T01:02:02.070Z"
   },
   {
    "duration": 126,
    "start_time": "2024-12-05T01:02:02.093Z"
   },
   {
    "duration": 27,
    "start_time": "2024-12-05T01:02:02.220Z"
   },
   {
    "duration": 20,
    "start_time": "2024-12-05T01:02:02.249Z"
   },
   {
    "duration": 9,
    "start_time": "2024-12-05T01:02:02.271Z"
   },
   {
    "duration": 115,
    "start_time": "2024-12-05T01:02:02.282Z"
   },
   {
    "duration": 178,
    "start_time": "2024-12-05T01:02:02.399Z"
   },
   {
    "duration": 201,
    "start_time": "2024-12-05T01:02:02.580Z"
   },
   {
    "duration": 289,
    "start_time": "2024-12-05T01:02:18.578Z"
   },
   {
    "duration": 22,
    "start_time": "2024-12-05T01:02:29.396Z"
   },
   {
    "duration": 16,
    "start_time": "2024-12-05T01:04:06.524Z"
   },
   {
    "duration": 8,
    "start_time": "2024-12-05T01:04:22.986Z"
   },
   {
    "duration": 9,
    "start_time": "2024-12-05T01:04:35.416Z"
   },
   {
    "duration": 10,
    "start_time": "2024-12-05T01:04:47.916Z"
   },
   {
    "duration": 11,
    "start_time": "2024-12-05T01:06:06.370Z"
   },
   {
    "duration": 624,
    "start_time": "2024-12-05T02:00:01.413Z"
   },
   {
    "duration": 3,
    "start_time": "2024-12-05T02:00:17.911Z"
   },
   {
    "duration": 174,
    "start_time": "2024-12-05T02:00:17.916Z"
   },
   {
    "duration": 26,
    "start_time": "2024-12-05T02:00:18.091Z"
   },
   {
    "duration": 18,
    "start_time": "2024-12-05T02:00:18.120Z"
   },
   {
    "duration": 6,
    "start_time": "2024-12-05T02:00:18.141Z"
   },
   {
    "duration": 2,
    "start_time": "2024-12-05T02:00:18.148Z"
   },
   {
    "duration": 17,
    "start_time": "2024-12-05T02:00:18.153Z"
   },
   {
    "duration": 8,
    "start_time": "2024-12-05T02:00:18.172Z"
   },
   {
    "duration": 6,
    "start_time": "2024-12-05T02:00:18.182Z"
   },
   {
    "duration": 2,
    "start_time": "2024-12-05T02:00:18.191Z"
   },
   {
    "duration": 67,
    "start_time": "2024-12-05T02:00:18.194Z"
   },
   {
    "duration": 6,
    "start_time": "2024-12-05T02:00:18.263Z"
   },
   {
    "duration": 72,
    "start_time": "2024-12-05T02:00:18.270Z"
   },
   {
    "duration": 34,
    "start_time": "2024-12-05T02:00:18.345Z"
   },
   {
    "duration": 18,
    "start_time": "2024-12-05T02:00:18.382Z"
   },
   {
    "duration": 30,
    "start_time": "2024-12-05T02:00:18.401Z"
   },
   {
    "duration": 29,
    "start_time": "2024-12-05T02:00:18.433Z"
   },
   {
    "duration": 2,
    "start_time": "2024-12-05T02:00:18.464Z"
   },
   {
    "duration": 24,
    "start_time": "2024-12-05T02:00:18.468Z"
   },
   {
    "duration": 6,
    "start_time": "2024-12-05T02:00:18.494Z"
   },
   {
    "duration": 79,
    "start_time": "2024-12-05T02:00:18.502Z"
   },
   {
    "duration": 3,
    "start_time": "2024-12-05T02:00:18.583Z"
   },
   {
    "duration": 8,
    "start_time": "2024-12-05T02:00:18.587Z"
   },
   {
    "duration": 42,
    "start_time": "2024-12-05T02:00:18.597Z"
   },
   {
    "duration": 16,
    "start_time": "2024-12-05T02:00:18.641Z"
   },
   {
    "duration": 17,
    "start_time": "2024-12-05T02:00:18.659Z"
   },
   {
    "duration": 122,
    "start_time": "2024-12-05T02:00:18.678Z"
   },
   {
    "duration": 28,
    "start_time": "2024-12-05T02:00:18.804Z"
   },
   {
    "duration": 19,
    "start_time": "2024-12-05T02:00:18.833Z"
   },
   {
    "duration": 9,
    "start_time": "2024-12-05T02:00:18.854Z"
   },
   {
    "duration": 111,
    "start_time": "2024-12-05T02:00:18.864Z"
   },
   {
    "duration": 183,
    "start_time": "2024-12-05T02:00:18.977Z"
   },
   {
    "duration": 205,
    "start_time": "2024-12-05T02:00:19.162Z"
   },
   {
    "duration": 10,
    "start_time": "2024-12-05T02:00:19.370Z"
   },
   {
    "duration": 603,
    "start_time": "2024-12-05T02:00:22.513Z"
   },
   {
    "duration": 108,
    "start_time": "2024-12-05T02:01:29.069Z"
   },
   {
    "duration": 519,
    "start_time": "2024-12-05T02:09:40.731Z"
   },
   {
    "duration": 601,
    "start_time": "2024-12-05T02:15:59.660Z"
   },
   {
    "duration": 16,
    "start_time": "2024-12-05T02:19:22.613Z"
   },
   {
    "duration": 23,
    "start_time": "2024-12-05T02:19:32.664Z"
   },
   {
    "duration": 497,
    "start_time": "2024-12-05T02:19:48.503Z"
   },
   {
    "duration": 802,
    "start_time": "2024-12-05T02:20:10.366Z"
   },
   {
    "duration": 161,
    "start_time": "2024-12-05T02:20:11.171Z"
   },
   {
    "duration": 27,
    "start_time": "2024-12-05T02:20:11.333Z"
   },
   {
    "duration": 6,
    "start_time": "2024-12-05T02:20:11.362Z"
   },
   {
    "duration": 6,
    "start_time": "2024-12-05T02:20:11.371Z"
   },
   {
    "duration": 3,
    "start_time": "2024-12-05T02:20:11.379Z"
   },
   {
    "duration": 16,
    "start_time": "2024-12-05T02:20:11.385Z"
   },
   {
    "duration": 9,
    "start_time": "2024-12-05T02:20:11.431Z"
   },
   {
    "duration": 8,
    "start_time": "2024-12-05T02:20:11.442Z"
   },
   {
    "duration": 3,
    "start_time": "2024-12-05T02:20:11.451Z"
   },
   {
    "duration": 29,
    "start_time": "2024-12-05T02:20:11.456Z"
   },
   {
    "duration": 7,
    "start_time": "2024-12-05T02:20:11.487Z"
   },
   {
    "duration": 85,
    "start_time": "2024-12-05T02:20:11.496Z"
   },
   {
    "duration": 48,
    "start_time": "2024-12-05T02:20:11.584Z"
   },
   {
    "duration": 19,
    "start_time": "2024-12-05T02:20:11.634Z"
   },
   {
    "duration": 9,
    "start_time": "2024-12-05T02:20:11.656Z"
   },
   {
    "duration": 33,
    "start_time": "2024-12-05T02:20:11.667Z"
   },
   {
    "duration": 3,
    "start_time": "2024-12-05T02:20:11.701Z"
   },
   {
    "duration": 28,
    "start_time": "2024-12-05T02:20:11.732Z"
   },
   {
    "duration": 10,
    "start_time": "2024-12-05T02:20:11.762Z"
   },
   {
    "duration": 82,
    "start_time": "2024-12-05T02:20:11.775Z"
   },
   {
    "duration": 3,
    "start_time": "2024-12-05T02:20:11.859Z"
   },
   {
    "duration": 8,
    "start_time": "2024-12-05T02:20:11.863Z"
   },
   {
    "duration": 27,
    "start_time": "2024-12-05T02:20:11.873Z"
   },
   {
    "duration": 38,
    "start_time": "2024-12-05T02:20:11.902Z"
   },
   {
    "duration": 22,
    "start_time": "2024-12-05T02:20:11.943Z"
   },
   {
    "duration": 119,
    "start_time": "2024-12-05T02:20:11.967Z"
   },
   {
    "duration": 20,
    "start_time": "2024-12-05T02:20:12.088Z"
   },
   {
    "duration": 28,
    "start_time": "2024-12-05T02:20:12.109Z"
   },
   {
    "duration": 11,
    "start_time": "2024-12-05T02:20:12.139Z"
   },
   {
    "duration": 109,
    "start_time": "2024-12-05T02:20:12.152Z"
   },
   {
    "duration": 173,
    "start_time": "2024-12-05T02:20:12.263Z"
   },
   {
    "duration": 215,
    "start_time": "2024-12-05T02:20:12.438Z"
   },
   {
    "duration": 8,
    "start_time": "2024-12-05T02:20:12.655Z"
   },
   {
    "duration": 881,
    "start_time": "2024-12-05T02:20:16.532Z"
   },
   {
    "duration": 600,
    "start_time": "2024-12-05T02:25:19.774Z"
   },
   {
    "duration": 3,
    "start_time": "2024-12-05T02:25:23.617Z"
   },
   {
    "duration": 186,
    "start_time": "2024-12-05T02:25:23.623Z"
   },
   {
    "duration": 24,
    "start_time": "2024-12-05T02:25:23.812Z"
   },
   {
    "duration": 7,
    "start_time": "2024-12-05T02:25:23.837Z"
   },
   {
    "duration": 5,
    "start_time": "2024-12-05T02:25:23.848Z"
   },
   {
    "duration": 2,
    "start_time": "2024-12-05T02:25:23.855Z"
   },
   {
    "duration": 16,
    "start_time": "2024-12-05T02:25:23.859Z"
   },
   {
    "duration": 7,
    "start_time": "2024-12-05T02:25:23.877Z"
   },
   {
    "duration": 6,
    "start_time": "2024-12-05T02:25:23.885Z"
   },
   {
    "duration": 2,
    "start_time": "2024-12-05T02:25:23.931Z"
   },
   {
    "duration": 30,
    "start_time": "2024-12-05T02:25:23.935Z"
   },
   {
    "duration": 8,
    "start_time": "2024-12-05T02:25:23.967Z"
   },
   {
    "duration": 85,
    "start_time": "2024-12-05T02:25:23.977Z"
   },
   {
    "duration": 32,
    "start_time": "2024-12-05T02:25:24.066Z"
   },
   {
    "duration": 32,
    "start_time": "2024-12-05T02:25:24.100Z"
   },
   {
    "duration": 7,
    "start_time": "2024-12-05T02:25:24.135Z"
   },
   {
    "duration": 29,
    "start_time": "2024-12-05T02:25:24.144Z"
   },
   {
    "duration": 3,
    "start_time": "2024-12-05T02:25:24.175Z"
   },
   {
    "duration": 44,
    "start_time": "2024-12-05T02:25:24.180Z"
   },
   {
    "duration": 13,
    "start_time": "2024-12-05T02:25:24.225Z"
   },
   {
    "duration": 52,
    "start_time": "2024-12-05T02:25:24.239Z"
   },
   {
    "duration": 2,
    "start_time": "2024-12-05T02:25:24.293Z"
   },
   {
    "duration": 35,
    "start_time": "2024-12-05T02:25:24.297Z"
   },
   {
    "duration": 25,
    "start_time": "2024-12-05T02:25:24.334Z"
   },
   {
    "duration": 19,
    "start_time": "2024-12-05T02:25:24.363Z"
   },
   {
    "duration": 18,
    "start_time": "2024-12-05T02:25:24.384Z"
   },
   {
    "duration": 122,
    "start_time": "2024-12-05T02:25:24.404Z"
   },
   {
    "duration": 21,
    "start_time": "2024-12-05T02:25:24.531Z"
   },
   {
    "duration": 21,
    "start_time": "2024-12-05T02:25:24.554Z"
   },
   {
    "duration": 13,
    "start_time": "2024-12-05T02:25:24.577Z"
   },
   {
    "duration": 120,
    "start_time": "2024-12-05T02:25:24.592Z"
   },
   {
    "duration": 178,
    "start_time": "2024-12-05T02:25:24.714Z"
   },
   {
    "duration": 197,
    "start_time": "2024-12-05T02:25:24.894Z"
   },
   {
    "duration": 9,
    "start_time": "2024-12-05T02:25:25.094Z"
   },
   {
    "duration": 108,
    "start_time": "2024-12-05T02:26:22.685Z"
   },
   {
    "duration": 10,
    "start_time": "2024-12-05T02:40:49.646Z"
   },
   {
    "duration": 161,
    "start_time": "2024-12-05T02:41:15.270Z"
   },
   {
    "duration": 158,
    "start_time": "2024-12-05T02:41:46.200Z"
   },
   {
    "duration": 164,
    "start_time": "2024-12-05T02:42:58.285Z"
   },
   {
    "duration": 153,
    "start_time": "2024-12-05T02:43:10.625Z"
   },
   {
    "duration": 10,
    "start_time": "2024-12-05T02:47:29.327Z"
   },
   {
    "duration": 9,
    "start_time": "2024-12-05T02:47:43.605Z"
   },
   {
    "duration": 12,
    "start_time": "2024-12-05T02:47:46.432Z"
   },
   {
    "duration": 171,
    "start_time": "2024-12-05T02:48:02.833Z"
   },
   {
    "duration": 238,
    "start_time": "2024-12-05T02:52:04.721Z"
   },
   {
    "duration": 159,
    "start_time": "2024-12-05T02:52:45.948Z"
   },
   {
    "duration": 155,
    "start_time": "2024-12-05T02:53:09.323Z"
   },
   {
    "duration": 156,
    "start_time": "2024-12-05T02:53:19.967Z"
   },
   {
    "duration": 162,
    "start_time": "2024-12-05T02:53:48.071Z"
   },
   {
    "duration": 168,
    "start_time": "2024-12-05T02:54:06.448Z"
   },
   {
    "duration": 167,
    "start_time": "2024-12-05T03:00:03.741Z"
   },
   {
    "duration": 160,
    "start_time": "2024-12-05T03:00:14.379Z"
   },
   {
    "duration": 164,
    "start_time": "2024-12-05T03:02:18.080Z"
   },
   {
    "duration": 16,
    "start_time": "2024-12-05T03:26:58.584Z"
   },
   {
    "duration": 10,
    "start_time": "2024-12-05T03:28:17.882Z"
   },
   {
    "duration": 10,
    "start_time": "2024-12-05T03:29:19.250Z"
   },
   {
    "duration": 21,
    "start_time": "2024-12-05T03:29:26.191Z"
   },
   {
    "duration": 13,
    "start_time": "2024-12-05T03:31:32.354Z"
   },
   {
    "duration": 8,
    "start_time": "2024-12-05T03:31:46.476Z"
   },
   {
    "duration": 17,
    "start_time": "2024-12-05T03:32:47.823Z"
   },
   {
    "duration": 17,
    "start_time": "2024-12-05T03:34:58.815Z"
   },
   {
    "duration": 4,
    "start_time": "2024-12-05T03:36:01.150Z"
   },
   {
    "duration": 218,
    "start_time": "2024-12-05T03:36:01.163Z"
   },
   {
    "duration": 33,
    "start_time": "2024-12-05T03:36:01.384Z"
   },
   {
    "duration": 13,
    "start_time": "2024-12-05T03:36:01.418Z"
   },
   {
    "duration": 5,
    "start_time": "2024-12-05T03:36:01.433Z"
   },
   {
    "duration": 2,
    "start_time": "2024-12-05T03:36:01.441Z"
   },
   {
    "duration": 21,
    "start_time": "2024-12-05T03:36:01.445Z"
   },
   {
    "duration": 7,
    "start_time": "2024-12-05T03:36:01.468Z"
   },
   {
    "duration": 7,
    "start_time": "2024-12-05T03:36:01.477Z"
   },
   {
    "duration": 3,
    "start_time": "2024-12-05T03:36:01.486Z"
   },
   {
    "duration": 70,
    "start_time": "2024-12-05T03:36:01.491Z"
   },
   {
    "duration": 6,
    "start_time": "2024-12-05T03:36:01.563Z"
   },
   {
    "duration": 71,
    "start_time": "2024-12-05T03:36:01.571Z"
   },
   {
    "duration": 38,
    "start_time": "2024-12-05T03:36:01.644Z"
   },
   {
    "duration": 18,
    "start_time": "2024-12-05T03:36:01.687Z"
   },
   {
    "duration": 27,
    "start_time": "2024-12-05T03:36:01.706Z"
   },
   {
    "duration": 31,
    "start_time": "2024-12-05T03:36:01.735Z"
   },
   {
    "duration": 3,
    "start_time": "2024-12-05T03:36:01.769Z"
   },
   {
    "duration": 25,
    "start_time": "2024-12-05T03:36:01.774Z"
   },
   {
    "duration": 30,
    "start_time": "2024-12-05T03:36:01.801Z"
   },
   {
    "duration": 57,
    "start_time": "2024-12-05T03:36:01.833Z"
   },
   {
    "duration": 3,
    "start_time": "2024-12-05T03:36:01.891Z"
   },
   {
    "duration": 7,
    "start_time": "2024-12-05T03:36:01.896Z"
   },
   {
    "duration": 54,
    "start_time": "2024-12-05T03:36:01.905Z"
   },
   {
    "duration": 19,
    "start_time": "2024-12-05T03:36:01.961Z"
   },
   {
    "duration": 17,
    "start_time": "2024-12-05T03:36:01.982Z"
   },
   {
    "duration": 124,
    "start_time": "2024-12-05T03:36:02.000Z"
   },
   {
    "duration": 28,
    "start_time": "2024-12-05T03:36:02.126Z"
   },
   {
    "duration": 21,
    "start_time": "2024-12-05T03:36:02.157Z"
   },
   {
    "duration": 9,
    "start_time": "2024-12-05T03:36:02.180Z"
   },
   {
    "duration": 107,
    "start_time": "2024-12-05T03:36:02.191Z"
   },
   {
    "duration": 171,
    "start_time": "2024-12-05T03:36:02.300Z"
   },
   {
    "duration": 194,
    "start_time": "2024-12-05T03:36:02.473Z"
   },
   {
    "duration": 9,
    "start_time": "2024-12-05T03:36:02.669Z"
   },
   {
    "duration": 231,
    "start_time": "2024-12-05T03:36:02.679Z"
   },
   {
    "duration": 168,
    "start_time": "2024-12-05T03:36:02.912Z"
   },
   {
    "duration": 17,
    "start_time": "2024-12-05T03:56:45.245Z"
   },
   {
    "duration": 21,
    "start_time": "2024-12-05T03:56:52.128Z"
   },
   {
    "duration": 424,
    "start_time": "2024-12-05T04:27:54.150Z"
   },
   {
    "duration": 15,
    "start_time": "2024-12-05T04:28:12.737Z"
   },
   {
    "duration": 797,
    "start_time": "2024-12-05T04:29:18.348Z"
   },
   {
    "duration": 157,
    "start_time": "2024-12-05T04:29:19.148Z"
   },
   {
    "duration": 27,
    "start_time": "2024-12-05T04:29:19.307Z"
   },
   {
    "duration": 7,
    "start_time": "2024-12-05T04:29:19.336Z"
   },
   {
    "duration": 5,
    "start_time": "2024-12-05T04:29:19.344Z"
   },
   {
    "duration": 4,
    "start_time": "2024-12-05T04:29:19.350Z"
   },
   {
    "duration": 16,
    "start_time": "2024-12-05T04:29:19.356Z"
   },
   {
    "duration": 8,
    "start_time": "2024-12-05T04:29:19.373Z"
   },
   {
    "duration": 5,
    "start_time": "2024-12-05T04:29:19.383Z"
   },
   {
    "duration": 39,
    "start_time": "2024-12-05T04:29:19.392Z"
   },
   {
    "duration": 30,
    "start_time": "2024-12-05T04:29:19.433Z"
   },
   {
    "duration": 7,
    "start_time": "2024-12-05T04:29:19.464Z"
   },
   {
    "duration": 72,
    "start_time": "2024-12-05T04:29:19.473Z"
   },
   {
    "duration": 36,
    "start_time": "2024-12-05T04:29:19.547Z"
   },
   {
    "duration": 18,
    "start_time": "2024-12-05T04:29:19.584Z"
   },
   {
    "duration": 6,
    "start_time": "2024-12-05T04:29:19.603Z"
   },
   {
    "duration": 31,
    "start_time": "2024-12-05T04:29:19.632Z"
   },
   {
    "duration": 2,
    "start_time": "2024-12-05T04:29:19.665Z"
   },
   {
    "duration": 28,
    "start_time": "2024-12-05T04:29:19.669Z"
   },
   {
    "duration": 6,
    "start_time": "2024-12-05T04:29:19.698Z"
   },
   {
    "duration": 93,
    "start_time": "2024-12-05T04:29:19.706Z"
   },
   {
    "duration": 2,
    "start_time": "2024-12-05T04:29:19.801Z"
   },
   {
    "duration": 9,
    "start_time": "2024-12-05T04:29:19.805Z"
   },
   {
    "duration": 39,
    "start_time": "2024-12-05T04:29:19.816Z"
   },
   {
    "duration": 17,
    "start_time": "2024-12-05T04:29:19.857Z"
   },
   {
    "duration": 17,
    "start_time": "2024-12-05T04:29:19.876Z"
   },
   {
    "duration": 124,
    "start_time": "2024-12-05T04:29:19.895Z"
   },
   {
    "duration": 20,
    "start_time": "2024-12-05T04:29:20.031Z"
   },
   {
    "duration": 22,
    "start_time": "2024-12-05T04:29:20.052Z"
   },
   {
    "duration": 10,
    "start_time": "2024-12-05T04:29:20.076Z"
   },
   {
    "duration": 114,
    "start_time": "2024-12-05T04:29:20.089Z"
   },
   {
    "duration": 174,
    "start_time": "2024-12-05T04:29:20.205Z"
   },
   {
    "duration": 203,
    "start_time": "2024-12-05T04:29:20.381Z"
   },
   {
    "duration": 9,
    "start_time": "2024-12-05T04:29:20.586Z"
   },
   {
    "duration": 172,
    "start_time": "2024-12-05T04:29:20.596Z"
   },
   {
    "duration": 167,
    "start_time": "2024-12-05T04:29:20.770Z"
   },
   {
    "duration": 2,
    "start_time": "2024-12-05T04:29:20.939Z"
   },
   {
    "duration": 168,
    "start_time": "2024-12-05T04:29:20.943Z"
   },
   {
    "duration": 214,
    "start_time": "2024-12-05T04:29:23.668Z"
   },
   {
    "duration": 18,
    "start_time": "2024-12-05T04:30:01.359Z"
   },
   {
    "duration": 187,
    "start_time": "2024-12-05T04:30:20.716Z"
   },
   {
    "duration": 187,
    "start_time": "2024-12-05T04:30:45.992Z"
   },
   {
    "duration": 319,
    "start_time": "2024-12-05T04:33:15.648Z"
   },
   {
    "duration": 7,
    "start_time": "2024-12-05T04:33:58.826Z"
   },
   {
    "duration": 273,
    "start_time": "2024-12-05T04:34:06.236Z"
   },
   {
    "duration": 206,
    "start_time": "2024-12-05T04:37:36.892Z"
   },
   {
    "duration": 227,
    "start_time": "2024-12-05T04:39:18.494Z"
   },
   {
    "duration": 3,
    "start_time": "2024-12-05T05:11:27.747Z"
   },
   {
    "duration": 158,
    "start_time": "2024-12-05T05:11:27.752Z"
   },
   {
    "duration": 26,
    "start_time": "2024-12-05T05:11:27.912Z"
   },
   {
    "duration": 7,
    "start_time": "2024-12-05T05:11:27.940Z"
   },
   {
    "duration": 4,
    "start_time": "2024-12-05T05:11:27.951Z"
   },
   {
    "duration": 3,
    "start_time": "2024-12-05T05:11:27.957Z"
   },
   {
    "duration": 17,
    "start_time": "2024-12-05T05:11:27.961Z"
   },
   {
    "duration": 10,
    "start_time": "2024-12-05T05:11:27.979Z"
   },
   {
    "duration": 6,
    "start_time": "2024-12-05T05:11:27.990Z"
   },
   {
    "duration": 35,
    "start_time": "2024-12-05T05:11:27.997Z"
   },
   {
    "duration": 30,
    "start_time": "2024-12-05T05:11:28.033Z"
   },
   {
    "duration": 6,
    "start_time": "2024-12-05T05:11:28.065Z"
   },
   {
    "duration": 78,
    "start_time": "2024-12-05T05:11:28.076Z"
   },
   {
    "duration": 34,
    "start_time": "2024-12-05T05:11:28.155Z"
   },
   {
    "duration": 17,
    "start_time": "2024-12-05T05:11:28.191Z"
   },
   {
    "duration": 22,
    "start_time": "2024-12-05T05:11:28.210Z"
   },
   {
    "duration": 31,
    "start_time": "2024-12-05T05:11:28.234Z"
   },
   {
    "duration": 2,
    "start_time": "2024-12-05T05:11:28.267Z"
   },
   {
    "duration": 23,
    "start_time": "2024-12-05T05:11:28.271Z"
   },
   {
    "duration": 6,
    "start_time": "2024-12-05T05:11:28.296Z"
   },
   {
    "duration": 50,
    "start_time": "2024-12-05T05:11:28.333Z"
   },
   {
    "duration": 2,
    "start_time": "2024-12-05T05:11:28.385Z"
   },
   {
    "duration": 8,
    "start_time": "2024-12-05T05:11:28.389Z"
   },
   {
    "duration": 41,
    "start_time": "2024-12-05T05:11:28.399Z"
   },
   {
    "duration": 16,
    "start_time": "2024-12-05T05:11:28.442Z"
   },
   {
    "duration": 17,
    "start_time": "2024-12-05T05:11:28.460Z"
   },
   {
    "duration": 124,
    "start_time": "2024-12-05T05:11:28.479Z"
   },
   {
    "duration": 28,
    "start_time": "2024-12-05T05:11:28.604Z"
   },
   {
    "duration": 19,
    "start_time": "2024-12-05T05:11:28.633Z"
   },
   {
    "duration": 9,
    "start_time": "2024-12-05T05:11:28.654Z"
   },
   {
    "duration": 105,
    "start_time": "2024-12-05T05:11:28.666Z"
   },
   {
    "duration": 167,
    "start_time": "2024-12-05T05:11:28.773Z"
   },
   {
    "duration": 277,
    "start_time": "2024-12-05T05:11:28.942Z"
   },
   {
    "duration": 17,
    "start_time": "2024-12-05T05:11:29.221Z"
   },
   {
    "duration": 217,
    "start_time": "2024-12-05T05:11:29.239Z"
   },
   {
    "duration": 158,
    "start_time": "2024-12-05T05:11:29.458Z"
   },
   {
    "duration": 10,
    "start_time": "2024-12-05T05:11:29.621Z"
   },
   {
    "duration": 218,
    "start_time": "2024-12-05T05:11:29.633Z"
   },
   {
    "duration": 163,
    "start_time": "2024-12-05T05:11:29.853Z"
   },
   {
    "duration": 186,
    "start_time": "2024-12-05T05:11:58.276Z"
   },
   {
    "duration": 161,
    "start_time": "2024-12-05T05:14:04.667Z"
   },
   {
    "duration": 21,
    "start_time": "2024-12-05T05:15:02.515Z"
   },
   {
    "duration": 299,
    "start_time": "2024-12-05T05:15:18.053Z"
   },
   {
    "duration": 217,
    "start_time": "2024-12-05T05:19:17.913Z"
   },
   {
    "duration": 11,
    "start_time": "2024-12-05T05:19:41.292Z"
   },
   {
    "duration": 78,
    "start_time": "2024-12-05T05:30:33.027Z"
   },
   {
    "duration": 77,
    "start_time": "2024-12-05T05:31:02.982Z"
   },
   {
    "duration": 5,
    "start_time": "2024-12-05T05:34:05.915Z"
   },
   {
    "duration": 18,
    "start_time": "2024-12-05T05:35:32.230Z"
   },
   {
    "duration": 455,
    "start_time": "2024-12-05T05:35:49.897Z"
   },
   {
    "duration": 248,
    "start_time": "2024-12-05T05:36:24.176Z"
   },
   {
    "duration": 795,
    "start_time": "2024-12-05T05:57:01.845Z"
   },
   {
    "duration": 167,
    "start_time": "2024-12-05T05:57:02.644Z"
   },
   {
    "duration": 28,
    "start_time": "2024-12-05T05:57:02.812Z"
   },
   {
    "duration": 7,
    "start_time": "2024-12-05T05:57:02.842Z"
   },
   {
    "duration": 4,
    "start_time": "2024-12-05T05:57:02.852Z"
   },
   {
    "duration": 3,
    "start_time": "2024-12-05T05:57:02.858Z"
   },
   {
    "duration": 19,
    "start_time": "2024-12-05T05:57:02.862Z"
   },
   {
    "duration": 8,
    "start_time": "2024-12-05T05:57:02.882Z"
   },
   {
    "duration": 39,
    "start_time": "2024-12-05T05:57:02.892Z"
   },
   {
    "duration": 3,
    "start_time": "2024-12-05T05:57:02.932Z"
   },
   {
    "duration": 29,
    "start_time": "2024-12-05T05:57:02.937Z"
   },
   {
    "duration": 6,
    "start_time": "2024-12-05T05:57:02.968Z"
   },
   {
    "duration": 78,
    "start_time": "2024-12-05T05:57:02.976Z"
   },
   {
    "duration": 35,
    "start_time": "2024-12-05T05:57:03.058Z"
   },
   {
    "duration": 18,
    "start_time": "2024-12-05T05:57:03.095Z"
   },
   {
    "duration": 7,
    "start_time": "2024-12-05T05:57:03.132Z"
   },
   {
    "duration": 29,
    "start_time": "2024-12-05T05:57:03.141Z"
   },
   {
    "duration": 3,
    "start_time": "2024-12-05T05:57:03.171Z"
   },
   {
    "duration": 26,
    "start_time": "2024-12-05T05:57:03.175Z"
   },
   {
    "duration": 31,
    "start_time": "2024-12-05T05:57:03.202Z"
   },
   {
    "duration": 56,
    "start_time": "2024-12-05T05:57:03.235Z"
   },
   {
    "duration": 2,
    "start_time": "2024-12-05T05:57:03.293Z"
   },
   {
    "duration": 7,
    "start_time": "2024-12-05T05:57:03.297Z"
   },
   {
    "duration": 49,
    "start_time": "2024-12-05T05:57:03.306Z"
   },
   {
    "duration": 17,
    "start_time": "2024-12-05T05:57:03.356Z"
   },
   {
    "duration": 17,
    "start_time": "2024-12-05T05:57:03.374Z"
   },
   {
    "duration": 121,
    "start_time": "2024-12-05T05:57:03.392Z"
   },
   {
    "duration": 28,
    "start_time": "2024-12-05T05:57:03.515Z"
   },
   {
    "duration": 19,
    "start_time": "2024-12-05T05:57:03.545Z"
   },
   {
    "duration": 9,
    "start_time": "2024-12-05T05:57:03.565Z"
   },
   {
    "duration": 111,
    "start_time": "2024-12-05T05:57:03.576Z"
   },
   {
    "duration": 184,
    "start_time": "2024-12-05T05:57:03.689Z"
   },
   {
    "duration": 199,
    "start_time": "2024-12-05T05:57:03.874Z"
   },
   {
    "duration": 9,
    "start_time": "2024-12-05T05:57:04.075Z"
   },
   {
    "duration": 295,
    "start_time": "2024-12-05T05:57:04.086Z"
   },
   {
    "duration": 183,
    "start_time": "2024-12-05T05:57:04.383Z"
   },
   {
    "duration": 3,
    "start_time": "2024-12-05T05:57:04.569Z"
   },
   {
    "duration": 708,
    "start_time": "2024-12-05T05:57:49.316Z"
   },
   {
    "duration": 185,
    "start_time": "2024-12-05T06:02:38.488Z"
   },
   {
    "duration": 303,
    "start_time": "2024-12-05T06:04:13.704Z"
   },
   {
    "duration": 183,
    "start_time": "2024-12-05T06:04:33.222Z"
   },
   {
    "duration": 189,
    "start_time": "2024-12-05T06:04:47.520Z"
   },
   {
    "duration": 161,
    "start_time": "2024-12-05T06:05:47.397Z"
   },
   {
    "duration": 202,
    "start_time": "2024-12-05T06:06:41.438Z"
   },
   {
    "duration": 171,
    "start_time": "2024-12-05T06:10:57.325Z"
   },
   {
    "duration": 3,
    "start_time": "2024-12-05T06:11:34.886Z"
   },
   {
    "duration": 161,
    "start_time": "2024-12-05T06:11:34.892Z"
   },
   {
    "duration": 25,
    "start_time": "2024-12-05T06:11:35.054Z"
   },
   {
    "duration": 7,
    "start_time": "2024-12-05T06:11:35.080Z"
   },
   {
    "duration": 5,
    "start_time": "2024-12-05T06:11:35.089Z"
   },
   {
    "duration": 2,
    "start_time": "2024-12-05T06:11:35.095Z"
   },
   {
    "duration": 41,
    "start_time": "2024-12-05T06:11:35.099Z"
   },
   {
    "duration": 7,
    "start_time": "2024-12-05T06:11:35.142Z"
   },
   {
    "duration": 6,
    "start_time": "2024-12-05T06:11:35.151Z"
   },
   {
    "duration": 2,
    "start_time": "2024-12-05T06:11:35.158Z"
   },
   {
    "duration": 29,
    "start_time": "2024-12-05T06:11:35.162Z"
   },
   {
    "duration": 6,
    "start_time": "2024-12-05T06:11:35.193Z"
   },
   {
    "duration": 82,
    "start_time": "2024-12-05T06:11:35.200Z"
   },
   {
    "duration": 33,
    "start_time": "2024-12-05T06:11:35.286Z"
   },
   {
    "duration": 19,
    "start_time": "2024-12-05T06:11:35.331Z"
   },
   {
    "duration": 5,
    "start_time": "2024-12-05T06:11:35.352Z"
   },
   {
    "duration": 30,
    "start_time": "2024-12-05T06:11:35.359Z"
   },
   {
    "duration": 2,
    "start_time": "2024-12-05T06:11:35.390Z"
   },
   {
    "duration": 53,
    "start_time": "2024-12-05T06:11:35.394Z"
   },
   {
    "duration": 6,
    "start_time": "2024-12-05T06:11:35.449Z"
   },
   {
    "duration": 51,
    "start_time": "2024-12-05T06:11:35.457Z"
   },
   {
    "duration": 2,
    "start_time": "2024-12-05T06:11:35.510Z"
   },
   {
    "duration": 8,
    "start_time": "2024-12-05T06:11:35.531Z"
   },
   {
    "duration": 27,
    "start_time": "2024-12-05T06:11:35.540Z"
   },
   {
    "duration": 16,
    "start_time": "2024-12-05T06:11:35.569Z"
   },
   {
    "duration": 16,
    "start_time": "2024-12-05T06:11:35.587Z"
   },
   {
    "duration": 127,
    "start_time": "2024-12-05T06:11:35.605Z"
   },
   {
    "duration": 19,
    "start_time": "2024-12-05T06:11:35.734Z"
   },
   {
    "duration": 19,
    "start_time": "2024-12-05T06:11:35.755Z"
   },
   {
    "duration": 10,
    "start_time": "2024-12-05T06:11:35.776Z"
   },
   {
    "duration": 116,
    "start_time": "2024-12-05T06:11:35.788Z"
   },
   {
    "duration": 167,
    "start_time": "2024-12-05T06:11:35.907Z"
   },
   {
    "duration": 197,
    "start_time": "2024-12-05T06:11:36.076Z"
   },
   {
    "duration": 9,
    "start_time": "2024-12-05T06:11:36.276Z"
   },
   {
    "duration": 338,
    "start_time": "2024-12-05T06:11:36.287Z"
   },
   {
    "duration": 165,
    "start_time": "2024-12-05T06:11:36.627Z"
   },
   {
    "duration": 185,
    "start_time": "2024-12-05T06:11:36.793Z"
   },
   {
    "duration": 16,
    "start_time": "2024-12-05T06:19:41.312Z"
   },
   {
    "duration": 15,
    "start_time": "2024-12-05T06:20:43.266Z"
   },
   {
    "duration": 15,
    "start_time": "2024-12-05T06:22:10.382Z"
   },
   {
    "duration": 14,
    "start_time": "2024-12-05T06:22:18.391Z"
   },
   {
    "duration": 11,
    "start_time": "2024-12-05T06:23:15.227Z"
   },
   {
    "duration": 107,
    "start_time": "2024-12-05T06:24:00.213Z"
   },
   {
    "duration": 108,
    "start_time": "2024-12-05T06:24:15.872Z"
   },
   {
    "duration": 113,
    "start_time": "2024-12-05T06:24:50.103Z"
   },
   {
    "duration": 114,
    "start_time": "2024-12-05T06:26:32.374Z"
   },
   {
    "duration": 194,
    "start_time": "2024-12-05T06:31:06.675Z"
   },
   {
    "duration": 46,
    "start_time": "2024-12-05T06:32:09.286Z"
   },
   {
    "duration": 42,
    "start_time": "2024-12-05T06:32:21.287Z"
   },
   {
    "duration": 433,
    "start_time": "2024-12-05T06:32:49.831Z"
   },
   {
    "duration": 14,
    "start_time": "2024-12-05T06:33:12.584Z"
   },
   {
    "duration": 12,
    "start_time": "2024-12-05T06:34:59.221Z"
   },
   {
    "duration": 10,
    "start_time": "2024-12-05T06:44:00.550Z"
   },
   {
    "duration": 95,
    "start_time": "2024-12-05T06:44:14.559Z"
   },
   {
    "duration": 177,
    "start_time": "2024-12-05T06:46:23.333Z"
   },
   {
    "duration": 20,
    "start_time": "2024-12-05T06:51:28.943Z"
   },
   {
    "duration": 17,
    "start_time": "2024-12-05T06:52:10.724Z"
   },
   {
    "duration": 18,
    "start_time": "2024-12-05T06:52:15.231Z"
   },
   {
    "duration": 66,
    "start_time": "2024-12-05T06:52:35.979Z"
   },
   {
    "duration": 309,
    "start_time": "2024-12-05T06:52:47.031Z"
   },
   {
    "duration": 7,
    "start_time": "2024-12-05T06:55:25.955Z"
   },
   {
    "duration": 43,
    "start_time": "2024-12-05T06:57:14.377Z"
   },
   {
    "duration": 45,
    "start_time": "2024-12-05T06:57:24.126Z"
   },
   {
    "duration": 173,
    "start_time": "2024-12-05T07:00:42.872Z"
   },
   {
    "duration": 123,
    "start_time": "2024-12-05T07:01:19.670Z"
   },
   {
    "duration": 4,
    "start_time": "2024-12-05T07:12:01.042Z"
   },
   {
    "duration": 125,
    "start_time": "2024-12-05T07:12:24.227Z"
   },
   {
    "duration": 500,
    "start_time": "2024-12-05T07:16:30.165Z"
   },
   {
    "duration": 531,
    "start_time": "2024-12-05T07:19:44.634Z"
   },
   {
    "duration": 18,
    "start_time": "2024-12-05T07:23:54.696Z"
   },
   {
    "duration": 161,
    "start_time": "2024-12-05T15:32:06.686Z"
   },
   {
    "duration": 2491,
    "start_time": "2024-12-05T15:32:10.676Z"
   },
   {
    "duration": 227,
    "start_time": "2024-12-05T15:32:13.169Z"
   },
   {
    "duration": 28,
    "start_time": "2024-12-05T15:32:13.398Z"
   },
   {
    "duration": 7,
    "start_time": "2024-12-05T15:32:13.428Z"
   },
   {
    "duration": 5,
    "start_time": "2024-12-05T15:32:13.436Z"
   },
   {
    "duration": 3,
    "start_time": "2024-12-05T15:32:13.442Z"
   },
   {
    "duration": 16,
    "start_time": "2024-12-05T15:32:13.470Z"
   },
   {
    "duration": 8,
    "start_time": "2024-12-05T15:32:13.487Z"
   },
   {
    "duration": 5,
    "start_time": "2024-12-05T15:32:13.497Z"
   },
   {
    "duration": 2,
    "start_time": "2024-12-05T15:32:13.506Z"
   },
   {
    "duration": 29,
    "start_time": "2024-12-05T15:32:13.510Z"
   },
   {
    "duration": 8,
    "start_time": "2024-12-05T15:32:13.570Z"
   },
   {
    "duration": 51,
    "start_time": "2024-12-05T15:32:13.579Z"
   },
   {
    "duration": 50,
    "start_time": "2024-12-05T15:32:13.632Z"
   },
   {
    "duration": 18,
    "start_time": "2024-12-05T15:32:13.683Z"
   },
   {
    "duration": 6,
    "start_time": "2024-12-05T15:32:13.702Z"
   },
   {
    "duration": 30,
    "start_time": "2024-12-05T15:32:13.709Z"
   },
   {
    "duration": 2,
    "start_time": "2024-12-05T15:32:13.741Z"
   },
   {
    "duration": 25,
    "start_time": "2024-12-05T15:32:13.770Z"
   },
   {
    "duration": 6,
    "start_time": "2024-12-05T15:32:13.796Z"
   },
   {
    "duration": 81,
    "start_time": "2024-12-05T15:32:13.804Z"
   },
   {
    "duration": 2,
    "start_time": "2024-12-05T15:32:13.887Z"
   },
   {
    "duration": 7,
    "start_time": "2024-12-05T15:32:13.890Z"
   },
   {
    "duration": 27,
    "start_time": "2024-12-05T15:32:13.898Z"
   },
   {
    "duration": 52,
    "start_time": "2024-12-05T15:32:13.927Z"
   },
   {
    "duration": 19,
    "start_time": "2024-12-05T15:32:13.980Z"
   },
   {
    "duration": 128,
    "start_time": "2024-12-05T15:32:14.001Z"
   },
   {
    "duration": 21,
    "start_time": "2024-12-05T15:32:14.134Z"
   },
   {
    "duration": 32,
    "start_time": "2024-12-05T15:32:14.156Z"
   },
   {
    "duration": 10,
    "start_time": "2024-12-05T15:32:14.189Z"
   },
   {
    "duration": 115,
    "start_time": "2024-12-05T15:32:14.201Z"
   },
   {
    "duration": 181,
    "start_time": "2024-12-05T15:32:14.318Z"
   },
   {
    "duration": 243,
    "start_time": "2024-12-05T15:32:14.501Z"
   },
   {
    "duration": 10,
    "start_time": "2024-12-05T15:32:14.746Z"
   },
   {
    "duration": 216,
    "start_time": "2024-12-05T15:32:14.769Z"
   },
   {
    "duration": 158,
    "start_time": "2024-12-05T15:32:14.987Z"
   },
   {
    "duration": 185,
    "start_time": "2024-12-05T15:32:15.147Z"
   },
   {
    "duration": 151,
    "start_time": "2024-12-05T15:32:15.334Z"
   },
   {
    "duration": 537,
    "start_time": "2024-12-05T15:32:15.487Z"
   },
   {
    "duration": 17,
    "start_time": "2024-12-05T15:32:16.026Z"
   },
   {
    "duration": 231,
    "start_time": "2024-12-05T15:32:16.045Z"
   },
   {
    "duration": 213,
    "start_time": "2024-12-05T15:32:16.277Z"
   },
   {
    "duration": 11,
    "start_time": "2024-12-05T15:32:16.492Z"
   },
   {
    "duration": 227,
    "start_time": "2024-12-05T15:32:16.504Z"
   },
   {
    "duration": 160,
    "start_time": "2024-12-05T15:32:18.099Z"
   },
   {
    "duration": 88,
    "start_time": "2024-12-05T15:34:14.683Z"
   },
   {
    "duration": 518,
    "start_time": "2024-12-05T15:36:29.482Z"
   },
   {
    "duration": 602,
    "start_time": "2024-12-05T15:38:11.299Z"
   },
   {
    "duration": 534,
    "start_time": "2024-12-05T15:40:57.095Z"
   },
   {
    "duration": 538,
    "start_time": "2024-12-05T15:41:19.362Z"
   },
   {
    "duration": 517,
    "start_time": "2024-12-05T15:42:01.781Z"
   },
   {
    "duration": 828,
    "start_time": "2024-12-05T15:42:07.984Z"
   },
   {
    "duration": 523,
    "start_time": "2024-12-05T15:42:53.821Z"
   },
   {
    "duration": 476,
    "start_time": "2024-12-05T15:45:35.065Z"
   },
   {
    "duration": 80,
    "start_time": "2024-12-05T15:45:47.854Z"
   },
   {
    "duration": 538,
    "start_time": "2024-12-05T15:46:02.307Z"
   },
   {
    "duration": 558,
    "start_time": "2024-12-05T15:46:19.921Z"
   },
   {
    "duration": 612,
    "start_time": "2024-12-05T15:47:03.584Z"
   },
   {
    "duration": 557,
    "start_time": "2024-12-05T16:00:17.126Z"
   },
   {
    "duration": 552,
    "start_time": "2024-12-05T16:02:59.654Z"
   },
   {
    "duration": 541,
    "start_time": "2024-12-05T16:03:11.650Z"
   },
   {
    "duration": 818,
    "start_time": "2024-12-05T16:26:39.383Z"
   },
   {
    "duration": 158,
    "start_time": "2024-12-05T16:26:40.203Z"
   },
   {
    "duration": 28,
    "start_time": "2024-12-05T16:26:40.362Z"
   },
   {
    "duration": 7,
    "start_time": "2024-12-05T16:26:40.391Z"
   },
   {
    "duration": 4,
    "start_time": "2024-12-05T16:26:40.400Z"
   },
   {
    "duration": 3,
    "start_time": "2024-12-05T16:26:40.406Z"
   },
   {
    "duration": 15,
    "start_time": "2024-12-05T16:26:40.410Z"
   },
   {
    "duration": 10,
    "start_time": "2024-12-05T16:26:40.428Z"
   },
   {
    "duration": 6,
    "start_time": "2024-12-05T16:26:40.470Z"
   },
   {
    "duration": 2,
    "start_time": "2024-12-05T16:26:40.477Z"
   },
   {
    "duration": 28,
    "start_time": "2024-12-05T16:26:40.481Z"
   },
   {
    "duration": 6,
    "start_time": "2024-12-05T16:26:40.510Z"
   },
   {
    "duration": 71,
    "start_time": "2024-12-05T16:26:40.520Z"
   },
   {
    "duration": 34,
    "start_time": "2024-12-05T16:26:40.595Z"
   },
   {
    "duration": 19,
    "start_time": "2024-12-05T16:26:40.630Z"
   },
   {
    "duration": 22,
    "start_time": "2024-12-05T16:26:40.651Z"
   },
   {
    "duration": 28,
    "start_time": "2024-12-05T16:26:40.675Z"
   },
   {
    "duration": 3,
    "start_time": "2024-12-05T16:26:40.705Z"
   },
   {
    "duration": 28,
    "start_time": "2024-12-05T16:26:40.710Z"
   },
   {
    "duration": 31,
    "start_time": "2024-12-05T16:26:40.740Z"
   },
   {
    "duration": 51,
    "start_time": "2024-12-05T16:26:40.772Z"
   },
   {
    "duration": 2,
    "start_time": "2024-12-05T16:26:40.825Z"
   },
   {
    "duration": 7,
    "start_time": "2024-12-05T16:26:40.829Z"
   },
   {
    "duration": 46,
    "start_time": "2024-12-05T16:26:40.839Z"
   },
   {
    "duration": 15,
    "start_time": "2024-12-05T16:26:40.886Z"
   },
   {
    "duration": 16,
    "start_time": "2024-12-05T16:26:40.903Z"
   },
   {
    "duration": 123,
    "start_time": "2024-12-05T16:26:40.921Z"
   },
   {
    "duration": 27,
    "start_time": "2024-12-05T16:26:41.046Z"
   },
   {
    "duration": 18,
    "start_time": "2024-12-05T16:26:41.075Z"
   },
   {
    "duration": 10,
    "start_time": "2024-12-05T16:26:41.095Z"
   },
   {
    "duration": 107,
    "start_time": "2024-12-05T16:26:41.106Z"
   },
   {
    "duration": 179,
    "start_time": "2024-12-05T16:26:41.215Z"
   },
   {
    "duration": 238,
    "start_time": "2024-12-05T16:26:41.396Z"
   },
   {
    "duration": 9,
    "start_time": "2024-12-05T16:26:41.637Z"
   },
   {
    "duration": 560,
    "start_time": "2024-12-05T16:26:41.647Z"
   },
   {
    "duration": 163,
    "start_time": "2024-12-05T16:26:42.209Z"
   },
   {
    "duration": 179,
    "start_time": "2024-12-05T16:26:42.373Z"
   },
   {
    "duration": 534,
    "start_time": "2024-12-05T16:26:42.555Z"
   },
   {
    "duration": 234,
    "start_time": "2024-12-05T16:26:43.091Z"
   },
   {
    "duration": 195,
    "start_time": "2024-12-05T16:26:43.326Z"
   },
   {
    "duration": 10,
    "start_time": "2024-12-05T16:26:43.526Z"
   },
   {
    "duration": 564,
    "start_time": "2024-12-05T16:26:43.538Z"
   },
   {
    "duration": 168,
    "start_time": "2024-12-05T16:26:44.103Z"
   },
   {
    "duration": 9,
    "start_time": "2024-12-05T16:26:47.981Z"
   },
   {
    "duration": 220,
    "start_time": "2024-12-05T19:55:30.789Z"
   },
   {
    "duration": 20,
    "start_time": "2024-12-05T19:56:17.164Z"
   },
   {
    "duration": 7,
    "start_time": "2024-12-05T19:56:28.509Z"
   },
   {
    "duration": 7,
    "start_time": "2024-12-05T19:57:33.213Z"
   },
   {
    "duration": 6,
    "start_time": "2024-12-05T19:57:55.177Z"
   },
   {
    "duration": 17,
    "start_time": "2024-12-05T20:01:41.606Z"
   },
   {
    "duration": 788,
    "start_time": "2024-12-05T20:02:00.687Z"
   },
   {
    "duration": 161,
    "start_time": "2024-12-05T20:02:01.477Z"
   },
   {
    "duration": 32,
    "start_time": "2024-12-05T20:02:01.639Z"
   },
   {
    "duration": 7,
    "start_time": "2024-12-05T20:02:01.672Z"
   },
   {
    "duration": 4,
    "start_time": "2024-12-05T20:02:01.682Z"
   },
   {
    "duration": 2,
    "start_time": "2024-12-05T20:02:01.687Z"
   },
   {
    "duration": 14,
    "start_time": "2024-12-05T20:02:01.691Z"
   },
   {
    "duration": 8,
    "start_time": "2024-12-05T20:02:01.707Z"
   },
   {
    "duration": 7,
    "start_time": "2024-12-05T20:02:01.717Z"
   },
   {
    "duration": 52,
    "start_time": "2024-12-05T20:02:01.725Z"
   },
   {
    "duration": 28,
    "start_time": "2024-12-05T20:02:01.779Z"
   },
   {
    "duration": 5,
    "start_time": "2024-12-05T20:02:01.809Z"
   },
   {
    "duration": 75,
    "start_time": "2024-12-05T20:02:01.816Z"
   },
   {
    "duration": 44,
    "start_time": "2024-12-05T20:02:01.896Z"
   },
   {
    "duration": 34,
    "start_time": "2024-12-05T20:02:01.942Z"
   },
   {
    "duration": 6,
    "start_time": "2024-12-05T20:02:01.978Z"
   },
   {
    "duration": 28,
    "start_time": "2024-12-05T20:02:01.985Z"
   },
   {
    "duration": 3,
    "start_time": "2024-12-05T20:02:02.014Z"
   },
   {
    "duration": 24,
    "start_time": "2024-12-05T20:02:02.019Z"
   },
   {
    "duration": 6,
    "start_time": "2024-12-05T20:02:02.070Z"
   },
   {
    "duration": 50,
    "start_time": "2024-12-05T20:02:02.078Z"
   },
   {
    "duration": 2,
    "start_time": "2024-12-05T20:02:02.130Z"
   },
   {
    "duration": 8,
    "start_time": "2024-12-05T20:02:02.134Z"
   },
   {
    "duration": 25,
    "start_time": "2024-12-05T20:02:02.169Z"
   },
   {
    "duration": 16,
    "start_time": "2024-12-05T20:02:02.195Z"
   },
   {
    "duration": 17,
    "start_time": "2024-12-05T20:02:02.213Z"
   },
   {
    "duration": 135,
    "start_time": "2024-12-05T20:02:02.232Z"
   },
   {
    "duration": 18,
    "start_time": "2024-12-05T20:02:02.370Z"
   },
   {
    "duration": 21,
    "start_time": "2024-12-05T20:02:02.390Z"
   },
   {
    "duration": 9,
    "start_time": "2024-12-05T20:02:02.413Z"
   },
   {
    "duration": 117,
    "start_time": "2024-12-05T20:02:02.424Z"
   },
   {
    "duration": 170,
    "start_time": "2024-12-05T20:02:02.542Z"
   },
   {
    "duration": 238,
    "start_time": "2024-12-05T20:02:02.713Z"
   },
   {
    "duration": 19,
    "start_time": "2024-12-05T20:02:02.952Z"
   },
   {
    "duration": 547,
    "start_time": "2024-12-05T20:02:02.973Z"
   },
   {
    "duration": 156,
    "start_time": "2024-12-05T20:02:03.522Z"
   },
   {
    "duration": 181,
    "start_time": "2024-12-05T20:02:03.680Z"
   },
   {
    "duration": 538,
    "start_time": "2024-12-05T20:02:03.863Z"
   },
   {
    "duration": 227,
    "start_time": "2024-12-05T20:02:04.403Z"
   },
   {
    "duration": 190,
    "start_time": "2024-12-05T20:02:04.632Z"
   },
   {
    "duration": 10,
    "start_time": "2024-12-05T20:02:04.827Z"
   },
   {
    "duration": 562,
    "start_time": "2024-12-05T20:02:04.838Z"
   },
   {
    "duration": 165,
    "start_time": "2024-12-05T20:02:05.402Z"
   },
   {
    "duration": 10,
    "start_time": "2024-12-05T20:02:05.569Z"
   },
   {
    "duration": 506,
    "start_time": "2024-12-05T20:02:05.580Z"
   },
   {
    "duration": 6,
    "start_time": "2024-12-05T20:02:06.088Z"
   },
   {
    "duration": 12,
    "start_time": "2024-12-05T20:16:41.962Z"
   },
   {
    "duration": 92,
    "start_time": "2024-12-05T20:16:54.914Z"
   },
   {
    "duration": 6,
    "start_time": "2024-12-05T20:19:03.469Z"
   },
   {
    "duration": 12,
    "start_time": "2024-12-05T20:19:17.170Z"
   },
   {
    "duration": 7,
    "start_time": "2024-12-05T20:29:17.884Z"
   },
   {
    "duration": 5,
    "start_time": "2024-12-05T20:29:52.235Z"
   },
   {
    "duration": 7,
    "start_time": "2024-12-05T20:29:59.354Z"
   },
   {
    "duration": 7,
    "start_time": "2024-12-05T20:30:13.610Z"
   },
   {
    "duration": 5,
    "start_time": "2024-12-05T20:30:21.236Z"
   },
   {
    "duration": 7,
    "start_time": "2024-12-05T20:30:47.126Z"
   },
   {
    "duration": 20,
    "start_time": "2024-12-05T21:53:20.030Z"
   },
   {
    "duration": 9,
    "start_time": "2024-12-05T21:53:41.346Z"
   },
   {
    "duration": 20,
    "start_time": "2024-12-05T21:53:55.155Z"
   },
   {
    "duration": 128,
    "start_time": "2024-12-05T21:54:22.554Z"
   },
   {
    "duration": 7,
    "start_time": "2024-12-05T21:54:31.057Z"
   },
   {
    "duration": 3,
    "start_time": "2024-12-05T21:56:44.637Z"
   },
   {
    "duration": 155,
    "start_time": "2024-12-05T21:56:44.642Z"
   },
   {
    "duration": 23,
    "start_time": "2024-12-05T21:56:44.799Z"
   },
   {
    "duration": 7,
    "start_time": "2024-12-05T21:56:44.824Z"
   },
   {
    "duration": 4,
    "start_time": "2024-12-05T21:56:44.833Z"
   },
   {
    "duration": 2,
    "start_time": "2024-12-05T21:56:44.839Z"
   },
   {
    "duration": 16,
    "start_time": "2024-12-05T21:56:44.869Z"
   },
   {
    "duration": 8,
    "start_time": "2024-12-05T21:56:44.887Z"
   },
   {
    "duration": 6,
    "start_time": "2024-12-05T21:56:44.897Z"
   },
   {
    "duration": 16,
    "start_time": "2024-12-05T21:56:44.904Z"
   },
   {
    "duration": 60,
    "start_time": "2024-12-05T21:56:44.923Z"
   },
   {
    "duration": 7,
    "start_time": "2024-12-05T21:56:44.984Z"
   },
   {
    "duration": 46,
    "start_time": "2024-12-05T21:56:44.992Z"
   },
   {
    "duration": 52,
    "start_time": "2024-12-05T21:56:45.039Z"
   },
   {
    "duration": 18,
    "start_time": "2024-12-05T21:56:45.093Z"
   },
   {
    "duration": 5,
    "start_time": "2024-12-05T21:56:45.113Z"
   },
   {
    "duration": 50,
    "start_time": "2024-12-05T21:56:45.120Z"
   },
   {
    "duration": 3,
    "start_time": "2024-12-05T21:56:45.172Z"
   },
   {
    "duration": 30,
    "start_time": "2024-12-05T21:56:45.176Z"
   },
   {
    "duration": 9,
    "start_time": "2024-12-05T21:56:45.208Z"
   },
   {
    "duration": 75,
    "start_time": "2024-12-05T21:56:45.219Z"
   },
   {
    "duration": 2,
    "start_time": "2024-12-05T21:56:45.296Z"
   },
   {
    "duration": 6,
    "start_time": "2024-12-05T21:56:45.300Z"
   },
   {
    "duration": 21,
    "start_time": "2024-12-05T21:56:45.308Z"
   },
   {
    "duration": 13,
    "start_time": "2024-12-05T21:56:45.331Z"
   },
   {
    "duration": 37,
    "start_time": "2024-12-05T21:56:45.345Z"
   },
   {
    "duration": 110,
    "start_time": "2024-12-05T21:56:45.383Z"
   },
   {
    "duration": 20,
    "start_time": "2024-12-05T21:56:45.494Z"
   },
   {
    "duration": 22,
    "start_time": "2024-12-05T21:56:45.518Z"
   },
   {
    "duration": 30,
    "start_time": "2024-12-05T21:56:45.542Z"
   },
   {
    "duration": 98,
    "start_time": "2024-12-05T21:56:45.573Z"
   },
   {
    "duration": 227,
    "start_time": "2024-12-05T21:56:45.672Z"
   },
   {
    "duration": 201,
    "start_time": "2024-12-05T21:56:45.900Z"
   },
   {
    "duration": 10,
    "start_time": "2024-12-05T21:56:46.102Z"
   },
   {
    "duration": 608,
    "start_time": "2024-12-05T21:56:46.113Z"
   },
   {
    "duration": 166,
    "start_time": "2024-12-05T21:56:46.723Z"
   },
   {
    "duration": 190,
    "start_time": "2024-12-05T21:56:46.891Z"
   },
   {
    "duration": 585,
    "start_time": "2024-12-05T21:56:47.083Z"
   },
   {
    "duration": 160,
    "start_time": "2024-12-05T21:56:47.670Z"
   },
   {
    "duration": 189,
    "start_time": "2024-12-05T21:56:47.832Z"
   },
   {
    "duration": 9,
    "start_time": "2024-12-05T21:56:48.023Z"
   },
   {
    "duration": 587,
    "start_time": "2024-12-05T21:56:48.033Z"
   },
   {
    "duration": 166,
    "start_time": "2024-12-05T21:56:48.622Z"
   },
   {
    "duration": 9,
    "start_time": "2024-12-05T21:56:48.790Z"
   },
   {
    "duration": 536,
    "start_time": "2024-12-05T21:56:48.800Z"
   },
   {
    "duration": 653,
    "start_time": "2024-12-05T21:57:50.752Z"
   },
   {
    "duration": 574,
    "start_time": "2024-12-05T21:58:06.208Z"
   },
   {
    "duration": 7,
    "start_time": "2024-12-05T21:58:33.138Z"
   },
   {
    "duration": 5,
    "start_time": "2024-12-05T21:58:53.086Z"
   },
   {
    "duration": 7,
    "start_time": "2024-12-05T22:02:54.165Z"
   },
   {
    "duration": 8,
    "start_time": "2024-12-05T22:03:05.259Z"
   },
   {
    "duration": 4,
    "start_time": "2024-12-05T22:04:53.016Z"
   },
   {
    "duration": 8,
    "start_time": "2024-12-05T22:05:00.017Z"
   },
   {
    "duration": 7,
    "start_time": "2024-12-05T22:05:22.352Z"
   },
   {
    "duration": 6,
    "start_time": "2024-12-05T22:05:36.762Z"
   },
   {
    "duration": 178,
    "start_time": "2024-12-05T22:07:45.937Z"
   },
   {
    "duration": 116,
    "start_time": "2024-12-05T22:07:57.075Z"
   },
   {
    "duration": 7,
    "start_time": "2024-12-05T22:10:24.365Z"
   },
   {
    "duration": 3,
    "start_time": "2024-12-05T22:20:17.978Z"
   },
   {
    "duration": 17,
    "start_time": "2024-12-05T22:20:22.729Z"
   },
   {
    "duration": 5,
    "start_time": "2024-12-05T22:21:47.781Z"
   },
   {
    "duration": 3,
    "start_time": "2024-12-05T22:22:04.539Z"
   },
   {
    "duration": 3,
    "start_time": "2024-12-05T22:22:10.438Z"
   },
   {
    "duration": 18,
    "start_time": "2024-12-05T22:22:24.737Z"
   },
   {
    "duration": 796,
    "start_time": "2024-12-05T22:22:49.269Z"
   },
   {
    "duration": 156,
    "start_time": "2024-12-05T22:22:50.067Z"
   },
   {
    "duration": 26,
    "start_time": "2024-12-05T22:22:50.225Z"
   },
   {
    "duration": 6,
    "start_time": "2024-12-05T22:22:50.254Z"
   },
   {
    "duration": 5,
    "start_time": "2024-12-05T22:22:50.270Z"
   },
   {
    "duration": 3,
    "start_time": "2024-12-05T22:22:50.276Z"
   },
   {
    "duration": 14,
    "start_time": "2024-12-05T22:22:50.280Z"
   },
   {
    "duration": 7,
    "start_time": "2024-12-05T22:22:50.296Z"
   },
   {
    "duration": 6,
    "start_time": "2024-12-05T22:22:50.305Z"
   },
   {
    "duration": 14,
    "start_time": "2024-12-05T22:22:50.314Z"
   },
   {
    "duration": 64,
    "start_time": "2024-12-05T22:22:50.330Z"
   },
   {
    "duration": 7,
    "start_time": "2024-12-05T22:22:50.396Z"
   },
   {
    "duration": 68,
    "start_time": "2024-12-05T22:22:50.404Z"
   },
   {
    "duration": 35,
    "start_time": "2024-12-05T22:22:50.474Z"
   },
   {
    "duration": 18,
    "start_time": "2024-12-05T22:22:50.510Z"
   },
   {
    "duration": 6,
    "start_time": "2024-12-05T22:22:50.530Z"
   },
   {
    "duration": 57,
    "start_time": "2024-12-05T22:22:50.538Z"
   },
   {
    "duration": 2,
    "start_time": "2024-12-05T22:22:50.597Z"
   },
   {
    "duration": 24,
    "start_time": "2024-12-05T22:22:50.601Z"
   },
   {
    "duration": 6,
    "start_time": "2024-12-05T22:22:50.626Z"
   },
   {
    "duration": 72,
    "start_time": "2024-12-05T22:22:50.634Z"
   },
   {
    "duration": 3,
    "start_time": "2024-12-05T22:22:50.707Z"
   },
   {
    "duration": 7,
    "start_time": "2024-12-05T22:22:50.711Z"
   },
   {
    "duration": 26,
    "start_time": "2024-12-05T22:22:50.720Z"
   },
   {
    "duration": 36,
    "start_time": "2024-12-05T22:22:50.748Z"
   },
   {
    "duration": 17,
    "start_time": "2024-12-05T22:22:50.785Z"
   },
   {
    "duration": 115,
    "start_time": "2024-12-05T22:22:50.804Z"
   },
   {
    "duration": 24,
    "start_time": "2024-12-05T22:22:50.924Z"
   },
   {
    "duration": 43,
    "start_time": "2024-12-05T22:22:50.950Z"
   },
   {
    "duration": 10,
    "start_time": "2024-12-05T22:22:50.995Z"
   },
   {
    "duration": 99,
    "start_time": "2024-12-05T22:22:51.007Z"
   },
   {
    "duration": 177,
    "start_time": "2024-12-05T22:22:51.107Z"
   },
   {
    "duration": 242,
    "start_time": "2024-12-05T22:22:51.286Z"
   },
   {
    "duration": 10,
    "start_time": "2024-12-05T22:22:51.529Z"
   },
   {
    "duration": 587,
    "start_time": "2024-12-05T22:22:51.541Z"
   },
   {
    "duration": 162,
    "start_time": "2024-12-05T22:22:52.130Z"
   },
   {
    "duration": 184,
    "start_time": "2024-12-05T22:22:52.294Z"
   },
   {
    "duration": 528,
    "start_time": "2024-12-05T22:22:52.480Z"
   },
   {
    "duration": 233,
    "start_time": "2024-12-05T22:22:53.010Z"
   },
   {
    "duration": 199,
    "start_time": "2024-12-05T22:22:53.245Z"
   },
   {
    "duration": 9,
    "start_time": "2024-12-05T22:22:53.447Z"
   },
   {
    "duration": 543,
    "start_time": "2024-12-05T22:22:53.470Z"
   },
   {
    "duration": 169,
    "start_time": "2024-12-05T22:22:54.015Z"
   },
   {
    "duration": 10,
    "start_time": "2024-12-05T22:22:54.186Z"
   },
   {
    "duration": 545,
    "start_time": "2024-12-05T22:22:54.198Z"
   },
   {
    "duration": 6,
    "start_time": "2024-12-05T22:22:54.745Z"
   },
   {
    "duration": 8,
    "start_time": "2024-12-05T22:23:22.403Z"
   },
   {
    "duration": 6,
    "start_time": "2024-12-05T22:25:21.040Z"
   },
   {
    "duration": 17,
    "start_time": "2024-12-05T22:34:50.240Z"
   },
   {
    "duration": 801,
    "start_time": "2024-12-05T22:35:49.203Z"
   },
   {
    "duration": 156,
    "start_time": "2024-12-05T22:35:51.373Z"
   },
   {
    "duration": 28,
    "start_time": "2024-12-05T22:35:54.285Z"
   },
   {
    "duration": 8,
    "start_time": "2024-12-05T22:35:58.338Z"
   },
   {
    "duration": 5,
    "start_time": "2024-12-05T22:36:03.648Z"
   },
   {
    "duration": 2,
    "start_time": "2024-12-05T22:36:08.606Z"
   },
   {
    "duration": 17,
    "start_time": "2024-12-05T22:36:11.078Z"
   },
   {
    "duration": 9,
    "start_time": "2024-12-05T22:36:14.732Z"
   },
   {
    "duration": 16,
    "start_time": "2024-12-05T22:36:19.850Z"
   },
   {
    "duration": 16,
    "start_time": "2024-12-05T22:36:26.594Z"
   },
   {
    "duration": 17,
    "start_time": "2024-12-05T22:36:57.049Z"
   },
   {
    "duration": 29,
    "start_time": "2024-12-05T22:37:01.970Z"
   },
   {
    "duration": 6,
    "start_time": "2024-12-05T22:37:06.609Z"
   },
   {
    "duration": 56,
    "start_time": "2024-12-05T22:43:07.910Z"
   },
   {
    "duration": 45,
    "start_time": "2024-12-05T22:44:06.133Z"
   },
   {
    "duration": 18,
    "start_time": "2024-12-05T22:44:11.032Z"
   },
   {
    "duration": 5,
    "start_time": "2024-12-05T22:44:18.410Z"
   },
   {
    "duration": 29,
    "start_time": "2024-12-05T22:45:11.390Z"
   },
   {
    "duration": 3,
    "start_time": "2024-12-05T22:48:14.220Z"
   },
   {
    "duration": 25,
    "start_time": "2024-12-05T22:48:18.372Z"
   },
   {
    "duration": 6,
    "start_time": "2024-12-05T22:48:32.670Z"
   },
   {
    "duration": 53,
    "start_time": "2024-12-05T22:51:35.289Z"
   },
   {
    "duration": 8,
    "start_time": "2024-12-05T22:51:39.936Z"
   },
   {
    "duration": 7,
    "start_time": "2024-12-05T22:53:10.244Z"
   },
   {
    "duration": 25,
    "start_time": "2024-12-05T22:53:13.464Z"
   },
   {
    "duration": 15,
    "start_time": "2024-12-05T22:53:16.998Z"
   },
   {
    "duration": 18,
    "start_time": "2024-12-05T22:53:21.922Z"
   },
   {
    "duration": 278,
    "start_time": "2024-12-05T22:53:46.713Z"
   },
   {
    "duration": 102,
    "start_time": "2024-12-05T22:53:51.167Z"
   },
   {
    "duration": 19,
    "start_time": "2024-12-05T22:54:06.638Z"
   },
   {
    "duration": 23,
    "start_time": "2024-12-05T22:54:17.662Z"
   },
   {
    "duration": 10,
    "start_time": "2024-12-05T22:54:37.415Z"
   },
   {
    "duration": 93,
    "start_time": "2024-12-05T22:54:43.769Z"
   },
   {
    "duration": 168,
    "start_time": "2024-12-05T22:54:59.753Z"
   },
   {
    "duration": 196,
    "start_time": "2024-12-05T22:59:36.183Z"
   },
   {
    "duration": 9,
    "start_time": "2024-12-05T23:16:57.324Z"
   },
   {
    "duration": 531,
    "start_time": "2024-12-05T23:18:43.994Z"
   },
   {
    "duration": 155,
    "start_time": "2024-12-05T23:21:34.658Z"
   },
   {
    "duration": 548,
    "start_time": "2024-12-05T23:22:48.762Z"
   },
   {
    "duration": 154,
    "start_time": "2024-12-05T23:22:55.499Z"
   },
   {
    "duration": 159,
    "start_time": "2024-12-05T23:23:04.285Z"
   },
   {
    "duration": 158,
    "start_time": "2024-12-05T23:23:38.496Z"
   },
   {
    "duration": 271,
    "start_time": "2024-12-05T23:23:42.072Z"
   },
   {
    "duration": 9,
    "start_time": "2024-12-05T23:23:45.703Z"
   },
   {
    "duration": 552,
    "start_time": "2024-12-05T23:23:49.261Z"
   },
   {
    "duration": 173,
    "start_time": "2024-12-05T23:49:53.178Z"
   },
   {
    "duration": 187,
    "start_time": "2024-12-05T23:50:52.598Z"
   },
   {
    "duration": 174,
    "start_time": "2024-12-05T23:54:33.138Z"
   },
   {
    "duration": 635,
    "start_time": "2024-12-05T23:56:46.958Z"
   },
   {
    "duration": 151,
    "start_time": "2024-12-06T00:03:26.021Z"
   },
   {
    "duration": 187,
    "start_time": "2024-12-06T00:14:18.559Z"
   },
   {
    "duration": 187,
    "start_time": "2024-12-06T00:14:23.192Z"
   },
   {
    "duration": 190,
    "start_time": "2024-12-06T00:14:54.328Z"
   },
   {
    "duration": 652,
    "start_time": "2024-12-06T00:17:14.940Z"
   },
   {
    "duration": 562,
    "start_time": "2024-12-06T00:18:10.034Z"
   },
   {
    "duration": 158,
    "start_time": "2024-12-06T00:18:17.641Z"
   },
   {
    "duration": 193,
    "start_time": "2024-12-06T00:18:22.482Z"
   },
   {
    "duration": 549,
    "start_time": "2024-12-06T00:18:55.214Z"
   },
   {
    "duration": 163,
    "start_time": "2024-12-06T00:19:39.652Z"
   },
   {
    "duration": 9,
    "start_time": "2024-12-06T00:47:10.098Z"
   },
   {
    "duration": 638,
    "start_time": "2024-12-06T00:47:16.364Z"
   },
   {
    "duration": 546,
    "start_time": "2024-12-06T00:48:22.614Z"
   },
   {
    "duration": 7,
    "start_time": "2024-12-06T00:49:30.632Z"
   },
   {
    "duration": 7,
    "start_time": "2024-12-06T00:49:33.119Z"
   },
   {
    "duration": 831,
    "start_time": "2024-12-06T00:57:49.903Z"
   },
   {
    "duration": 159,
    "start_time": "2024-12-06T00:57:50.736Z"
   },
   {
    "duration": 26,
    "start_time": "2024-12-06T00:57:50.896Z"
   },
   {
    "duration": 6,
    "start_time": "2024-12-06T00:57:50.924Z"
   },
   {
    "duration": 5,
    "start_time": "2024-12-06T00:57:50.932Z"
   },
   {
    "duration": 3,
    "start_time": "2024-12-06T00:57:50.938Z"
   },
   {
    "duration": 37,
    "start_time": "2024-12-06T00:57:50.943Z"
   },
   {
    "duration": 7,
    "start_time": "2024-12-06T00:57:50.982Z"
   },
   {
    "duration": 15,
    "start_time": "2024-12-06T00:57:50.993Z"
   },
   {
    "duration": 16,
    "start_time": "2024-12-06T00:57:51.009Z"
   },
   {
    "duration": 57,
    "start_time": "2024-12-06T00:57:51.027Z"
   },
   {
    "duration": 6,
    "start_time": "2024-12-06T00:57:51.086Z"
   },
   {
    "duration": 54,
    "start_time": "2024-12-06T00:57:51.094Z"
   },
   {
    "duration": 34,
    "start_time": "2024-12-06T00:57:51.170Z"
   },
   {
    "duration": 19,
    "start_time": "2024-12-06T00:57:51.205Z"
   },
   {
    "duration": 6,
    "start_time": "2024-12-06T00:57:51.225Z"
   },
   {
    "duration": 55,
    "start_time": "2024-12-06T00:57:51.232Z"
   },
   {
    "duration": 2,
    "start_time": "2024-12-06T00:57:51.289Z"
   },
   {
    "duration": 24,
    "start_time": "2024-12-06T00:57:51.293Z"
   },
   {
    "duration": 6,
    "start_time": "2024-12-06T00:57:51.318Z"
   },
   {
    "duration": 81,
    "start_time": "2024-12-06T00:57:51.325Z"
   },
   {
    "duration": 3,
    "start_time": "2024-12-06T00:57:51.407Z"
   },
   {
    "duration": 7,
    "start_time": "2024-12-06T00:57:51.412Z"
   },
   {
    "duration": 27,
    "start_time": "2024-12-06T00:57:51.420Z"
   },
   {
    "duration": 37,
    "start_time": "2024-12-06T00:57:51.448Z"
   },
   {
    "duration": 17,
    "start_time": "2024-12-06T00:57:51.487Z"
   },
   {
    "duration": 149,
    "start_time": "2024-12-06T00:57:51.506Z"
   },
   {
    "duration": 27,
    "start_time": "2024-12-06T00:57:51.657Z"
   },
   {
    "duration": 22,
    "start_time": "2024-12-06T00:57:51.686Z"
   },
   {
    "duration": 11,
    "start_time": "2024-12-06T00:57:51.710Z"
   },
   {
    "duration": 107,
    "start_time": "2024-12-06T00:57:51.723Z"
   },
   {
    "duration": 178,
    "start_time": "2024-12-06T00:57:51.832Z"
   },
   {
    "duration": 243,
    "start_time": "2024-12-06T00:57:52.012Z"
   },
   {
    "duration": 14,
    "start_time": "2024-12-06T00:57:52.257Z"
   },
   {
    "duration": 540,
    "start_time": "2024-12-06T00:57:52.272Z"
   },
   {
    "duration": 161,
    "start_time": "2024-12-06T00:57:52.814Z"
   },
   {
    "duration": 193,
    "start_time": "2024-12-06T00:57:52.977Z"
   },
   {
    "duration": 538,
    "start_time": "2024-12-06T00:57:53.171Z"
   },
   {
    "duration": 246,
    "start_time": "2024-12-06T00:57:53.711Z"
   },
   {
    "duration": 193,
    "start_time": "2024-12-06T00:57:53.959Z"
   },
   {
    "duration": 542,
    "start_time": "2024-12-06T00:57:54.157Z"
   },
   {
    "duration": 171,
    "start_time": "2024-12-06T00:57:54.701Z"
   },
   {
    "duration": 8,
    "start_time": "2024-12-06T00:57:54.874Z"
   },
   {
    "duration": 515,
    "start_time": "2024-12-06T00:57:54.884Z"
   },
   {
    "duration": 6,
    "start_time": "2024-12-06T00:57:55.402Z"
   },
   {
    "duration": 6,
    "start_time": "2024-12-06T00:57:55.410Z"
   }
  ],
  "colab": {
   "provenance": []
  },
  "kernelspec": {
   "display_name": "Python 3",
   "language": "python",
   "name": "python3"
  },
  "language_info": {
   "codemirror_mode": {
    "name": "ipython",
    "version": 3
   },
   "file_extension": ".py",
   "mimetype": "text/x-python",
   "name": "python",
   "nbconvert_exporter": "python",
   "pygments_lexer": "ipython3",
   "version": "3.13.0"
  },
  "toc": {
   "base_numbering": 1,
   "nav_menu": {},
   "number_sections": true,
   "sideBar": true,
   "skip_h1_title": false,
   "title_cell": "Table of Contents",
   "title_sidebar": "Contents",
   "toc_cell": false,
   "toc_position": {
    "height": "calc(100% - 180px)",
    "left": "10px",
    "top": "150px",
    "width": "284.797px"
   },
   "toc_section_display": true,
   "toc_window_display": true
  }
 },
 "nbformat": 4,
 "nbformat_minor": 1
}
